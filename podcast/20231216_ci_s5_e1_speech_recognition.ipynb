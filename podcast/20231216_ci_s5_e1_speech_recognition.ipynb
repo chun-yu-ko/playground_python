{
  "cells": [
    {
      "cell_type": "markdown",
      "metadata": {
        "colab_type": "text",
        "id": "view-in-github"
      },
      "source": [
        "<a href=\"https://colab.research.google.com/github/seimwiwa/playground_python/blob/main/20231216_podcast_analysis_asr.ipynb\" target=\"_parent\"><img src=\"https://colab.research.google.com/assets/colab-badge.svg\" alt=\"Open In Colab\"/></a>"
      ]
    },
    {
      "cell_type": "code",
      "execution_count": 3,
      "metadata": {
        "id": "hqWQXegCwToO"
      },
      "outputs": [],
      "source": [
        "#@title Install\n",
        "%%capture\n",
        "\n",
        "!pip install pydub"
      ]
    },
    {
      "cell_type": "code",
      "execution_count": 29,
      "metadata": {
        "id": "Iy-QS7ekvmEq"
      },
      "outputs": [],
      "source": [
        "#@title Import\n",
        "%%capture\n",
        "\n",
        "import torch, json, os\n",
        "from google.colab import drive\n",
        "from pydub import AudioSegment\n",
        "from transformers import AutoModelForSpeechSeq2Seq, AutoProcessor, pipeline\n",
        "import pandas as pd"
      ]
    },
    {
      "cell_type": "code",
      "execution_count": 5,
      "metadata": {
        "colab": {
          "base_uri": "https://localhost:8080/"
        },
        "id": "iPNp2C46vrR7",
        "outputId": "e67edf4b-eb27-4a8d-df9b-720404de66f1"
      },
      "outputs": [
        {
          "name": "stdout",
          "output_type": "stream",
          "text": [
            "Mounted at /content/drive\n"
          ]
        }
      ],
      "source": [
        "#@title Conntect Google Drive\n",
        "drive.mount(\"/content/drive\")"
      ]
    },
    {
      "cell_type": "code",
      "execution_count": 16,
      "metadata": {
        "id": "r3eYtFB1xXc1"
      },
      "outputs": [],
      "source": [
        "#@title List Aplited Audio\n",
        "path = \"/content/drive/MyDrive/(07) Colab/20231216_podcast_analysis/splited_audio/\"\n",
        "files = os.listdir(path)"
      ]
    },
    {
      "cell_type": "code",
      "execution_count": 6,
      "metadata": {
        "id": "zg3GP2RUvx4m"
      },
      "outputs": [],
      "source": [
        "#@title Prepare ASR Model\n",
        "%%capture\n",
        "\n",
        "name = \"openai/whisper-large-v3\"\n",
        "torch_dtype = torch.float16\n",
        "device = \"cuda:0\"\n",
        "\n",
        "model = AutoModelForSpeechSeq2Seq.from_pretrained(name, torch_dtype = torch_dtype)\n",
        "model.to(device)\n",
        "\n",
        "processor = AutoProcessor.from_pretrained(name)\n",
        "\n",
        "pipe = pipeline(\"automatic-speech-recognition\", model = model, tokenizer = processor.tokenizer,\n",
        "                feature_extractor = processor.feature_extractor, max_new_tokens = 128, chunk_length_s = 30,\n",
        "                batch_size = 16, return_timestamps = False, torch_dtype = torch_dtype, device = device)"
      ]
    },
    {
      "cell_type": "code",
      "execution_count": 23,
      "metadata": {
        "id": "9eHfHgMjw_si"
      },
      "outputs": [],
      "source": [
        "#@title Get Scripts\n",
        "%%capture\n",
        "\n",
        "scripts = [pipe(path + i, generate_kwargs = {\"language\": \"english\"}) for i in files]"
      ]
    },
    {
      "cell_type": "code",
      "execution_count": null,
      "metadata": {
        "colab": {
          "base_uri": "https://localhost:8080/"
        },
        "id": "mit1qUq8z3Ml",
        "outputId": "166076be-ccd1-49c7-f07d-95f36417586c"
      },
      "outputs": [],
      "source": [
        "#@title Clean up the scripts\n",
        "data = pd.DataFrame({\"file_name\": files, \"text\": [i[\"text\"] for i in scripts]})\n",
        "data[\"id\"] = data.file_name.str.replace(\".mp3\", \"\").astype(int)\n",
        "data = data.sort_values([\"id\"]).drop([\"file_name\"], axis = 1).filter([\"id\", \"text\"]).reset_index(drop = True)"
      ]
    },
    {
      "cell_type": "code",
      "execution_count": 51,
      "metadata": {
        "id": "_MuXqeZh0gn1"
      },
      "outputs": [],
      "source": [
        "#@title Save The Scripts\n",
        "data.to_csv(\"/content/drive/MyDrive/(07) Colab/20231216_podcast_analysis/scripts.csv\", index=False)"
      ]
    }
  ],
  "metadata": {
    "accelerator": "GPU",
    "colab": {
      "authorship_tag": "ABX9TyN7BAYpAMr8H49n+2UXxrn5",
      "gpuType": "A100",
      "include_colab_link": true,
      "machine_shape": "hm",
      "provenance": []
    },
    "kernelspec": {
      "display_name": "Python 3",
      "name": "python3"
    },
    "language_info": {
      "name": "python"
    }
  },
  "nbformat": 4,
  "nbformat_minor": 0
}
