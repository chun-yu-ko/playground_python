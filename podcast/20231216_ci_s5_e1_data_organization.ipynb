{
  "nbformat": 4,
  "nbformat_minor": 0,
  "metadata": {
    "colab": {
      "provenance": [],
      "authorship_tag": "ABX9TyMGb5OUtbIEVPDOWpi9dp5t"
    },
    "kernelspec": {
      "name": "python3",
      "display_name": "Python 3"
    },
    "language_info": {
      "name": "python"
    }
  },
  "cells": [
    {
      "cell_type": "code",
      "source": [
        "#@title Install\n",
        "%%capture\n",
        "\n",
        "!pip install pydub"
      ],
      "metadata": {
        "id": "wtmJ4DWXt1h_"
      },
      "execution_count": 2,
      "outputs": []
    },
    {
      "cell_type": "code",
      "source": [
        "#@title Import\n",
        "%%capture\n",
        "\n",
        "import requests, json\n",
        "from pydub import AudioSegment\n",
        "from pydub.silence import split_on_silence\n",
        "from google.colab import drive"
      ],
      "metadata": {
        "id": "eSz0i6q-tspy"
      },
      "execution_count": 12,
      "outputs": []
    },
    {
      "cell_type": "code",
      "source": [
        "#@title Conntect Google Drive\n",
        "drive.mount(\"/content/drive\")"
      ],
      "metadata": {
        "colab": {
          "base_uri": "https://localhost:8080/"
        },
        "id": "xW37kEurtttc",
        "outputId": "9251ef21-40ee-4c0c-c0e9-b516c90621fc"
      },
      "execution_count": 4,
      "outputs": [
        {
          "output_type": "stream",
          "name": "stdout",
          "text": [
            "Mounted at /content/drive\n"
          ]
        }
      ]
    },
    {
      "cell_type": "code",
      "execution_count": 6,
      "metadata": {
        "id": "D9hpWT0ptYzr"
      },
      "outputs": [],
      "source": [
        "#@title Download Podcast Audio\n",
        "\n",
        "def download_file(url, path):\n",
        "    response = requests.get(url)\n",
        "    with open(path, \"wb\") as file:\n",
        "      file.write(response.content)\n",
        "\n",
        "url = \"https://content.libsyn.com/p/1/1/2/1122415982dc17f7/CIS5E1.mp3?c_id=162441116&response-content-disposition=attachment&cs_id=162441116&destination_id=1431812&response-content-type=audio%2Fmpeg&Expires=1702699345&Signature=Ijfr0TwkoCQMmhm8viPRhtN~E7z3wtHW1B1H1eJF7gdm~1lUclN4Cb9iX156e2RfkG9MvEqkiaLDygTR6lxMFEv3ba6735CnVUOQfNDKBuj-CEayDcpN8~9yX7Pl1H89sdDMjwvmaqoxh9WQutNAS1Tx8CS85s34mwGJja0Pls6OAd92sGEKCQC62T2j7GNORovxwJDyyM~GN4ekI0PeBpigRAdJt~5~auJYxlf5msS0kB2YPD6CxEi2~lOKhgfsmQLsZ7swe1NCuexg~A2Q-IMUrdhnWFLieSWTbtGllVaiNEE3xDvVztFfj~iDnchv~8LjUiK~BY2Z1eAwFdrIJg__&Key-Pair-Id=K1YS7LZGUP96OI\"\n",
        "path = \"/content/drive/MyDrive/(07) Colab/20231216_podcast_analysis/CIS5E1.mp3\"\n",
        "\n",
        "download_file(url, path)"
      ]
    },
    {
      "cell_type": "code",
      "source": [
        "#@title Read Audio\n",
        "\n",
        "audio = AudioSegment.from_mp3(path)"
      ],
      "metadata": {
        "id": "zRKpurlguIIU"
      },
      "execution_count": 7,
      "outputs": []
    },
    {
      "cell_type": "code",
      "source": [
        "#@title Split Audio\n",
        "splited_audio = split_on_silence(audio, silence_thresh = -31)"
      ],
      "metadata": {
        "id": "tMAJLnUcuOG4"
      },
      "execution_count": 13,
      "outputs": []
    },
    {
      "cell_type": "code",
      "source": [
        "#@title Save Splited Audio\n",
        "for i, segment in enumerate(splited_audio):\n",
        "    segment.export(f\"/content/drive/MyDrive/(07) Colab/20231216_podcast_analysis/splited_audio/{i}.mp3\", format = \"mp3\")"
      ],
      "metadata": {
        "id": "IvF4_qWoucTD"
      },
      "execution_count": 17,
      "outputs": []
    }
  ]
}