{
 "cells": [
  {
   "cell_type": "code",
   "execution_count": null,
   "metadata": {},
   "outputs": [],
   "source": [
    "import utils, pc_algorithm, random, copy, statistics\n",
    "import pandas as pd\n",
    "import numpy as np\n",
    "import networkx as nx\n",
    "from itertools import product\n",
    "from pgmpy.estimators import BicScore"
   ]
  },
  {
   "cell_type": "code",
   "execution_count": null,
   "metadata": {},
   "outputs": [],
   "source": [
    "data = utils.get_data_from_ucirepo(109)\n",
    "data.info()"
   ]
  },
  {
   "cell_type": "code",
   "execution_count": null,
   "metadata": {},
   "outputs": [],
   "source": [
    "# <class 'pandas.core.frame.DataFrame'>\n",
    "# RangeIndex: 178 entries, 0 to 177\n",
    "# Data columns (total 15 columns):\n",
    "#  #   Column                        Non-Null Count  Dtype  \n",
    "# ---  ------                        --------------  -----  \n",
    "#  0   Alcohol                       178 non-null    float64\n",
    "#  1   Malicacid                     178 non-null    float64\n",
    "#  2   Ash                           178 non-null    float64\n",
    "#  3   Alcalinity_of_ash             178 non-null    float64\n",
    "#  4   Magnesium                     178 non-null    int64  \n",
    "#  5   Total_phenols                 178 non-null    float64\n",
    "#  6   Flavanoids                    178 non-null    float64\n",
    "#  7   Nonflavanoid_phenols          178 non-null    float64\n",
    "#  8   Proanthocyanins               178 non-null    float64\n",
    "#  9   Color_intensity               178 non-null    float64\n",
    "#  10  Hue                           178 non-null    float64\n",
    "#  11  0D280_0D315_of_diluted_wines  178 non-null    float64\n",
    "#  12  Proline                       178 non-null    int64  \n",
    "#  13  class_2                       178 non-null    int64  \n",
    "#  14  class_3                       178 non-null    int64  \n",
    "# dtypes: float64(11), int64(4)\n",
    "# memory usage: 21.0 KB"
   ]
  },
  {
   "cell_type": "code",
   "execution_count": null,
   "metadata": {},
   "outputs": [],
   "source": [
    "labels = data.columns.tolist()\n",
    "data = np.array(data)"
   ]
  },
  {
   "cell_type": "code",
   "execution_count": null,
   "metadata": {},
   "outputs": [],
   "source": [
    "graph, sepetated_set = pc_algorithm.pc_get_graph(data)\n",
    "cpdag_graph = pc_algorithm.pc_apply_rules(graph, sepetated_set)"
   ]
  },
  {
   "cell_type": "code",
   "execution_count": null,
   "metadata": {},
   "outputs": [],
   "source": [
    "network_graph = nx.DiGraph(cpdag_graph)\n",
    "pos = nx.kamada_kawai_layout(network_graph)"
   ]
  },
  {
   "cell_type": "code",
   "execution_count": null,
   "metadata": {},
   "outputs": [],
   "source": [
    "print(\"Is Directed?: \" + str(nx.is_directed(network_graph)))\n",
    "print(\"Is DAG?: \" + str(nx.is_directed_acyclic_graph(network_graph)))"
   ]
  },
  {
   "cell_type": "code",
   "execution_count": null,
   "metadata": {},
   "outputs": [],
   "source": [
    "undirected_edges = {frozenset(i) for i in network_graph.edges() if network_graph.has_edge(*i[::-1])}\n",
    "edge_colors = [\"red\" if frozenset(edge) in undirected_edges else \"gray\" for edge in network_graph.edges()]"
   ]
  },
  {
   "cell_type": "code",
   "execution_count": null,
   "metadata": {},
   "outputs": [],
   "source": [
    "nx.draw(network_graph, pos,\n",
    "        edge_color = edge_colors,\n",
    "        width=1,\n",
    "        linewidths = 1,\n",
    "        node_size = 600,\n",
    "        font_size = 6,\n",
    "        node_color=\"pink\",\n",
    "        alpha=0.9,\n",
    "        labels=dict(zip(range(len(labels)), labels)))"
   ]
  },
  {
   "cell_type": "code",
   "execution_count": null,
   "metadata": {},
   "outputs": [],
   "source": [
    "possible_edges = list(product([0, 1], repeat = len(undirected_edges)))\n",
    "print(\"All posiible graphs: \" + str(len(possible_edges)))"
   ]
  },
  {
   "cell_type": "code",
   "execution_count": null,
   "metadata": {},
   "outputs": [],
   "source": [
    "dags = []\n",
    "\n",
    "for i in possible_edges:\n",
    "    \n",
    "    network = nx.DiGraph(cpdag_graph)\n",
    "    \n",
    "    for j, k in enumerate(i):\n",
    "        \n",
    "        l = [*list(undirected_edges)[j]][0]\n",
    "        m = [*list(undirected_edges)[j]][1]\n",
    "        \n",
    "        network.remove_edge(l, m)\n",
    "        network.remove_edge(m , l)\n",
    "        \n",
    "        if k == 0:\n",
    "            network.add_edge(l, m)\n",
    "        else:\n",
    "            network.add_edge(m , l)\n",
    "    \n",
    "    if nx.is_directed_acyclic_graph(network):\n",
    "        \n",
    "        dags.append(network)"
   ]
  },
  {
   "cell_type": "code",
   "execution_count": null,
   "metadata": {},
   "outputs": [],
   "source": [
    "len(dags)"
   ]
  },
  {
   "cell_type": "code",
   "execution_count": null,
   "metadata": {},
   "outputs": [],
   "source": [
    "nx.draw(dags[0], pos,\n",
    "        edge_color = edge_colors,\n",
    "        width=1,\n",
    "        linewidths = 1,\n",
    "        node_size = 600,\n",
    "        font_size = 6,\n",
    "        node_color = \"pink\",\n",
    "        alpha=0.9,\n",
    "        labels=dict(zip(range(len(labels)), labels)))"
   ]
  },
  {
   "cell_type": "code",
   "execution_count": null,
   "metadata": {},
   "outputs": [],
   "source": [
    "bic_calculator = BicScore(pd.DataFrame(data))\n",
    "bics = [bic_calculator.score(i) for i in dags]\n",
    "\n",
    "nx.draw(dags[bics.index(min(bics))], pos,\n",
    "        edge_color = edge_colors,\n",
    "        width=1,\n",
    "        linewidths = 1,\n",
    "        node_size = 600,\n",
    "        font_size = 6,\n",
    "        node_color = \"pink\",\n",
    "        alpha=0.9,\n",
    "        labels=dict(zip(range(len(labels)), labels)))"
   ]
  },
  {
   "cell_type": "code",
   "execution_count": null,
   "metadata": {},
   "outputs": [],
   "source": []
  }
 ],
 "metadata": {
  "kernelspec": {
   "display_name": "py_3_11",
   "language": "python",
   "name": "python3"
  },
  "language_info": {
   "codemirror_mode": {
    "name": "ipython",
    "version": 3
   },
   "file_extension": ".py",
   "mimetype": "text/x-python",
   "name": "python",
   "nbconvert_exporter": "python",
   "pygments_lexer": "ipython3",
   "version": "3.11.6"
  }
 },
 "nbformat": 4,
 "nbformat_minor": 2
}
