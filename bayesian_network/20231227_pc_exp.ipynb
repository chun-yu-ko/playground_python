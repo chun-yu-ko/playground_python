{
 "cells": [
  {
   "cell_type": "code",
   "execution_count": 1,
   "metadata": {},
   "outputs": [
    {
     "name": "stdout",
     "output_type": "stream",
     "text": [
      "Token will not been saved to git credential helper. Pass `add_to_git_credential=True` if you want to set the git credential as well.\n",
      "Token is valid (permission: read).\n",
      "Your token has been saved to /Users/chunyuko/.cache/huggingface/token\n",
      "Login successful\n"
     ]
    },
    {
     "name": "stderr",
     "output_type": "stream",
     "text": [
      "INFO:root:You can use `os.environ['CASTLE_BACKEND'] = backend` to set the backend(`pytorch` or `mindspore`).\n",
      "INFO:root:You are using ``pytorch`` as the backend.\n"
     ]
    }
   ],
   "source": [
    "import utils, random, copy, statistics\n",
    "from ucimlrepo import fetch_ucirepo\n",
    "import pandas as pd\n",
    "import numpy as np\n",
    "from config import config\n",
    "from itertools import combinations, permutations, product\n",
    "from pgmpy.models import BayesianNetwork\n",
    "from pgmpy.estimators import BicScore\n",
    "import networkx as nx\n",
    "from castle.algorithms import PC\n",
    "from scipy.spatial.distance import pdist, squareform\n",
    "from python_tsp.exact import solve_tsp_dynamic_programming\n",
    "from sentence_transformers import SentenceTransformer\n",
    "from openai import OpenAI"
   ]
  },
  {
   "cell_type": "code",
   "execution_count": 17,
   "metadata": {},
   "outputs": [],
   "source": [
    "import pandas as pd\n",
    "from castle.common import GraphDAG\n",
    "from castle.metrics import MetricsDAG\n",
    "from castle.datasets import DAG, IIDSimulation\n",
    "from castle.algorithms import PC\n",
    "from castle.common.priori_knowledge import PrioriKnowledge"
   ]
  },
  {
   "cell_type": "code",
   "execution_count": 31,
   "metadata": {},
   "outputs": [
    {
     "name": "stderr",
     "output_type": "stream",
     "text": [
      "INFO:root:Finished synthetic dataset\n"
     ]
    }
   ],
   "source": [
    "method = 'linear'\n",
    "sem_type = 'gauss'\n",
    "n_nodes = 10\n",
    "n_edges = 15\n",
    "n = 2000\n",
    "\n",
    "weighted_random_dag = DAG.erdos_renyi(n_nodes=n_nodes, n_edges=n_edges, weight_range=(0.5, 2.0), seed=1)\n",
    "dataset = IIDSimulation(W=weighted_random_dag, n=n, method=method, sem_type=sem_type)\n",
    "true_dag, X = dataset.B, dataset.X"
   ]
  },
  {
   "cell_type": "code",
   "execution_count": 34,
   "metadata": {},
   "outputs": [],
   "source": [
    "X = pd.DataFrame(X)"
   ]
  },
  {
   "cell_type": "code",
   "execution_count": 51,
   "metadata": {},
   "outputs": [],
   "source": [
    "labels = X.columns.tolist()"
   ]
  },
  {
   "cell_type": "code",
   "execution_count": 62,
   "metadata": {},
   "outputs": [
    {
     "data": {
      "text/plain": [
       "[(0,), (1,)]"
      ]
     },
     "execution_count": 62,
     "metadata": {},
     "output_type": "execute_result"
    }
   ],
   "source": [
    "[*product([0,1])]"
   ]
  },
  {
   "cell_type": "code",
   "execution_count": 47,
   "metadata": {},
   "outputs": [],
   "source": [
    "pc = PC(variant=\"original\")\n",
    "pc.learn(shuffled_x)\n",
    "graph = pc.causal_matrix\n",
    "network = nx.DiGraph(graph)"
   ]
  },
  {
   "cell_type": "code",
   "execution_count": 48,
   "metadata": {},
   "outputs": [
    {
     "data": {
      "text/plain": [
       "[(2, 7), (1, 7)]"
      ]
     },
     "execution_count": 48,
     "metadata": {},
     "output_type": "execute_result"
    }
   ],
   "source": [
    "def get_undirected_edges(graph):\n",
    "    undirected_edges = set()\n",
    "    for edge in graph.edges():\n",
    "        if graph.has_edge(*edge[::-1]):\n",
    "            undirected_edges.add(frozenset(edge))\n",
    "    return [(u, v) for u, v in undirected_edges]\n",
    "\n",
    "undirected_edges = get_undirected_edges(network)\n",
    "undirected_edges"
   ]
  },
  {
   "cell_type": "code",
   "execution_count": null,
   "metadata": {},
   "outputs": [],
   "source": [
    "def get_undirected_edges(x):\n",
    "    result = {frozenset(i) for i in x.edges() if x.has_edge(*i[::-1])}\n",
    "    result = [([*i][0], [*i][1]) for i in [*result]]\n",
    "    return result\n",
    "\n",
    "def add_directed_edge(network, edge, direction):\n",
    "    \"\"\"\n",
    "    Add a directed edge to the network based on the specified direction.\n",
    "    direction 0: Adds edge as i->j\n",
    "    direction 1: Adds edge as j->i\n",
    "    \"\"\"\n",
    "    i, j = edge\n",
    "    \n",
    "    if direction == 0:\n",
    "        network.add_edge(i, j)\n",
    "    else:\n",
    "        network.add_edge(j, i)\n",
    "\n",
    "def get_all_dags(graph):\n",
    "    \n",
    "    network = nx.DiGraph(graph)\n",
    "    \n",
    "    if nx.is_directed_acyclic_graph(network):\n",
    "        dags = [network]\n",
    "        \n",
    "    else:\n",
    "        undirected_edges = get_undirected_edges(network)\n",
    "        directions = list(product([0, 1], repeat = len(undirected_edges)))\n",
    "        dags = []\n",
    "\n",
    "        for i in directions:\n",
    "            \n",
    "            new_network = copy.deepcopy(network)\n",
    "            \n",
    "            for j, k in enumerate(i):\n",
    "                \n",
    "                l = \n",
    "                m = \n",
    "                \n",
    "                network.remove_edge(i, j)\n",
    "                network.remove_edge(j, i)\n",
    "                \n",
    "                add_directed_edge(network, undirected_pairs[j], direction)\n",
    "        \n",
    "            if nx.is_directed_acyclic_graph(network):\n",
    "                dags.append(network)\n",
    "\n",
    "        # print(f\"Found {len(dags)} unique DAGs within the CPDAG.\")\n",
    "    \n",
    "    return dags"
   ]
  },
  {
   "cell_type": "code",
   "execution_count": null,
   "metadata": {},
   "outputs": [],
   "source": [
    "dags = find_all_dags_incpdag(cpdag_graph)"
   ]
  },
  {
   "cell_type": "code",
   "execution_count": null,
   "metadata": {},
   "outputs": [],
   "source": [
    "bic_calculator = BicScore(pd.DataFrame(data))\n",
    "bics = [bic_calculator.score(i) for i in dags]"
   ]
  },
  {
   "cell_type": "code",
   "execution_count": null,
   "metadata": {},
   "outputs": [],
   "source": [
    "print(min(bics))\n",
    "print(bics.index(min(bics)))"
   ]
  },
  {
   "cell_type": "code",
   "execution_count": null,
   "metadata": {},
   "outputs": [],
   "source": [
    "def exp_random_order(data):\n",
    "    \n",
    "    labels = data.columns.tolist()\n",
    "    random.shuffle(labels)\n",
    "    exp_data = np.array(data[labels])\n",
    "    \n",
    "    graph, sepetated_set = pc_algorithm.pc_get_graph(exp_data)\n",
    "    cpdag = pc_algorithm.pc_apply_rules(graph, sepetated_set)\n",
    "    dags = find_all_dags_incpdag(cpdag)\n",
    "    # dag = find_one_dag_in_cpdag()\n",
    "    \n",
    "    if (len(dags)>0):\n",
    "        \n",
    "        bic_calculator = BicScore(pd.DataFrame(exp_data))\n",
    "        bics = [bic_calculator.score(BayesianNetwork([*i.edges()])) for i in dags]\n",
    "        return min(bics), labels, dags[bics.index(min(bics))]\n",
    "    else:\n",
    "        return None, None, None"
   ]
  },
  {
   "cell_type": "code",
   "execution_count": null,
   "metadata": {},
   "outputs": [],
   "source": [
    "data_for_exp = utils.get_data_from_ucirepo(109)"
   ]
  },
  {
   "cell_type": "code",
   "execution_count": null,
   "metadata": {},
   "outputs": [],
   "source": [
    "def benchmarking(data, times):\n",
    "    bics = []\n",
    "    orders = []\n",
    "    networks = []\n",
    "    \n",
    "    while len(bics) <= times:\n",
    "        \n",
    "        bic, order, network = exp_random_order(data_for_exp)\n",
    "        \n",
    "        if bic is not None:\n",
    "            bics.append(bic)\n",
    "            orders.append(order)\n",
    "            networks.append(network)\n",
    "\n",
    "    return statistics.median(bics)"
   ]
  },
  {
   "cell_type": "code",
   "execution_count": null,
   "metadata": {},
   "outputs": [],
   "source": [
    "benchmarking(data_for_exp, 100)"
   ]
  },
  {
   "cell_type": "code",
   "execution_count": null,
   "metadata": {},
   "outputs": [],
   "source": [
    "def permutation_distance(seq1, seq2):\n",
    "    \n",
    "    index_map = {val: idx for idx, val in enumerate(seq2)}\n",
    "    seq = [index_map[val] for val in seq1]\n",
    "\n",
    "    swaps = 0\n",
    "    for i in range(len(seq)):\n",
    "        for j in range(len(seq) - 1):\n",
    "            if seq[j] > seq[j + 1]:\n",
    "                seq[j], seq[j + 1] = seq[j + 1], seq[j]\n",
    "                swaps += 1\n",
    "\n",
    "    return swaps"
   ]
  },
  {
   "cell_type": "code",
   "execution_count": null,
   "metadata": {},
   "outputs": [],
   "source": [
    "def get_openai_embedding(x):\n",
    "    \n",
    "    api_key = config.get(\"open_ai_key_personal\")\n",
    "    openai_client = OpenAI(api_key=api_key)\n",
    "    \n",
    "    return openai_client.embeddings.create(input=x, model=\"text-embedding-ada-002\").data"
   ]
  },
  {
   "cell_type": "code",
   "execution_count": null,
   "metadata": {},
   "outputs": [],
   "source": [
    "texts = {\n",
    "    \"column_name\": [\"Alcohol\", \"Malicacid\", \"Ash\", \"Alcalinity_of_ash\", \"Magnesium\", \"Total_phenols\", \"Flavanoids\", \"Nonflavanoid_phenols\", \"Proanthocyanins\", \"Color_intensity\", \"Hue\", \"0D280_0D315_of_diluted_wines\", \"Proline\", \"class_2\", \"class_3\"],\n",
    "    \"variable_name\": [\"Alcohol\", \"Malic Acid\", \"Ash\", \"Alcalinity of Ash\", \"Magnesium\", \"Total Phenols\", \"Flavanoids\", \"Nonflavanoid Phenols\", \"Proanthocyanins\", \"Color Intensity\", \"Hue\", \"OD280/OD315 of Diluted Wines\", \"Proline\", \"Class 2\", \"Class 3\"],\n",
    "    \"name_description\": [\"Alcohol: This represents the alcohol content in the wine, usually expressed as a percentage.\",\n",
    "                         \"Malic Acid: A naturally occurring acid in grapes and many other fruits, affecting the taste of the wine.\",\n",
    "                         \"Ash: In winemaking, ash typically refers to the mineral residue left after the complete combustion of the wine.\",\n",
    "                         \"Alcalinity of Ash: Measures the alkalinity (basicity) of the ash content in the wine, affecting the overall taste balance of the wine.\",\n",
    "                         \"Magnesium: A mineral element present in wine, influencing the growth and development of the wine.\",\n",
    "                         \"Total Phenols: Includes all types of phenolic compounds, which affect the color, taste, and aroma of the wine.\",\n",
    "                         \"Flavanoids: A type of phenolic compound, important for the antioxidant properties and color of the wine.\",\n",
    "                         \"Nonflavanoid Phenols: Another type of phenolic compound, also contributing to the characteristics of the wine.\",\n",
    "                         \"Proanthocyanins: A type of flavonoid, related to the bitterness and color of the wine.\",\n",
    "                         \"Color Intensity: Indicates the depth of color in the wine, related to the grape varieties used and the winemaking process.\",\n",
    "                         \"Hue: Refers to the color of the wine, which can vary from pale yellow to deep red.\",\n",
    "                         \"OD280/OD315 of Diluted Wines: A method to measure the phenolic content in wines by the absorption of light at specific wavelengths.\",\n",
    "                         \"Proline: An amino acid important for the aroma and flavor of the wine.\",\n",
    "                         \"Class 2: This category represents wines that are classified as 'Class 2' in the dataset. The classification is based on certain characteristics or properties of the wines, which are distinct from those in other classes. This class label helps in differentiating this group of wines from others in the dataset for analysis or predictive modeling.\",\n",
    "                         \"Class 3: This category signifies wines that fall under the 'Class 3' classification. The attributes of wines in this class are different from those in Classes 1 and 2. This classification is crucial for distinguishing these wines for purposes such as pattern recognition, clustering, or other forms of data analysis in the context of wine characteristics.\"]\n",
    "}"
   ]
  },
  {
   "cell_type": "code",
   "execution_count": null,
   "metadata": {},
   "outputs": [],
   "source": [
    "def get_embeddings(text, model):\n",
    "    if model == \"text-embedding-ada-002\":\n",
    "            result = get_openai_embedding(text)\n",
    "            result = [i.embedding for i in result]\n",
    "    else:\n",
    "        model = SentenceTransformer(model)\n",
    "        result = model.encode(text).tolist()\n",
    "    return result"
   ]
  },
  {
   "cell_type": "code",
   "execution_count": null,
   "metadata": {},
   "outputs": [],
   "source": [
    "model_ids = [\"all-mpnet-base-v2\", \"all-MiniLM-L12-v2\", \"all-MiniLM-L6-v2\", \"WhereIsAI/UAE-Large-V1\", \"text-embedding-ada-002\"]"
   ]
  },
  {
   "cell_type": "code",
   "execution_count": null,
   "metadata": {},
   "outputs": [],
   "source": [
    "from angle_emb import AnglE\n",
    "\n",
    "angle = AnglE.from_pretrained('WhereIsAI/UAE-Large-V1', pooling_strategy='cls').cuda()\n",
    "vec = angle.encode('hello world', to_numpy=True)\n",
    "print(vec)"
   ]
  },
  {
   "cell_type": "code",
   "execution_count": null,
   "metadata": {},
   "outputs": [],
   "source": [
    "embeddings = {}\n",
    "for text_key in texts.keys():\n",
    "    result = {}\n",
    "    for model_id in model_ids:\n",
    "        print(model_id)\n",
    "        embedding_result = get_embeddings(texts[text_key], model_id)\n",
    "        result[model_id] = embedding_result\n",
    "    embeddings[text_key] = result"
   ]
  },
  {
   "cell_type": "code",
   "execution_count": null,
   "metadata": {},
   "outputs": [],
   "source": [
    "def exp_model_score(data, embeddings, pdist_metric = \"euclidean\", times = 100):\n",
    "    \n",
    "    scores = {}\n",
    "    \n",
    "    for text_key in embeddings.keys():\n",
    "        \n",
    "        result = {}\n",
    "        \n",
    "        for model_id in embeddings[text_key].keys():\n",
    "            \n",
    "            print(text_key, model_id)\n",
    "            \n",
    "            distance_matrix = squareform(pdist(embeddings[text_key][model_id], metric = pdist_metric))\n",
    "            distance_matrix[:, 0] = 0\n",
    "                \n",
    "            text = []\n",
    "            \n",
    "            while len(text) <= times:\n",
    "                \n",
    "                permutation = solve_tsp_local_search(distance_matrix)[0]\n",
    "                order = [data.columns.tolist()[i] for i in permutation]\n",
    "                array = np.array(data[order])\n",
    "                \n",
    "                pc = PC()\n",
    "                pc.learn(array)\n",
    "                graph = pc.causal_matrix\n",
    "                # graph, sepetated_set = pc_algorithm.pc_get_graph(array)\n",
    "                # cpdag = pc_algorithm.pc_apply_rules(graph, sepetated_set)\n",
    "                dags = find_all_dags_incpdag(graph)\n",
    "                \n",
    "                if (len(dags)>0):\n",
    "                    status = False\n",
    "                    calculator = BicScore(pd.DataFrame(array))\n",
    "                    bics = [calculator.score(BayesianNetwork([*i.edges()])) for i in dags]\n",
    "                    text.append(min(bics))\n",
    "            \n",
    "            result[model_id] = statistics.median(text)\n",
    "            \n",
    "        scores[text_key] = result\n",
    "    \n",
    "    return scores"
   ]
  },
  {
   "cell_type": "code",
   "execution_count": null,
   "metadata": {},
   "outputs": [],
   "source": [
    "pd.DataFrame(exp_model_score(data_for_exp, embeddings, \"cityblock\"))"
   ]
  },
  {
   "cell_type": "code",
   "execution_count": null,
   "metadata": {},
   "outputs": [],
   "source": [
    "permutation = solve_tsp_local_search(distance_matrix)[0]\n",
    "order = [data.columns.tolist()[i] for i in permutation]\n",
    "array = np.array(data[order])"
   ]
  },
  {
   "cell_type": "code",
   "execution_count": null,
   "metadata": {},
   "outputs": [],
   "source": []
  }
 ],
 "metadata": {
  "kernelspec": {
   "display_name": "py_3_11",
   "language": "python",
   "name": "python3"
  },
  "language_info": {
   "codemirror_mode": {
    "name": "ipython",
    "version": 3
   },
   "file_extension": ".py",
   "mimetype": "text/x-python",
   "name": "python",
   "nbconvert_exporter": "python",
   "pygments_lexer": "ipython3",
   "version": "3.11.6"
  }
 },
 "nbformat": 4,
 "nbformat_minor": 2
}
