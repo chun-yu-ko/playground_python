{
 "cells": [
  {
   "cell_type": "code",
   "execution_count": 1,
   "metadata": {},
   "outputs": [
    {
     "name": "stdout",
     "output_type": "stream",
     "text": [
      "Token will not been saved to git credential helper. Pass `add_to_git_credential=True` if you want to set the git credential as well.\n",
      "Token is valid (permission: read).\n",
      "Your token has been saved to /Users/chunyuko/.cache/huggingface/token\n",
      "Login successful\n"
     ]
    },
    {
     "name": "stderr",
     "output_type": "stream",
     "text": [
      "2023-12-27 23:20:04,210 - /Users/chunyuko/Documents/anaconda3/envs/py_3_11/lib/python3.11/site-packages/castle/backend/__init__.py[line:36] - INFO: You can use `os.environ['CASTLE_BACKEND'] = backend` to set the backend(`pytorch` or `mindspore`).\n",
      "2023-12-27 23:20:04,255 - /Users/chunyuko/Documents/anaconda3/envs/py_3_11/lib/python3.11/site-packages/castle/algorithms/__init__.py[line:36] - INFO: You are using ``pytorch`` as the backend.\n"
     ]
    }
   ],
   "source": [
    "import json, umap, utils, copy\n",
    "import pandas as pd\n",
    "import numpy as np\n",
    "import plotly.express as px\n",
    "from scipy.spatial.distance import pdist, squareform\n",
    "from python_tsp.exact import solve_tsp_dynamic_programming\n",
    "from castle.algorithms import PC\n",
    "import networkx as nx\n",
    "from pgmpy.estimators import BicScore, MmhcEstimator\n",
    "from itertools import product\n",
    "from statistics import median"
   ]
  },
  {
   "cell_type": "code",
   "execution_count": 2,
   "metadata": {},
   "outputs": [],
   "source": [
    "data = pd.read_csv(\"data/wine_dataset_variable_text.csv\")\n",
    "with open(\"data/wine_dataset_variable_text_embeddings.json\", \"r\") as f:\n",
    "    data[\"embeddings\"] = [i[0] for i in json.load(f)]"
   ]
  },
  {
   "cell_type": "code",
   "execution_count": 3,
   "metadata": {},
   "outputs": [
    {
     "name": "stderr",
     "output_type": "stream",
     "text": [
      "/Users/chunyuko/Documents/anaconda3/envs/py_3_11/lib/python3.11/site-packages/umap/umap_.py:1943: UserWarning: n_jobs value -1 overridden to 1 by setting random_state. Use no seed for parallelism.\n",
      "  warn(f\"n_jobs value {self.n_jobs} overridden to 1 by setting random_state. Use no seed for parallelism.\")\n",
      "OMP: Info #276: omp_set_nested routine deprecated, please use omp_set_max_active_levels instead.\n"
     ]
    }
   ],
   "source": [
    "umap_reducer = umap.UMAP(random_state=42)\n",
    "umap_embedding = umap_reducer.fit_transform(data[\"embeddings\"].tolist())"
   ]
  },
  {
   "cell_type": "code",
   "execution_count": 4,
   "metadata": {},
   "outputs": [],
   "source": [
    "data = pd.concat([data,pd.DataFrame(umap_embedding, columns=[\"emb_0\", \"emb_1\"])], axis=1)"
   ]
  },
  {
   "cell_type": "code",
   "execution_count": 5,
   "metadata": {},
   "outputs": [],
   "source": [
    "data[\"text\"] = 4*data.query(\"variable == 'variable_name'\")[\"value\"].tolist()"
   ]
  },
  {
   "cell_type": "code",
   "execution_count": 6,
   "metadata": {},
   "outputs": [
    {
     "data": {
      "application/vnd.plotly.v1+json": {
       "config": {
        "plotlyServerURL": "https://plot.ly"
       },
       "data": [
        {
         "hovertemplate": "variable=column_name<br>emb_0=%{x}<br>emb_1=%{y}<br>text=%{text}<extra></extra>",
         "legendgroup": "column_name",
         "marker": {
          "color": "#636efa",
          "symbol": "circle"
         },
         "mode": "markers+text",
         "name": "column_name",
         "orientation": "v",
         "showlegend": true,
         "text": [
          "Alcohol",
          "Malic Acid",
          "Ash",
          "Alcalinity of Ash",
          "Magnesium",
          "Total Phenols",
          "Flavanoids",
          "Nonflavanoid Phenols",
          "Proanthocyanins",
          "Color Intensity",
          "Hue",
          "OD280/OD315 of Diluted Wines",
          "Proline"
         ],
         "textposition": "top center",
         "type": "scatter",
         "x": [
          -7.353369,
          -7.4128566,
          -7.775608,
          -6.501661,
          -7.1820235,
          -5.9725795,
          -5.4272866,
          -5.4780164,
          -5.433127,
          -7.49191,
          -8.011489,
          -5.5862045,
          -7.932609
         ],
         "xaxis": "x",
         "y": [
          2.871253,
          2.47558,
          1.4507396,
          1.6253641,
          2.853939,
          2.5586374,
          2.7792888,
          2.5036938,
          3.0321927,
          1.9730788,
          1.805891,
          2.2076452,
          2.018463
         ],
         "yaxis": "y"
        },
        {
         "hovertemplate": "variable=variable_name<br>emb_0=%{x}<br>emb_1=%{y}<br>text=%{text}<extra></extra>",
         "legendgroup": "variable_name",
         "marker": {
          "color": "#EF553B",
          "symbol": "circle"
         },
         "mode": "markers+text",
         "name": "variable_name",
         "orientation": "v",
         "showlegend": true,
         "text": [
          "Alcohol",
          "Malic Acid",
          "Ash",
          "Alcalinity of Ash",
          "Magnesium",
          "Total Phenols",
          "Flavanoids",
          "Nonflavanoid Phenols",
          "Proanthocyanins",
          "Color Intensity",
          "Hue",
          "OD280/OD315 of Diluted Wines",
          "Proline"
         ],
         "textposition": "top center",
         "type": "scatter",
         "x": [
          -7.649859,
          -6.8729334,
          -7.5602407,
          -7.0613446,
          -7.366066,
          -5.6515517,
          -5.7353625,
          -5.1476316,
          -5.3907557,
          -7.0774693,
          -8.251861,
          -5.553613,
          -8.090767
         ],
         "xaxis": "x",
         "y": [
          2.9920003,
          2.895491,
          1.3026859,
          1.3624989,
          3.2493286,
          2.7719986,
          3.217222,
          2.6053355,
          3.2744248,
          2.2473803,
          1.6457767,
          1.9628711,
          2.2777488
         ],
         "yaxis": "y"
        },
        {
         "hovertemplate": "variable=name_description<br>emb_0=%{x}<br>emb_1=%{y}<br>text=%{text}<extra></extra>",
         "legendgroup": "name_description",
         "marker": {
          "color": "#00cc96",
          "symbol": "circle"
         },
         "mode": "markers+text",
         "name": "name_description",
         "orientation": "v",
         "showlegend": true,
         "text": [
          "Alcohol",
          "Malic Acid",
          "Ash",
          "Alcalinity of Ash",
          "Magnesium",
          "Total Phenols",
          "Flavanoids",
          "Nonflavanoid Phenols",
          "Proanthocyanins",
          "Color Intensity",
          "Hue",
          "OD280/OD315 of Diluted Wines",
          "Proline"
         ],
         "textposition": "top center",
         "type": "scatter",
         "x": [
          -19.298145,
          -19.212494,
          -19.622044,
          -18.837898,
          -19.897055,
          -19.364489,
          -19.387535,
          -19.084152,
          -19.781435,
          -18.60926,
          -18.72322,
          -19.127043,
          -19.618378
         ],
         "xaxis": "x",
         "y": [
          0.21089315,
          0.724944,
          0.37859455,
          0.324482,
          0.5743271,
          0.60799897,
          1.0878373,
          0.9602528,
          1.106195,
          0.23500125,
          0.7512127,
          -0.04584748,
          0.8847724
         ],
         "yaxis": "y"
        },
        {
         "hovertemplate": "variable=prompt<br>emb_0=%{x}<br>emb_1=%{y}<br>text=%{text}<extra></extra>",
         "legendgroup": "prompt",
         "marker": {
          "color": "#ab63fa",
          "symbol": "circle"
         },
         "mode": "markers+text",
         "name": "prompt",
         "orientation": "v",
         "showlegend": true,
         "text": [
          "Alcohol",
          "Malic Acid",
          "Ash",
          "Alcalinity of Ash",
          "Magnesium",
          "Total Phenols",
          "Flavanoids",
          "Nonflavanoid Phenols",
          "Proanthocyanins",
          "Color Intensity",
          "Hue",
          "OD280/OD315 of Diluted Wines",
          "Proline"
         ],
         "textposition": "top center",
         "type": "scatter",
         "x": [
          -0.049938936,
          0.3882858,
          0.51008993,
          0.47821334,
          0.28530312,
          -0.19763194,
          -0.48465738,
          -0.088512026,
          -0.26834598,
          0.14611934,
          -0.43237478,
          -0.14897695,
          0.093679786
         ],
         "xaxis": "x",
         "y": [
          5.253494,
          5.3359575,
          5.155221,
          4.938723,
          5.1138716,
          5.0552697,
          5.2425013,
          5.7196574,
          5.546087,
          4.334852,
          4.5820403,
          4.58057,
          5.5702653
         ],
         "yaxis": "y"
        }
       ],
       "layout": {
        "height": 400,
        "legend": {
         "title": {
          "text": "variable"
         },
         "tracegroupgap": 0
        },
        "margin": {
         "t": 60
        },
        "template": {
         "data": {
          "bar": [
           {
            "error_x": {
             "color": "#2a3f5f"
            },
            "error_y": {
             "color": "#2a3f5f"
            },
            "marker": {
             "line": {
              "color": "white",
              "width": 0.5
             },
             "pattern": {
              "fillmode": "overlay",
              "size": 10,
              "solidity": 0.2
             }
            },
            "type": "bar"
           }
          ],
          "barpolar": [
           {
            "marker": {
             "line": {
              "color": "white",
              "width": 0.5
             },
             "pattern": {
              "fillmode": "overlay",
              "size": 10,
              "solidity": 0.2
             }
            },
            "type": "barpolar"
           }
          ],
          "carpet": [
           {
            "aaxis": {
             "endlinecolor": "#2a3f5f",
             "gridcolor": "#C8D4E3",
             "linecolor": "#C8D4E3",
             "minorgridcolor": "#C8D4E3",
             "startlinecolor": "#2a3f5f"
            },
            "baxis": {
             "endlinecolor": "#2a3f5f",
             "gridcolor": "#C8D4E3",
             "linecolor": "#C8D4E3",
             "minorgridcolor": "#C8D4E3",
             "startlinecolor": "#2a3f5f"
            },
            "type": "carpet"
           }
          ],
          "choropleth": [
           {
            "colorbar": {
             "outlinewidth": 0,
             "ticks": ""
            },
            "type": "choropleth"
           }
          ],
          "contour": [
           {
            "colorbar": {
             "outlinewidth": 0,
             "ticks": ""
            },
            "colorscale": [
             [
              0,
              "#0d0887"
             ],
             [
              0.1111111111111111,
              "#46039f"
             ],
             [
              0.2222222222222222,
              "#7201a8"
             ],
             [
              0.3333333333333333,
              "#9c179e"
             ],
             [
              0.4444444444444444,
              "#bd3786"
             ],
             [
              0.5555555555555556,
              "#d8576b"
             ],
             [
              0.6666666666666666,
              "#ed7953"
             ],
             [
              0.7777777777777778,
              "#fb9f3a"
             ],
             [
              0.8888888888888888,
              "#fdca26"
             ],
             [
              1,
              "#f0f921"
             ]
            ],
            "type": "contour"
           }
          ],
          "contourcarpet": [
           {
            "colorbar": {
             "outlinewidth": 0,
             "ticks": ""
            },
            "type": "contourcarpet"
           }
          ],
          "heatmap": [
           {
            "colorbar": {
             "outlinewidth": 0,
             "ticks": ""
            },
            "colorscale": [
             [
              0,
              "#0d0887"
             ],
             [
              0.1111111111111111,
              "#46039f"
             ],
             [
              0.2222222222222222,
              "#7201a8"
             ],
             [
              0.3333333333333333,
              "#9c179e"
             ],
             [
              0.4444444444444444,
              "#bd3786"
             ],
             [
              0.5555555555555556,
              "#d8576b"
             ],
             [
              0.6666666666666666,
              "#ed7953"
             ],
             [
              0.7777777777777778,
              "#fb9f3a"
             ],
             [
              0.8888888888888888,
              "#fdca26"
             ],
             [
              1,
              "#f0f921"
             ]
            ],
            "type": "heatmap"
           }
          ],
          "heatmapgl": [
           {
            "colorbar": {
             "outlinewidth": 0,
             "ticks": ""
            },
            "colorscale": [
             [
              0,
              "#0d0887"
             ],
             [
              0.1111111111111111,
              "#46039f"
             ],
             [
              0.2222222222222222,
              "#7201a8"
             ],
             [
              0.3333333333333333,
              "#9c179e"
             ],
             [
              0.4444444444444444,
              "#bd3786"
             ],
             [
              0.5555555555555556,
              "#d8576b"
             ],
             [
              0.6666666666666666,
              "#ed7953"
             ],
             [
              0.7777777777777778,
              "#fb9f3a"
             ],
             [
              0.8888888888888888,
              "#fdca26"
             ],
             [
              1,
              "#f0f921"
             ]
            ],
            "type": "heatmapgl"
           }
          ],
          "histogram": [
           {
            "marker": {
             "pattern": {
              "fillmode": "overlay",
              "size": 10,
              "solidity": 0.2
             }
            },
            "type": "histogram"
           }
          ],
          "histogram2d": [
           {
            "colorbar": {
             "outlinewidth": 0,
             "ticks": ""
            },
            "colorscale": [
             [
              0,
              "#0d0887"
             ],
             [
              0.1111111111111111,
              "#46039f"
             ],
             [
              0.2222222222222222,
              "#7201a8"
             ],
             [
              0.3333333333333333,
              "#9c179e"
             ],
             [
              0.4444444444444444,
              "#bd3786"
             ],
             [
              0.5555555555555556,
              "#d8576b"
             ],
             [
              0.6666666666666666,
              "#ed7953"
             ],
             [
              0.7777777777777778,
              "#fb9f3a"
             ],
             [
              0.8888888888888888,
              "#fdca26"
             ],
             [
              1,
              "#f0f921"
             ]
            ],
            "type": "histogram2d"
           }
          ],
          "histogram2dcontour": [
           {
            "colorbar": {
             "outlinewidth": 0,
             "ticks": ""
            },
            "colorscale": [
             [
              0,
              "#0d0887"
             ],
             [
              0.1111111111111111,
              "#46039f"
             ],
             [
              0.2222222222222222,
              "#7201a8"
             ],
             [
              0.3333333333333333,
              "#9c179e"
             ],
             [
              0.4444444444444444,
              "#bd3786"
             ],
             [
              0.5555555555555556,
              "#d8576b"
             ],
             [
              0.6666666666666666,
              "#ed7953"
             ],
             [
              0.7777777777777778,
              "#fb9f3a"
             ],
             [
              0.8888888888888888,
              "#fdca26"
             ],
             [
              1,
              "#f0f921"
             ]
            ],
            "type": "histogram2dcontour"
           }
          ],
          "mesh3d": [
           {
            "colorbar": {
             "outlinewidth": 0,
             "ticks": ""
            },
            "type": "mesh3d"
           }
          ],
          "parcoords": [
           {
            "line": {
             "colorbar": {
              "outlinewidth": 0,
              "ticks": ""
             }
            },
            "type": "parcoords"
           }
          ],
          "pie": [
           {
            "automargin": true,
            "type": "pie"
           }
          ],
          "scatter": [
           {
            "fillpattern": {
             "fillmode": "overlay",
             "size": 10,
             "solidity": 0.2
            },
            "type": "scatter"
           }
          ],
          "scatter3d": [
           {
            "line": {
             "colorbar": {
              "outlinewidth": 0,
              "ticks": ""
             }
            },
            "marker": {
             "colorbar": {
              "outlinewidth": 0,
              "ticks": ""
             }
            },
            "type": "scatter3d"
           }
          ],
          "scattercarpet": [
           {
            "marker": {
             "colorbar": {
              "outlinewidth": 0,
              "ticks": ""
             }
            },
            "type": "scattercarpet"
           }
          ],
          "scattergeo": [
           {
            "marker": {
             "colorbar": {
              "outlinewidth": 0,
              "ticks": ""
             }
            },
            "type": "scattergeo"
           }
          ],
          "scattergl": [
           {
            "marker": {
             "colorbar": {
              "outlinewidth": 0,
              "ticks": ""
             }
            },
            "type": "scattergl"
           }
          ],
          "scattermapbox": [
           {
            "marker": {
             "colorbar": {
              "outlinewidth": 0,
              "ticks": ""
             }
            },
            "type": "scattermapbox"
           }
          ],
          "scatterpolar": [
           {
            "marker": {
             "colorbar": {
              "outlinewidth": 0,
              "ticks": ""
             }
            },
            "type": "scatterpolar"
           }
          ],
          "scatterpolargl": [
           {
            "marker": {
             "colorbar": {
              "outlinewidth": 0,
              "ticks": ""
             }
            },
            "type": "scatterpolargl"
           }
          ],
          "scatterternary": [
           {
            "marker": {
             "colorbar": {
              "outlinewidth": 0,
              "ticks": ""
             }
            },
            "type": "scatterternary"
           }
          ],
          "surface": [
           {
            "colorbar": {
             "outlinewidth": 0,
             "ticks": ""
            },
            "colorscale": [
             [
              0,
              "#0d0887"
             ],
             [
              0.1111111111111111,
              "#46039f"
             ],
             [
              0.2222222222222222,
              "#7201a8"
             ],
             [
              0.3333333333333333,
              "#9c179e"
             ],
             [
              0.4444444444444444,
              "#bd3786"
             ],
             [
              0.5555555555555556,
              "#d8576b"
             ],
             [
              0.6666666666666666,
              "#ed7953"
             ],
             [
              0.7777777777777778,
              "#fb9f3a"
             ],
             [
              0.8888888888888888,
              "#fdca26"
             ],
             [
              1,
              "#f0f921"
             ]
            ],
            "type": "surface"
           }
          ],
          "table": [
           {
            "cells": {
             "fill": {
              "color": "#EBF0F8"
             },
             "line": {
              "color": "white"
             }
            },
            "header": {
             "fill": {
              "color": "#C8D4E3"
             },
             "line": {
              "color": "white"
             }
            },
            "type": "table"
           }
          ]
         },
         "layout": {
          "annotationdefaults": {
           "arrowcolor": "#2a3f5f",
           "arrowhead": 0,
           "arrowwidth": 1
          },
          "autotypenumbers": "strict",
          "coloraxis": {
           "colorbar": {
            "outlinewidth": 0,
            "ticks": ""
           }
          },
          "colorscale": {
           "diverging": [
            [
             0,
             "#8e0152"
            ],
            [
             0.1,
             "#c51b7d"
            ],
            [
             0.2,
             "#de77ae"
            ],
            [
             0.3,
             "#f1b6da"
            ],
            [
             0.4,
             "#fde0ef"
            ],
            [
             0.5,
             "#f7f7f7"
            ],
            [
             0.6,
             "#e6f5d0"
            ],
            [
             0.7,
             "#b8e186"
            ],
            [
             0.8,
             "#7fbc41"
            ],
            [
             0.9,
             "#4d9221"
            ],
            [
             1,
             "#276419"
            ]
           ],
           "sequential": [
            [
             0,
             "#0d0887"
            ],
            [
             0.1111111111111111,
             "#46039f"
            ],
            [
             0.2222222222222222,
             "#7201a8"
            ],
            [
             0.3333333333333333,
             "#9c179e"
            ],
            [
             0.4444444444444444,
             "#bd3786"
            ],
            [
             0.5555555555555556,
             "#d8576b"
            ],
            [
             0.6666666666666666,
             "#ed7953"
            ],
            [
             0.7777777777777778,
             "#fb9f3a"
            ],
            [
             0.8888888888888888,
             "#fdca26"
            ],
            [
             1,
             "#f0f921"
            ]
           ],
           "sequentialminus": [
            [
             0,
             "#0d0887"
            ],
            [
             0.1111111111111111,
             "#46039f"
            ],
            [
             0.2222222222222222,
             "#7201a8"
            ],
            [
             0.3333333333333333,
             "#9c179e"
            ],
            [
             0.4444444444444444,
             "#bd3786"
            ],
            [
             0.5555555555555556,
             "#d8576b"
            ],
            [
             0.6666666666666666,
             "#ed7953"
            ],
            [
             0.7777777777777778,
             "#fb9f3a"
            ],
            [
             0.8888888888888888,
             "#fdca26"
            ],
            [
             1,
             "#f0f921"
            ]
           ]
          },
          "colorway": [
           "#636efa",
           "#EF553B",
           "#00cc96",
           "#ab63fa",
           "#FFA15A",
           "#19d3f3",
           "#FF6692",
           "#B6E880",
           "#FF97FF",
           "#FECB52"
          ],
          "font": {
           "color": "#2a3f5f"
          },
          "geo": {
           "bgcolor": "white",
           "lakecolor": "white",
           "landcolor": "white",
           "showlakes": true,
           "showland": true,
           "subunitcolor": "#C8D4E3"
          },
          "hoverlabel": {
           "align": "left"
          },
          "hovermode": "closest",
          "mapbox": {
           "style": "light"
          },
          "paper_bgcolor": "white",
          "plot_bgcolor": "white",
          "polar": {
           "angularaxis": {
            "gridcolor": "#EBF0F8",
            "linecolor": "#EBF0F8",
            "ticks": ""
           },
           "bgcolor": "white",
           "radialaxis": {
            "gridcolor": "#EBF0F8",
            "linecolor": "#EBF0F8",
            "ticks": ""
           }
          },
          "scene": {
           "xaxis": {
            "backgroundcolor": "white",
            "gridcolor": "#DFE8F3",
            "gridwidth": 2,
            "linecolor": "#EBF0F8",
            "showbackground": true,
            "ticks": "",
            "zerolinecolor": "#EBF0F8"
           },
           "yaxis": {
            "backgroundcolor": "white",
            "gridcolor": "#DFE8F3",
            "gridwidth": 2,
            "linecolor": "#EBF0F8",
            "showbackground": true,
            "ticks": "",
            "zerolinecolor": "#EBF0F8"
           },
           "zaxis": {
            "backgroundcolor": "white",
            "gridcolor": "#DFE8F3",
            "gridwidth": 2,
            "linecolor": "#EBF0F8",
            "showbackground": true,
            "ticks": "",
            "zerolinecolor": "#EBF0F8"
           }
          },
          "shapedefaults": {
           "line": {
            "color": "#2a3f5f"
           }
          },
          "ternary": {
           "aaxis": {
            "gridcolor": "#DFE8F3",
            "linecolor": "#A2B1C6",
            "ticks": ""
           },
           "baxis": {
            "gridcolor": "#DFE8F3",
            "linecolor": "#A2B1C6",
            "ticks": ""
           },
           "bgcolor": "white",
           "caxis": {
            "gridcolor": "#DFE8F3",
            "linecolor": "#A2B1C6",
            "ticks": ""
           }
          },
          "title": {
           "x": 0.05
          },
          "xaxis": {
           "automargin": true,
           "gridcolor": "#EBF0F8",
           "linecolor": "#EBF0F8",
           "ticks": "",
           "title": {
            "standoff": 15
           },
           "zerolinecolor": "#EBF0F8",
           "zerolinewidth": 2
          },
          "yaxis": {
           "automargin": true,
           "gridcolor": "#EBF0F8",
           "linecolor": "#EBF0F8",
           "ticks": "",
           "title": {
            "standoff": 15
           },
           "zerolinecolor": "#EBF0F8",
           "zerolinewidth": 2
          }
         }
        },
        "width": 600,
        "xaxis": {
         "anchor": "y",
         "domain": [
          0,
          1
         ],
         "showgrid": false,
         "showticklabels": false,
         "title": {
          "text": ""
         },
         "zeroline": false
        },
        "yaxis": {
         "anchor": "x",
         "domain": [
          0,
          1
         ],
         "showgrid": false,
         "showticklabels": false,
         "title": {
          "text": ""
         },
         "zeroline": false
        }
       }
      }
     },
     "metadata": {},
     "output_type": "display_data"
    }
   ],
   "source": [
    "px.scatter(data, x=\"emb_0\", y=\"emb_1\", color=\"variable\", text = \"text\", width = 600, height = 400).\\\n",
    "    update_traces(textposition='top center').\\\n",
    "    update_layout(\n",
    "            xaxis=dict(showgrid=False, title=\"\", zeroline = False, showticklabels=False),\n",
    "            yaxis=dict(showgrid=False, title=\"\", zeroline = False, showticklabels=False),\n",
    "            template=\"plotly_white\")"
   ]
  },
  {
   "cell_type": "code",
   "execution_count": 7,
   "metadata": {},
   "outputs": [],
   "source": [
    "def get_graphs(data, order):\n",
    "    \n",
    "    exp_data = data.copy()\n",
    "    order = exp_data.columns[order]\n",
    "    \n",
    "    exp_data = exp_data[order]\n",
    "    exp_array = np.array(exp_data)\n",
    "    \n",
    "    pc = PC()\n",
    "    pc.learn(exp_data)\n",
    "    graph = nx.DiGraph(np.array(pc.causal_matrix))\n",
    "    \n",
    "    if nx.is_directed_acyclic_graph(graph) == False:\n",
    "        \n",
    "        undirected_edges = {frozenset(i) for i in graph.edges() if graph.has_edge(*i[::-1])}\n",
    "        undirected_edges = [([*i][0], [*i][1]) for i in [*undirected_edges]]\n",
    "        directions = list(product([0, 1], repeat = len(undirected_edges)))\n",
    "\n",
    "        graphs = []\n",
    "        \n",
    "        for i in directions:\n",
    "            \n",
    "            new_graph = copy.deepcopy(graph)\n",
    "            \n",
    "            for j, k in enumerate(i):\n",
    "                \n",
    "                l = undirected_edges[j][0]\n",
    "                m = undirected_edges[j][1]\n",
    "                \n",
    "                new_graph.remove_edge(l, m)\n",
    "                new_graph.remove_edge(m, l)\n",
    "                \n",
    "                if k > 0:\n",
    "                    new_graph.add_edge(l, m)\n",
    "                else:\n",
    "                    new_graph.add_edge(m, l)\n",
    "            \n",
    "            if nx.is_directed_acyclic_graph(new_graph):\n",
    "                graphs.append(new_graph)\n",
    "    \n",
    "    else:\n",
    "        graphs = [graph]\n",
    "    \n",
    "    bic_calculator = BicScore(pd.DataFrame(exp_array))\n",
    "    bics = [bic_calculator.score(i) for i in graphs]\n",
    "    \n",
    "    return graphs, bics"
   ]
  },
  {
   "cell_type": "code",
   "execution_count": 8,
   "metadata": {},
   "outputs": [],
   "source": [
    "wine = utils.get_data_from_ucirepo(109).drop([\"class_2\", \"class_3\"], axis = 1)"
   ]
  },
  {
   "cell_type": "code",
   "execution_count": 9,
   "metadata": {},
   "outputs": [
    {
     "name": "stdout",
     "output_type": "stream",
     "text": [
      "-32,155,814,029\n"
     ]
    }
   ],
   "source": [
    "random_orders = []\n",
    "\n",
    "for i in range(100):\n",
    "    random_orders.append(np.random.permutation([*range(len(wine.columns))]).tolist())\n",
    "\n",
    "random_result = []\n",
    "\n",
    "for i in random_orders:\n",
    "    graph, bics = get_graphs(wine, i)\n",
    "    if len(graph) > 0:\n",
    "        random_result.append({\"graphs\": graph, \"bics\": bics})\n",
    "        \n",
    "print(\"{:,.0f}\".format(median([min(i[\"bics\"]) for i in random_result])))"
   ]
  },
  {
   "cell_type": "code",
   "execution_count": 10,
   "metadata": {},
   "outputs": [
    {
     "name": "stdout",
     "output_type": "stream",
     "text": [
      "No DAG\n",
      "-1,165,612,442\n",
      "No DAG\n",
      "-32,299,204,190\n"
     ]
    }
   ],
   "source": [
    "embedding_names = [*set(data.variable.tolist())]\n",
    "embedding_orders = []\n",
    "\n",
    "for i in embedding_names:\n",
    "    embeddings = data[data.variable == i].embeddings.tolist()\n",
    "    distance_matrix = squareform(pdist(embeddings))\n",
    "    distance_matrix[:, 0] = 0\n",
    "    order = solve_tsp_dynamic_programming(distance_matrix)[0]\n",
    "    # order = order[::2] + order[1::2]\n",
    "    embedding_orders.append(order)\n",
    "\n",
    "embedding_results = []\n",
    "\n",
    "for i in embedding_orders:\n",
    "    graph, bics = get_graphs(wine, i)\n",
    "    if len(graph) > 0:\n",
    "        print(\"{:,.0f}\".format(min(bics)))\n",
    "    else :\n",
    "        print(\"No DAG\")"
   ]
  },
  {
   "cell_type": "code",
   "execution_count": 11,
   "metadata": {},
   "outputs": [
    {
     "data": {
      "text/plain": [
       "['column_name', 'name_description', 'variable_name', 'prompt']"
      ]
     },
     "execution_count": 11,
     "metadata": {},
     "output_type": "execute_result"
    }
   ],
   "source": []
  },
  {
   "cell_type": "code",
   "execution_count": null,
   "metadata": {},
   "outputs": [],
   "source": []
  }
 ],
 "metadata": {
  "kernelspec": {
   "display_name": "Python 3",
   "language": "python",
   "name": "python3"
  },
  "language_info": {
   "codemirror_mode": {
    "name": "ipython",
    "version": 3
   },
   "file_extension": ".py",
   "mimetype": "text/x-python",
   "name": "python",
   "nbconvert_exporter": "python",
   "pygments_lexer": "ipython3",
   "version": "3.11.6"
  }
 },
 "nbformat": 4,
 "nbformat_minor": 2
}
