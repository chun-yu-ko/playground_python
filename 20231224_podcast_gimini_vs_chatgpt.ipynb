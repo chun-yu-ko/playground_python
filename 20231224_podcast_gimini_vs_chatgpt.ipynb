{
 "cells": [
  {
   "cell_type": "code",
   "execution_count": 7,
   "metadata": {},
   "outputs": [],
   "source": [
    "from utils import get_answer_chatgpt, get_answer_gimini\n",
    "from json import loads\n",
    "import pandas as pd"
   ]
  },
  {
   "cell_type": "code",
   "execution_count": 5,
   "metadata": {},
   "outputs": [],
   "source": [
    "data = pd.read_csv(\"data/CIS5E1_topics.csv\")\n",
    "script = \" \".join(data.text.tolist())\n",
    "prompt = \"Please write the topic and take notes for this speech:\\n {script}\".format(script=script)"
   ]
  },
  {
   "cell_type": "code",
   "execution_count": 6,
   "metadata": {},
   "outputs": [],
   "source": [
    "answer_chatgpt = get_answer_chatgpt(prompt)\n",
    "answer_gimini = get_answer_gimini(prompt)"
   ]
  },
  {
   "cell_type": "code",
   "execution_count": 8,
   "metadata": {},
   "outputs": [
    {
     "name": "stdout",
     "output_type": "stream",
     "text": [
      "**Topic:**\n",
      "Tribute to Ralph D'Agostino Sr. and Discussion on the Future of Epidemiology and Biostatistics\n",
      "\n",
      "**Notes:**\n",
      "\n",
      "- **Introduction:**\n",
      "  - Casual Inference podcast hosts, Lucy and Ellie, welcome listeners to a special episode.\n",
      "  - The episode is in memoriam for Ralph D'Agostino Sr., who passed away at the end of September.\n",
      "  - Ralph Sr. had a significant impact on the field of biostatistics and was a guest on the podcast.\n",
      "  - He was a professor at Boston University, involved in the Math Stats and Biostats Departments.\n",
      "  - Ralph Sr. was also Lucy's grandfather, adding personal significance to the tribute.\n",
      "\n",
      "- **Ralph D'Agostino Sr.'s Background:**\n",
      "  - Extensive career in biostatistics, including work with the FDA and the Framingham Heart Study.\n",
      "  - Contributed to various fields, from economic analysis to identifying serial killers with the FBI.\n",
      "  - His work on predictive models and risk scores has been foundational and continues to influence future research.\n",
      "\n",
      "- **Ralph D'Agostino Jr.'s Contributions:**\n",
      "  - Focused on statistical techniques for observational settings and predictive functions.\n",
      "  - His work includes developing methods for handling missing data and propensity score models.\n",
      "  - Ralph Jr. emphasizes the importance of correctly using statistical methods and the challenges that come with widespread adoption.\n",
      "\n",
      "- **Framingham Heart Study:**\n",
      "  - Ralph Sr. discusses the history and impact of the Framingham Heart Study.\n",
      "  - The study pioneered the use of Cox regression models for long-term risk prediction.\n",
      "  - Framingham functions have become a standard for developing guidelines for treatment and prevention.\n",
      "\n",
      "- **Causal Inference and Future Directions:**\n",
      "  - There is a growing excitement around causal inference due to increased data availability and computational power.\n",
      "  - Ralph Jr. hopes for \"version science,\" where research builds upon previous work in a collaborative and iterative manner.\n",
      "  - The importance of communication and interpretation of results is emphasized, as computers cannot replace human understanding and explanation.\n",
      "\n",
      "- **Closing Thoughts:**\n",
      "  - The hosts and guests reflect on the importance of statisticians being able to communicate complex results to a broader audience.\n",
      "  - The future of epidemiology and biostatistics will likely involve more real-time, collaborative research with a focus on clear communication and interpretation.\n",
      "  - The episode concludes with gratitude for Ralph Sr.'s contributions and a look forward to the advancements in the field.\n"
     ]
    }
   ],
   "source": [
    "print(answer_chatgpt.choices[0].message.content)"
   ]
  },
  {
   "cell_type": "code",
   "execution_count": 9,
   "metadata": {},
   "outputs": [
    {
     "name": "stdout",
     "output_type": "stream",
     "text": [
      "Topic: Casual Inference\n",
      "\n",
      "Notes:\n",
      "\n",
      "1. Introduction:\n",
      "   - Welcome to Casual Inference, a podcast hosted by Lucy D'Agostino-McGowan and Ellie Murray.\n",
      "   - Today's special episode features a conversation with Ralph D'Agostino Sr. and Ralph D'Agostino Jr., Lucy's father and grandfather, respectively.\n",
      "   - Both Ralph Sr. and Ralph Jr. are distinguished statisticians and epidemiologists with extensive contributions to their fields.\n",
      "\n",
      "2. Ralph D'Agostino Sr.'s Contributions:\n",
      "   - Worked at United Brands, Hanscom Field, and the FDA.\n",
      "   - Involved in the Framingham Heart Study, where he developed risk functions and predictive models for cardiovascular disease.\n",
      "   - Collaborated with the FBI to analyze serial killer activities.\n",
      "   - Conducted research on emergency room treatments for cardiovascular conditions.\n",
      "   - Served as co-principal investigator of the Framingham study from 2007 to 2015.\n",
      "   - Currently studying cardiovascular risk in the HIV population.\n",
      "\n",
      "3. Ralph D'Agostino Jr.'s Contributions:\n",
      "   - Worked on a project related to asbestos exposure in the environment during his PhD studies.\n",
      "   - Focused on observational data sets and causal inference throughout his career.\n",
      "   - Developed propensity score methods and wrote a tutorial on their application in epidemiology and clinical research.\n",
      "   - Initially faced challenges in getting people to use propensity scores correctly, but later shifted focus to helping researchers use them appropriately.\n",
      "   - Currently interested in conducting valid causal inference using non-randomized data collected in non-standardized ways from large, publicly available databases.\n",
      "\n",
      "4. Discussion on the Framingham Heart Study:\n",
      "   - Ralph Sr. joined the study in 1981 and observed that logistic regression was being used to relate risk factors to coronary heart disease.\n",
      "   - He suggested using Cox regression instead, which allowed for following individuals over longer periods and relating baseline data to cardiovascular disease occurrence.\n",
      "   - The Framingham functions developed using Cox regression worked well on Framingham data and were validated on other studies, establishing their usefulness in predicting cardiovascular risk.\n",
      "   - The Framingham functions became a standard for developing guidelines on when to start treating individuals for cardiovascular disease.\n",
      "\n",
      "5. Discussion on the Resurgence of Causal Inference Methods:\n",
      "   - Ralph Jr. attributes the renewed interest in causal inference to increased data availability, computational advancements, and the emergence of larger publicly available databases.\n",
      "   - These factors have enabled more researchers to access data and conduct causal inference studies without having to construct cohorts themselves.\n",
      "   - The development of tutorials and resources explaining causal inference methods has also contributed to their wider adoption.\n",
      "\n",
      "6. Perspectives on the Future of Epidemiology and Biostatistics:\n",
      "   - Ralph Sr. emphasizes the importance of version science, where research is conducted collaboratively and builds upon previous findings.\n",
      "   - He envisions real-time dashboards for scientific research, allowing for continuous monitoring of progress and updating of results.\n",
      "   - Ralph Jr. highlights the need for collaboration and coordination among scientists to coalesce information and identify important research questions.\n",
      "   - Both Ralph Sr. and Ralph Jr. stress the crucial role of statisticians and data scientists in interpreting and communicating research results to non-quantitative audiences.\n",
      "\n",
      "7. Conclusion:\n",
      "   - The conversation concludes with gratitude expressed to Ralph Sr. and Ralph Jr. for sharing their insights and contributions to the fields of statistics and epidemiology.\n"
     ]
    }
   ],
   "source": [
    "print(loads(answer_gimini.text)[\"candidates\"][0][\"content\"][\"parts\"][0][\"text\"])"
   ]
  },
  {
   "cell_type": "code",
   "execution_count": null,
   "metadata": {},
   "outputs": [],
   "source": []
  }
 ],
 "metadata": {
  "kernelspec": {
   "display_name": "py_3_11",
   "language": "python",
   "name": "python3"
  },
  "language_info": {
   "codemirror_mode": {
    "name": "ipython",
    "version": 3
   },
   "file_extension": ".py",
   "mimetype": "text/x-python",
   "name": "python",
   "nbconvert_exporter": "python",
   "pygments_lexer": "ipython3",
   "version": "3.11.6"
  }
 },
 "nbformat": 4,
 "nbformat_minor": 2
}
