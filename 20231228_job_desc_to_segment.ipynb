{
 "cells": [
  {
   "cell_type": "code",
   "execution_count": 1,
   "metadata": {},
   "outputs": [
    {
     "name": "stdout",
     "output_type": "stream",
     "text": [
      "Token will not been saved to git credential helper. Pass `add_to_git_credential=True` if you want to set the git credential as well.\n",
      "Token is valid (permission: read).\n",
      "Your token has been saved to /Users/chunyuko/.cache/huggingface/token\n",
      "Login successful\n"
     ]
    }
   ],
   "source": [
    "from config import config\n",
    "import utils, json, threading, time\n",
    "import pandas as pd\n",
    "import numpy as np\n",
    "from concurrent.futures import ThreadPoolExecutor"
   ]
  },
  {
   "cell_type": "code",
   "execution_count": 2,
   "metadata": {},
   "outputs": [],
   "source": [
    "job_categories = pd.read_csv(\"data/20231217_job_category.csv\")\n",
    "job_infos = pd.read_csv(\"data/20231228_job_info.csv\")\n",
    "data = job_categories.merge(job_infos, on = \"id\", how = \"left\")\n",
    "descs = [*set(data.sort_values(\"job_desc\")[\"job_desc\"].tolist())]"
   ]
  },
  {
   "cell_type": "code",
   "execution_count": 3,
   "metadata": {},
   "outputs": [],
   "source": [
    "def fetch_content(i, result):\n",
    "    \n",
    "    x = \"\"\"Please extract the job responsibilities from the following text and list them clearly in English bullet points.\n",
    "    Make sure not to include any information that is not part of the job responsibilities.\n",
    "    \"\"\" + str(i)\n",
    "    \n",
    "    try:\n",
    "        time.sleep(0.1)\n",
    "        \n",
    "        content = utils.get_answer_chatgpt(x).choices[0].message.content\n",
    "        \n",
    "        with result_lock:\n",
    "            result.append({\"desc\": i, \"content\": content})\n",
    "    \n",
    "    except Exception as e:\n",
    "        print(f\"Error processing item {i}: {e}\")\n",
    "\n",
    "result = []\n",
    "result_lock = threading.Lock()\n",
    "max_threads = 100\n",
    "\n",
    "with ThreadPoolExecutor(max_workers=max_threads) as executor:\n",
    "    futures = [executor.submit(fetch_content, i, result) for i in descs]\n",
    "\n",
    "    for future in futures:\n",
    "        future.result()"
   ]
  },
  {
   "cell_type": "code",
   "execution_count": 13,
   "metadata": {},
   "outputs": [],
   "source": [
    "data_content = pd.merge(data.filter([\"id\", \"job_desc\"], axis = 1), pd.DataFrame(result), how = \"left\", left_on = \"job_desc\", right_on = \"desc\").filter([\"id\", \"job_desc\", \"content\"])"
   ]
  },
  {
   "cell_type": "code",
   "execution_count": 28,
   "metadata": {},
   "outputs": [],
   "source": [
    "data_content = data_content[[\"-\" in i for i in data_content[\"content\"].tolist()]]"
   ]
  },
  {
   "cell_type": "code",
   "execution_count": 31,
   "metadata": {},
   "outputs": [],
   "source": [
    "def extract_points(x):\n",
    "    return [i.split(\"-\", 1)[1].strip() for i in x.split(\"\\n\") if \"-\" in i]"
   ]
  },
  {
   "cell_type": "code",
   "execution_count": 34,
   "metadata": {},
   "outputs": [
    {
     "name": "stderr",
     "output_type": "stream",
     "text": [
      "/var/folders/nc/bf278_mx3rsg7d_6d9y6rc5w0000gq/T/ipykernel_80581/3597035121.py:1: SettingWithCopyWarning: \n",
      "A value is trying to be set on a copy of a slice from a DataFrame.\n",
      "Try using .loc[row_indexer,col_indexer] = value instead\n",
      "\n",
      "See the caveats in the documentation: https://pandas.pydata.org/pandas-docs/stable/user_guide/indexing.html#returning-a-view-versus-a-copy\n",
      "  data_content[\"content\"] = data_content[\"content\"].apply(extract_points)\n"
     ]
    }
   ],
   "source": [
    "data_content[\"content\"] = data_content[\"content\"].apply(extract_points)"
   ]
  },
  {
   "cell_type": "code",
   "execution_count": 40,
   "metadata": {},
   "outputs": [],
   "source": [
    "data_content.filter([\"id\", \"content\"]).explode(\"content\").to_csv(\"data/20231228_job_desc_segment.csv\", index = False)"
   ]
  },
  {
   "cell_type": "code",
   "execution_count": null,
   "metadata": {},
   "outputs": [],
   "source": []
  }
 ],
 "metadata": {
  "kernelspec": {
   "display_name": "py_3_11",
   "language": "python",
   "name": "python3"
  },
  "language_info": {
   "codemirror_mode": {
    "name": "ipython",
    "version": 3
   },
   "file_extension": ".py",
   "mimetype": "text/x-python",
   "name": "python",
   "nbconvert_exporter": "python",
   "pygments_lexer": "ipython3",
   "version": "3.11.6"
  }
 },
 "nbformat": 4,
 "nbformat_minor": 2
}
