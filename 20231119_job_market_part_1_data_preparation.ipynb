{
 "cells": [
  {
   "cell_type": "markdown",
   "metadata": {},
   "source": [
    "# Part 1: Data Preparation\n",
    "\n",
    " - Objective: Analyze changes in Data Science and Analytics (DSA) job content over the past 10 months in Taipei.\n",
    "\n",
    " - Data Collection: Compilation of job data in Taipei, focusing on positions related to Data Science and Analytics.\n",
    "\n",
    " - Data Scope: The dataset includes some positions that may not be directly relevant to DSA.\n",
    "\n",
    " - Initial Step: Filter out job postings that are not pertinent to DSA.\n",
    " \n",
    " - Analysis Method: Employ dynamic topic modeling to identify shifts in the content of DSA job descriptions during the 10-month period."
   ]
  },
  {
   "cell_type": "markdown",
   "metadata": {},
   "source": [
    "# Environment Setup"
   ]
  },
  {
   "cell_type": "code",
   "execution_count": null,
   "metadata": {},
   "outputs": [],
   "source": [
    "import utils, json\n",
    "import pandas as pd\n",
    "import numpy as np"
   ]
  },
  {
   "cell_type": "code",
   "execution_count": 2,
   "metadata": {},
   "outputs": [],
   "source": [
    "bigquery_client = utils.get_bigquery_client(\"job\")"
   ]
  },
  {
   "cell_type": "markdown",
   "metadata": {},
   "source": [
    "# Data Acquisition"
   ]
  },
  {
   "cell_type": "markdown",
   "metadata": {},
   "source": [
    "## From BigQuery"
   ]
  },
  {
   "cell_type": "code",
   "execution_count": 3,
   "metadata": {},
   "outputs": [],
   "source": [
    "query = \"\"\"\n",
    "with\n",
    "  raw_data as \n",
    "    (\n",
    "      select\n",
    "        *,\n",
    "        row_number() over(partition by id order by update_date desc) as order_id\n",
    "      from `{{project}}.{{dataset}}.{{datatable}}`\n",
    "    ),\n",
    "  latest as \n",
    "    (\n",
    "      select\n",
    "        * except(order_id)\n",
    "      from raw_data\n",
    "      where order_id = 1\n",
    "    )\n",
    "  select\n",
    "    id,\n",
    "    job_name,\n",
    "    job_desc\n",
    "  from latest\n",
    "  where ( salary like any (\"%面議%\", \"%月薪%\", \"%年薪%\") ) \n",
    "    and lower(job_name) not like any (\"%實習%\", \"%工讀%\", \"%打工%\", \"%接案%\", \"%parttime%\", \"%part time%\", \"%part-time%\", \"%intern%\")\n",
    "\"\"\"\n",
    "data = utils.get_bigquery_query(query, bigquery_client)"
   ]
  },
  {
   "cell_type": "code",
   "execution_count": 4,
   "metadata": {},
   "outputs": [],
   "source": [
    "data.info()"
   ]
  },
  {
   "cell_type": "code",
   "execution_count": 5,
   "metadata": {},
   "outputs": [],
   "source": [
    "data.to_csv(\"data/20231119_job_market_job.csv\", index=False)"
   ]
  },
  {
   "cell_type": "markdown",
   "metadata": {},
   "source": [
    "## Get Embeddings"
   ]
  },
  {
   "cell_type": "code",
   "execution_count": 6,
   "metadata": {},
   "outputs": [],
   "source": [
    "list_job_name = utils.get_splited_list(data[\"job_name\"].tolist(), 2000)\n",
    "list_job_name_embeddings = [utils.get_openai_embedding(i) for i in list_job_name]\n",
    "list_job_name_embeddings = [i for j in list_job_name_embeddings for i in j]\n",
    "list_job_name_embeddings = [i.embedding for i in list_job_name_embeddings]"
   ]
  },
  {
   "cell_type": "code",
   "execution_count": 7,
   "metadata": {},
   "outputs": [],
   "source": [
    "json.dump(list_job_name_embeddings, open(\"data/20231119_job_market_job_name_embeddings.json\", \"w\"))"
   ]
  },
  {
   "cell_type": "markdown",
   "metadata": {},
   "source": [
    "## Load"
   ]
  },
  {
   "cell_type": "code",
   "execution_count": 8,
   "metadata": {},
   "outputs": [],
   "source": [
    "data = pd.read_csv(\"data/20231119_job_market_job.csv\")\n",
    "list_job_name_embeddings = json.load(open(\"data/20231119_job_market_job_name_embeddings.json\", \"r\"))"
   ]
  }
 ],
 "metadata": {
  "kernelspec": {
   "display_name": "py_3_11",
   "language": "python",
   "name": "python3"
  },
  "language_info": {
   "codemirror_mode": {
    "name": "ipython",
    "version": 3
   },
   "file_extension": ".py",
   "mimetype": "text/x-python",
   "name": "python",
   "nbconvert_exporter": "python",
   "pygments_lexer": "ipython3",
   "version": "3.11.5"
  }
 },
 "nbformat": 4,
 "nbformat_minor": 2
}
