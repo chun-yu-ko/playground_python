{
 "cells": [
  {
   "cell_type": "code",
   "execution_count": null,
   "metadata": {},
   "outputs": [],
   "source": [
    "import pandas as pd\n",
    "import numpy as np\n",
    "import json\n",
    "from ckip_transformers.nlp import CkipNerChunker\n",
    "from sklearn.utils import shuffle"
   ]
  },
  {
   "cell_type": "code",
   "execution_count": null,
   "metadata": {},
   "outputs": [],
   "source": [
    "docs = pd.read_csv(\"data/novel_1/documents.csv\")"
   ]
  },
  {
   "cell_type": "code",
   "execution_count": null,
   "metadata": {},
   "outputs": [],
   "source": [
    "titles = docs[\"title\"].unique().tolist()\n",
    "sentances = docs[\"sentance\"].tolist()"
   ]
  },
  {
   "cell_type": "code",
   "execution_count": null,
   "metadata": {},
   "outputs": [],
   "source": [
    "clean_titles = []\n",
    "\n",
    "for i in titles:\n",
    "    try:\n",
    "        clean_titles.append(i.split(\" \")[1])\n",
    "    except:\n",
    "        clean_titles.append(\"\")"
   ]
  },
  {
   "cell_type": "code",
   "execution_count": null,
   "metadata": {},
   "outputs": [],
   "source": [
    "ner_driver = CkipNerChunker(model = \"bert-base\")\n",
    "ners = ner_driver(sentances, use_delim=True)\n",
    "ner_result = [(j[0], j[1]) for i in ners for j in i]\n",
    "ner_result = sorted(set(ner_result))"
   ]
  },
  {
   "cell_type": "code",
   "execution_count": null,
   "metadata": {},
   "outputs": [],
   "source": [
    "with open(\"data/novel_1/ner_ckip.json\", \"w\", encoding = \"utf-8\") as f:\n",
    "    json.dump(ner_result, f, ensure_ascii=False, indent=4)"
   ]
  }
 ],
 "metadata": {
  "kernelspec": {
   "display_name": "py_3_11",
   "language": "python",
   "name": "python3"
  },
  "language_info": {
   "codemirror_mode": {
    "name": "ipython",
    "version": 3
   },
   "file_extension": ".py",
   "mimetype": "text/x-python",
   "name": "python",
   "nbconvert_exporter": "python",
   "pygments_lexer": "ipython3",
   "version": "3.11.6"
  }
 },
 "nbformat": 4,
 "nbformat_minor": 2
}
