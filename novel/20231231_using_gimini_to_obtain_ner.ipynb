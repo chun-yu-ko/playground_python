{
 "cells": [
  {
   "cell_type": "code",
   "execution_count": null,
   "metadata": {},
   "outputs": [],
   "source": [
    "import utils, json\n",
    "import pandas as pd"
   ]
  },
  {
   "cell_type": "code",
   "execution_count": 2,
   "metadata": {},
   "outputs": [],
   "source": [
    "prompt = \"請閱讀並理解以下文章後以 json 格式列出所有出現的人物名稱與地點\\n{text}\"\n",
    "docs = pd.read_csv(\"data/novel_1/documents.csv\")\n",
    "texts = docs.groupby(\"title_id\", as_index = False).agg(text = (\"sentance\", lambda x: \" \".join(x)))[\"text\"].tolist()"
   ]
  },
  {
   "cell_type": "code",
   "execution_count": null,
   "metadata": {},
   "outputs": [],
   "source": [
    "answers = []\n",
    "\n",
    "for i in range(len(texts)):\n",
    "    \n",
    "    if i % 100 == 0:\n",
    "        print(i)\n",
    "        \n",
    "    try:\n",
    "        text = prompt.format(text = texts[i])\n",
    "        answer = utils.get_answer_gimini(text)\n",
    "        answers.append(json.loads(answer.text)[\"candidates\"][0][\"content\"][\"parts\"][0][\"text\"])\n",
    "    except:\n",
    "        pass"
   ]
  },
  {
   "cell_type": "code",
   "execution_count": 4,
   "metadata": {},
   "outputs": [],
   "source": [
    "with open(\"data/novel_1/ner_gimini_json\", \"w\", encoding = \"utf-8\") as f:\n",
    "    json.dump(answers, f, ensure_ascii=False, indent=4)"
   ]
  }
 ],
 "metadata": {
  "kernelspec": {
   "display_name": "py_3_11",
   "language": "python",
   "name": "python3"
  },
  "language_info": {
   "codemirror_mode": {
    "name": "ipython",
    "version": 3
   },
   "file_extension": ".py",
   "mimetype": "text/x-python",
   "name": "python",
   "nbconvert_exporter": "python",
   "pygments_lexer": "ipython3",
   "version": "3.11.6"
  }
 },
 "nbformat": 4,
 "nbformat_minor": 2
}
