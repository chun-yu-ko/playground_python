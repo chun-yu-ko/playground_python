{
 "cells": [
  {
   "cell_type": "code",
   "execution_count": 13,
   "metadata": {},
   "outputs": [],
   "source": [
    "from selenium import webdriver\n",
    "from selenium.webdriver.common.by import By\n",
    "from selenium.webdriver.support.ui import WebDriverWait\n",
    "from selenium.webdriver.support import expected_conditions as EC\n",
    "from bs4 import BeautifulSoup\n",
    "import time, os\n",
    "import pandas as pd\n",
    "from pathlib import Path"
   ]
  },
  {
   "cell_type": "code",
   "execution_count": 14,
   "metadata": {},
   "outputs": [],
   "source": [
    "files = pd.DataFrame()\n",
    "driver = webdriver.Chrome()\n",
    "driver.implicitly_wait(10)"
   ]
  },
  {
   "cell_type": "code",
   "execution_count": 15,
   "metadata": {},
   "outputs": [
    {
     "name": "stderr",
     "output_type": "stream",
     "text": [
      "/var/folders/nc/bf278_mx3rsg7d_6d9y6rc5w0000gq/T/ipykernel_99478/3736914602.py:6: FutureWarning: Passing literal html to 'read_html' is deprecated and will be removed in a future version. To read from a literal string, wrap it in a 'StringIO' object.\n",
      "  issues = pd.read_html(driver.page_source, skiprows=2, header=0)[0]\n",
      "/var/folders/nc/bf278_mx3rsg7d_6d9y6rc5w0000gq/T/ipykernel_99478/3736914602.py:13: FutureWarning: Passing literal html to 'read_html' is deprecated and will be removed in a future version. To read from a literal string, wrap it in a 'StringIO' object.\n",
      "  file = pd.read_html(driver.page_source, skiprows=1, header=0)[0]\n",
      "/var/folders/nc/bf278_mx3rsg7d_6d9y6rc5w0000gq/T/ipykernel_99478/3736914602.py:13: FutureWarning: Passing literal html to 'read_html' is deprecated and will be removed in a future version. To read from a literal string, wrap it in a 'StringIO' object.\n",
      "  file = pd.read_html(driver.page_source, skiprows=1, header=0)[0]\n",
      "/var/folders/nc/bf278_mx3rsg7d_6d9y6rc5w0000gq/T/ipykernel_99478/3736914602.py:13: FutureWarning: Passing literal html to 'read_html' is deprecated and will be removed in a future version. To read from a literal string, wrap it in a 'StringIO' object.\n",
      "  file = pd.read_html(driver.page_source, skiprows=1, header=0)[0]\n",
      "/var/folders/nc/bf278_mx3rsg7d_6d9y6rc5w0000gq/T/ipykernel_99478/3736914602.py:13: FutureWarning: Passing literal html to 'read_html' is deprecated and will be removed in a future version. To read from a literal string, wrap it in a 'StringIO' object.\n",
      "  file = pd.read_html(driver.page_source, skiprows=1, header=0)[0]\n",
      "/var/folders/nc/bf278_mx3rsg7d_6d9y6rc5w0000gq/T/ipykernel_99478/3736914602.py:13: FutureWarning: Passing literal html to 'read_html' is deprecated and will be removed in a future version. To read from a literal string, wrap it in a 'StringIO' object.\n",
      "  file = pd.read_html(driver.page_source, skiprows=1, header=0)[0]\n"
     ]
    }
   ],
   "source": [
    "url = \"https://priq-out.cy.gov.tw/GipExtendWeb/wSite/SpecialPublication/SpecificLP.jsp\"\n",
    "\n",
    "driver.get(url)\n",
    "driver.find_element(By.XPATH, \"//*[text()='專刊期別']\").click()\n",
    "driver.find_element(By.XPATH, \"/html/body/table/tbody/tr/td[1]/div/div/span[2]/ul/li[4]/a\").click()\n",
    "issues = pd.read_html(driver.page_source, skiprows=2, header=0)[0]\n",
    "issues.columns = [\"id\", \"issue\", \"type\", \"date\", \"record\", \"unknown\"]\n",
    "\n",
    "for i in issues.query(\"issue>190\").issue.tolist():\n",
    "    \n",
    "    driver.find_element(By.XPATH, \"//*[text()='\" + str(i) + \"']\").click()\n",
    "    driver.find_element(By.XPATH, \"/html/body/table/tbody/tr/td[1]/div/div/span[2]/ul/li[4]/a\").click()\n",
    "    file = pd.read_html(driver.page_source, skiprows=1, header=0)[0]\n",
    "    file.columns = [\"id\", \"name\", \"issue\", \"title\", \"type\", \"date\", \"page\"]\n",
    "    files = pd.concat([files, file], axis = 1)\n",
    "    \n",
    "    for j in file.index:\n",
    "        \n",
    "        try:\n",
    "            driver.find_element(By.XPATH, \"/html/body/table/tbody/tr/td[1]/div/table/tbody/tr[\"+str(j + 2)+\"]/td[2]/a\").click()\n",
    "        except:\n",
    "            pass\n",
    "        \n",
    "    driver.back()\n",
    "    \n",
    "    driver.back()\n",
    "\n",
    "driver.quit()"
   ]
  },
  {
   "cell_type": "code",
   "execution_count": null,
   "metadata": {},
   "outputs": [],
   "source": []
  }
 ],
 "metadata": {
  "kernelspec": {
   "display_name": "py_3_11",
   "language": "python",
   "name": "python3"
  },
  "language_info": {
   "codemirror_mode": {
    "name": "ipython",
    "version": 3
   },
   "file_extension": ".py",
   "mimetype": "text/x-python",
   "name": "python",
   "nbconvert_exporter": "python",
   "pygments_lexer": "ipython3",
   "version": "3.11.6"
  }
 },
 "nbformat": 4,
 "nbformat_minor": 2
}
