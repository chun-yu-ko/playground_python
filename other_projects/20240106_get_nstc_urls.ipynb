{
 "cells": [
  {
   "cell_type": "code",
   "execution_count": 48,
   "metadata": {},
   "outputs": [],
   "source": [
    "from selenium import webdriver\n",
    "from selenium.webdriver.common.by import By\n",
    "from tqdm import tqdm\n",
    "import time, os, json"
   ]
  },
  {
   "cell_type": "code",
   "execution_count": 34,
   "metadata": {},
   "outputs": [],
   "source": [
    "driver = webdriver.Chrome()\n",
    "driver.implicitly_wait(10)"
   ]
  },
  {
   "cell_type": "code",
   "execution_count": 35,
   "metadata": {},
   "outputs": [],
   "source": [
    "url = \"https://arspb.nstc.gov.tw/NSCWebFront/modules/talentSearch/talentSearch.do\"\n",
    "driver.get(url)\n",
    "driver.find_element(By.XPATH, \"/html/body/div/table/tbody/tr/td/div/div[2]/div/form/div[2]/input[1]\").click()\n",
    "driver.find_element(By.XPATH, \"/html/body/div/table/tbody/tr/td/div/div[2]/div/div[1]/select/option[5]\").click()"
   ]
  },
  {
   "cell_type": "code",
   "execution_count": 36,
   "metadata": {},
   "outputs": [],
   "source": [
    "pages = driver.find_element(By.XPATH, \"/html/body/div/table/tbody/tr/td/div/div[2]/div/div[1]/span/select\").text.replace(\" \", \"\").replace(\"\\n\\n\", \"\\n\").split(\"\\n\")\n",
    "pages = [i for i in pages if i != \"\"]"
   ]
  },
  {
   "cell_type": "code",
   "execution_count": 46,
   "metadata": {},
   "outputs": [
    {
     "name": "stderr",
     "output_type": "stream",
     "text": [
      "100%|██████████| 1172/1172 [25:40<00:00,  1.31s/it]\n"
     ]
    }
   ],
   "source": [
    "links = []\n",
    "for i in tqdm(range(len(pages))):\n",
    "    driver.find_element(By.XPATH, \"/html/body/div/table/tbody/tr/td/div/div[2]/div/div[1]/span/select/option[{no}]\".format(no = pages[i])).click()\n",
    "    link = driver.find_element(By.XPATH, \"/html/body/div/table/tbody/tr/td/div/div[2]/div/div[2]/table/tbody\").find_elements(By.CSS_SELECTOR, \"a\")\n",
    "    links.extend([j.get_attribute(\"href\") for j in link])"
   ]
  },
  {
   "cell_type": "code",
   "execution_count": 50,
   "metadata": {},
   "outputs": [],
   "source": [
    "with open(\"data/20240106_nstc_urls.json\", \"w\", encoding = \"utf-8\") as f:\n",
    "    json.dump(links, f, ensure_ascii = False, indent = 4)"
   ]
  },
  {
   "cell_type": "code",
   "execution_count": null,
   "metadata": {},
   "outputs": [],
   "source": []
  }
 ],
 "metadata": {
  "kernelspec": {
   "display_name": "py_3_11",
   "language": "python",
   "name": "python3"
  },
  "language_info": {
   "codemirror_mode": {
    "name": "ipython",
    "version": 3
   },
   "file_extension": ".py",
   "mimetype": "text/x-python",
   "name": "python",
   "nbconvert_exporter": "python",
   "pygments_lexer": "ipython3",
   "version": "3.11.6"
  }
 },
 "nbformat": 4,
 "nbformat_minor": 2
}
