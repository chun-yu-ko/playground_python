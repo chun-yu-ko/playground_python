{
 "cells": [
  {
   "cell_type": "code",
   "execution_count": 97,
   "metadata": {},
   "outputs": [],
   "source": [
    "import utils, json\n",
    "import pandas as pd\n",
    "from bertopic import BERTopic\n",
    "from sentence_transformers import SentenceTransformer\n",
    "from umap import UMAP\n",
    "from hdbscan import HDBSCAN\n",
    "from ckiptagger import data_utils, construct_dictionary, WS"
   ]
  },
  {
   "cell_type": "code",
   "execution_count": 272,
   "metadata": {},
   "outputs": [],
   "source": [
    "job = pd.read_csv(\"data/20231119_job_market_job.csv\")\n",
    "job_id = json.load(open(\"data/20231119_job_market_dsa_job_id.json\", \"r\"))\n",
    "job = job[job[\"id\"].isin(job_id)]\n",
    "job_desc = job[\"job_desc\"].astype(str).tolist()\n",
    "stopwords = open(\"data/20231119_job_market_stopwords.txt\", \"r\").read().splitlines()\n",
    "stopwords+=[\"\\n\",\"\\r\",\"\\t\", \",\"]"
   ]
  },
  {
   "cell_type": "markdown",
   "metadata": {},
   "source": [
    "[SentenceTransformer - Pretrained Models\n",
    "](https://www.sbert.net/docs/pretrained_models.html#pretrained-models)\n"
   ]
  },
  {
   "cell_type": "code",
   "execution_count": 273,
   "metadata": {},
   "outputs": [],
   "source": [
    "ws = WS(\"./data\")"
   ]
  },
  {
   "cell_type": "code",
   "execution_count": 274,
   "metadata": {},
   "outputs": [],
   "source": [
    "words = ws(job_desc, sentence_segmentation=True, segment_delimiter_set = {\"?\", \"。\", \"!\", \";\", \":\", \" \", \"\\n\", \"\\r\", \"\\t\", \"\", \" \"})"
   ]
  },
  {
   "cell_type": "code",
   "execution_count": 275,
   "metadata": {},
   "outputs": [],
   "source": [
    "words = [[i for i in j if i not in stopwords] for j in words]\n",
    "job_desc_split = [\" \".join(i) for i in words]"
   ]
  },
  {
   "cell_type": "code",
   "execution_count": 276,
   "metadata": {},
   "outputs": [
    {
     "data": {
      "text/plain": [
       "['數據',\n",
       " '分析',\n",
       " '資料',\n",
       " '開發',\n",
       " '經驗',\n",
       " '系統',\n",
       " '學習',\n",
       " '資料庫',\n",
       " '管理',\n",
       " '專案',\n",
       " '技術',\n",
       " '設計',\n",
       " '產品',\n",
       " '模型',\n",
       " '應用',\n",
       " '協助',\n",
       " '規劃',\n",
       " '客戶',\n",
       " '問題',\n",
       " '提供',\n",
       " '解決',\n",
       " '服務',\n",
       " '溝通',\n",
       " '執行',\n",
       " '工具',\n",
       " '業務',\n",
       " '優化',\n",
       " '機器',\n",
       " '維護',\n",
       " 'experience ',\n",
       " '負責',\n",
       " '商業',\n",
       " '•\\t',\n",
       " '研究',\n",
       " '流程',\n",
       " '建置',\n",
       " '程式',\n",
       " '平台',\n",
       " '架構',\n",
       " 'business ',\n",
       " '方案',\n",
       " '演算法',\n",
       " 'learning ',\n",
       " '建立',\n",
       " '行銷',\n",
       " 'machine ',\n",
       " '發展',\n",
       " '數位',\n",
       " '統計',\n",
       " 'python',\n",
       " '報表',\n",
       " '整合',\n",
       " '資訊',\n",
       " 'you ',\n",
       " '軟體',\n",
       " 'ai',\n",
       " '提出',\n",
       " '撰寫',\n",
       " '監控',\n",
       " 'sql',\n",
       " '語言',\n",
       " '深度',\n",
       " '參與',\n",
       " '運用',\n",
       " 'team ',\n",
       " '營運',\n",
       " 'sql ',\n",
       " '報告',\n",
       " '策略',\n",
       " '建議',\n",
       " 'are ',\n",
       " 'work ',\n",
       " '測試',\n",
       " '作業',\n",
       " '能夠',\n",
       " '目標',\n",
       " '行為',\n",
       " '決策',\n",
       " '包含',\n",
       " '科技',\n",
       " '視覺化',\n",
       " '效能',\n",
       " '工程',\n",
       " '市場',\n",
       " '知識',\n",
       " '金融',\n",
       " '提升',\n",
       " '專業',\n",
       " '產業',\n",
       " 'ai ',\n",
       " '廣告',\n",
       " '職務',\n",
       " '環境',\n",
       " '& ',\n",
       " 'computer ',\n",
       " '評估',\n",
       " '主管',\n",
       " '操作',\n",
       " '工程師',\n",
       " '追蹤',\n",
       " '智慧',\n",
       " '預測',\n",
       " '事項',\n",
       " '研發',\n",
       " '維運',\n",
       " '完成',\n",
       " '自動化',\n",
       " '價值',\n",
       " '雲端',\n",
       " 'development ',\n",
       " '持續',\n",
       " 'new ',\n",
       " '驗證',\n",
       " '文件',\n",
       " '邏輯',\n",
       " 'analysis ',\n",
       " '導入',\n",
       " '需要',\n",
       " '訓練',\n",
       " '創新',\n",
       " 'bi',\n",
       " 'from ',\n",
       " '主要',\n",
       " '配合',\n",
       " '獨立',\n",
       " '經營',\n",
       " 'develop ',\n",
       " '支援',\n",
       " '洞察',\n",
       " '影像',\n",
       " '單位',\n",
       " '製作',\n",
       " 'other ',\n",
       " 'google ',\n",
       " 'such ',\n",
       " '品牌',\n",
       " 'python ',\n",
       " 'etl',\n",
       " '結果',\n",
       " '可以',\n",
       " '成效',\n",
       " '任務',\n",
       " '* ',\n",
       " '科學',\n",
       " 'an ',\n",
       " '用戶',\n",
       " '挑戰',\n",
       " '網路',\n",
       " '人工',\n",
       " '推動',\n",
       " 'design ',\n",
       " '● ',\n",
       " 'product ',\n",
       " '積極',\n",
       " '產出',\n",
       " '快速',\n",
       " '擁有',\n",
       " '協調',\n",
       " '收集',\n",
       " 'deep ',\n",
       " '集團',\n",
       " '活動',\n",
       " '履歷',\n",
       " 'power ',\n",
       " '主動',\n",
       " '品質',\n",
       " '模式',\n",
       " '基礎',\n",
       " '體驗',\n",
       " '趨勢',\n",
       " '方法',\n",
       " '有效',\n",
       " '夥伴',\n",
       " '日常',\n",
       " '指標',\n",
       " 'software ',\n",
       " '要求',\n",
       " '興趣',\n",
       " 'knowledge ',\n",
       " '視覺',\n",
       " '網站',\n",
       " '機會',\n",
       " '了解',\n",
       " 'performance ',\n",
       " '共同',\n",
       " 'have ',\n",
       " '確保',\n",
       " 'support ',\n",
       " '成長',\n",
       " '計畫',\n",
       " '資源',\n",
       " 'related ',\n",
       " 'using ',\n",
       " '蒐集',\n",
       " 'learning',\n",
       " '智能',\n",
       " 'working ',\n",
       " 'including ',\n",
       " 'ability ',\n",
       " 'system ',\n",
       " 'build ',\n",
       " '分享',\n",
       " 'model ',\n",
       " 'familiar ',\n",
       " '至',\n",
       " '會員',\n",
       " '風險',\n",
       " '\\u3000',\n",
       " '打造',\n",
       " 'vision ',\n",
       " '清洗',\n",
       " '以下',\n",
       " '排除',\n",
       " '電腦',\n",
       " 'management ',\n",
       " 'research ',\n",
       " '實際',\n",
       " '整理',\n",
       " 'strong ',\n",
       " '投遞',\n",
       " '利用',\n",
       " 'by ',\n",
       " '驅動',\n",
       " '協作',\n",
       " '建模',\n",
       " '高',\n",
       " '實務',\n",
       " '調校',\n",
       " 'data',\n",
       " 'this ',\n",
       " '此',\n",
       " '倉儲',\n",
       " 'at ',\n",
       " 'database ',\n",
       " 'tableau',\n",
       " '定期',\n",
       " 'skills ',\n",
       " 'into ',\n",
       " '對於',\n",
       " '銷售',\n",
       " '改善',\n",
       " '效率',\n",
       " 'teams ',\n",
       " '實作',\n",
       " '人員',\n",
       " '人才',\n",
       " '基本',\n",
       " '台灣',\n",
       " '組織',\n",
       " '致力',\n",
       " '如果',\n",
       " '都',\n",
       " '根據',\n",
       " '創造',\n",
       " 'project ',\n",
       " '至少',\n",
       " '其',\n",
       " '部署',\n",
       " '實現',\n",
       " '理解',\n",
       " 'technical ',\n",
       " '地',\n",
       " '未來',\n",
       " '算法',\n",
       " '挖掘',\n",
       " '熱情',\n",
       " '辨識',\n",
       " '說明',\n",
       " '方式',\n",
       " '語法',\n",
       " 'etc',\n",
       " '簡報',\n",
       " 'communication ',\n",
       " 'models ',\n",
       " '職缺',\n",
       " '轉換',\n",
       " 'about ',\n",
       " '佳\\n',\n",
       " '核心',\n",
       " 'provide ',\n",
       " '績效',\n",
       " '清理',\n",
       " 'mysql',\n",
       " '教育',\n",
       " 'implement ',\n",
       " 'years ',\n",
       " '商品',\n",
       " '好',\n",
       " '備份',\n",
       " '彙整',\n",
       " '解',\n",
       " '時間',\n",
       " '電商',\n",
       " 'your ',\n",
       " '做',\n",
       " '後',\n",
       " 'development',\n",
       " '交易',\n",
       " 'job ',\n",
       " 'analytics ',\n",
       " '同時',\n",
       " 'insights ',\n",
       " 'analysis',\n",
       " '推薦',\n",
       " 'engineering ',\n",
       " 'ensure ',\n",
       " 'science ',\n",
       " '零售',\n",
       " '過',\n",
       " '討論',\n",
       " 'cloud ',\n",
       " 'tools ',\n",
       " 'api',\n",
       " '？',\n",
       " '必要',\n",
       " '到',\n",
       " '運算',\n",
       " 'solutions ',\n",
       " ';',\n",
       " '掌握',\n",
       " '數據庫',\n",
       " '機制',\n",
       " 'algorithms ',\n",
       " '優先',\n",
       " '調整',\n",
       " 'skills',\n",
       " '場景',\n",
       " '尤佳\\n',\n",
       " 'maintain ',\n",
       " '生活',\n",
       " '探索',\n",
       " 'ms ',\n",
       " '用',\n",
       " 'excel',\n",
       " 'key ',\n",
       " '全球',\n",
       " '探勘',\n",
       " '尋找',\n",
       " '依據',\n",
       " '喜歡',\n",
       " 'collaborate ',\n",
       " '建構',\n",
       " '思考',\n",
       " '顧客',\n",
       " '結構',\n",
       " '異常',\n",
       " 'good ',\n",
       " '達成',\n",
       " '?',\n",
       " '若',\n",
       " '《',\n",
       " '》',\n",
       " '月',\n",
       " 'financial ',\n",
       " '科系',\n",
       " '方向',\n",
       " '自我',\n",
       " '媒體',\n",
       " '非',\n",
       " '成員',\n",
       " '訪談',\n",
       " 'all ',\n",
       " 'systems',\n",
       " 'g',\n",
       " '諮詢',\n",
       " 'improve ',\n",
       " '關鍵',\n",
       " 'looking ',\n",
       " '發現',\n",
       " '定義',\n",
       " 'problems ',\n",
       " 'design',\n",
       " 'responsibilities',\n",
       " '中心',\n",
       " '全',\n",
       " '銀行',\n",
       " '· ',\n",
       " '顧問',\n",
       " '成為',\n",
       " '想',\n",
       " '安全',\n",
       " '樂於',\n",
       " 'various ',\n",
       " 'systems ',\n",
       " '轉型',\n",
       " 'processing ',\n",
       " '框架',\n",
       " 'bi ',\n",
       " '薪資',\n",
       " 'requirements',\n",
       " '前',\n",
       " '即時',\n",
       " '高度',\n",
       " '正在',\n",
       " '自己',\n",
       " '世界',\n",
       " '願意',\n",
       " '符合',\n",
       " '線上',\n",
       " 'pipeline ',\n",
       " '但',\n",
       " '數學',\n",
       " '擅長',\n",
       " '表達',\n",
       " 'their ',\n",
       " '最佳',\n",
       " '支持',\n",
       " 'quality ',\n",
       " '並且',\n",
       " '優秀',\n",
       " '思維',\n",
       " '員工',\n",
       " 'ml ',\n",
       " '三',\n",
       " '儀表板',\n",
       " '不斷',\n",
       " '特徵',\n",
       " '社群',\n",
       " '文化',\n",
       " '‧',\n",
       " 'create ',\n",
       " '深入',\n",
       " '自然',\n",
       " 'r',\n",
       " '英文',\n",
       " '呈現',\n",
       " '提高',\n",
       " 'analytics',\n",
       " 'excellent ',\n",
       " '制度',\n",
       " '分析師',\n",
       " 'big ',\n",
       " 'engineers ',\n",
       " '結合',\n",
       " '連結',\n",
       " 'degree ',\n",
       " 'analyze ',\n",
       " '大型',\n",
       " 'experience',\n",
       " 'role ',\n",
       " '制定',\n",
       " '特質',\n",
       " '計算',\n",
       " '議題',\n",
       " 'understanding ',\n",
       " '幫助',\n",
       " '後端',\n",
       " '可能',\n",
       " 'analytical ',\n",
       " '行動',\n",
       " 'algorithm ',\n",
       " 'tensorflow',\n",
       " '效益',\n",
       " 'through ',\n",
       " '強',\n",
       " '故障',\n",
       " 'oracle',\n",
       " '調查',\n",
       " '客群',\n",
       " '角色',\n",
       " '內外部',\n",
       " 'information ',\n",
       " '安裝',\n",
       " '職位',\n",
       " '一同',\n",
       " '瞭解',\n",
       " '概念',\n",
       " '性能',\n",
       " '精神',\n",
       " '應徵',\n",
       " 'hadoop',\n",
       " '優化\\n',\n",
       " '通過',\n",
       " 'process ',\n",
       " 'optimize ',\n",
       " 'science',\n",
       " '大量',\n",
       " 'pytorch',\n",
       " 'qualifications',\n",
       " '態度',\n",
       " '推廣',\n",
       " '變化',\n",
       " '投放',\n",
       " '備援',\n",
       " '背景',\n",
       " '◆ ',\n",
       " 'technologies ',\n",
       " '檢測',\n",
       " '時',\n",
       " '獎金',\n",
       " '通路',\n",
       " '語音',\n",
       " '進度',\n",
       " 'conduct ',\n",
       " 'join ',\n",
       " '跟',\n",
       " '設定',\n",
       " 'image ',\n",
       " 'help ',\n",
       " '控管']"
      ]
     },
     "execution_count": 276,
     "metadata": {},
     "output_type": "execute_result"
    }
   ],
   "source": [
    "pd.DataFrame({\"word\": [j for i in words for j in i]}).\\\n",
    "    groupby([\"word\"], as_index = False).\\\n",
    "    size().\\\n",
    "    sort_values(\"size\", ascending = False)[\"word\"].\\\n",
    "    tolist()[:500]"
   ]
  },
  {
   "cell_type": "code",
   "execution_count": 277,
   "metadata": {},
   "outputs": [
    {
     "name": "stdout",
     "output_type": "stream",
     "text": [
      " 協助 導入 rd  party  solutionf 調校 isp  pipeline 影像 品質 校正 相機 工廠 流程 測試 協助 camera  bsp  ap 共同 開發 相機 流程 功能\n",
      "國際 軟體 大廠 高科技 製造業 十多 專家 創立 非常 營運 系統 物聯網 應用 設備 信息 自動化 工廠 管理 技術 運用 過去 累積 工廠 管理 及物 聯網 應用 經驗 搭配 自主 研發 ai 機器 學習 技術 平台 協助 合理 成本 快速 地 導入 高 價值 資訊 系統 解決 工廠 管理 問題 提升 工廠 效能 達到 智能化 工廠 目標 招募 數 名 年輕 新血 嚴格 要求 經驗 只要 技術 底子 好 頭腦 靈活 充滿 學習 事物 幹勁 願意 接受 挑戰 抗壓性 高 對於 工業物 聯網 ai 機器 學習 軟體 生命 週期 平台 技術 工業 應用 非常 興趣 都 雖 新創 但 客戶 都 兩岸 大型 製造業 除了 研究 技術 應用 之外 還 習得 一般人 很 難 機會 深入 碰觸 製造業 知識 提供 優渥 起薪 光明 未來 誠摯 邀請 成為 份子 職務 主要 工作會 參與 ai 機器 學習 web-based 平台 開發 基本 要求 html5/css3/es6+ javascript 以下 過 下列 任一 框架 vue/react/angular  vue http 協議 基礎 知識\n",
      "資料 倉儲 系統 資料 分析 整理 資料 系統 分析 設計 dw  dm  規劃 設計 專案 系統 訪談 分析 開發 測試 作業 規劃 執行 管理\n",
      "please  apply  via  www qualcomm com/careers  refer  req number  3018388 ====================================================\n",
      " seek  passionate  engineer  in-depth  knowledge  algorithm  design  new  image  sensor  technologies  join  camera  systems  camera  systems  team  creates  embedded  imaging  solutions  snapdragon  chipsets  power  advanced  mobile  devices solutions  leverage  dedicated  hardware multi-core  processors dsp gpu  cores  provide  state-of-the-art  photographs video  recordings well  scene  image  understanding  object  detection responsibilities  include  following •\t research  development  next-generation  camera  features  image  quality  improvement  •\t prototype  solutions  mobile  platforms  proof  concept  demonstration  purposes  •\t deployment  solutions  improve  mobile  imaging  experience •\t design  camera  systems  balance  power memory silicon  area  maximize  imaging  performance\n",
      " preferred  qualifications\n",
      " •\t candidates  should  have  excellent  analytical  problem  solving  skills  along  strong  coding  background\n",
      " •\t track  record  driving  ideas  from  design  through  commercialization\n",
      " •\t excellent  knowledge  c++ capability  design  implement  robust high-  performance  flexible  system  software\n",
      " •\t experience  integrating  machine  learning  algorithm  into  camera  systems •\t 25% oversea  travel  required \n",
      "python  語言 開發 人工 智慧 演算法 成員 驗證 深度 學習 演算法 模型 獨立 展開 研究 解決 挑戰性 問題 如何 整理 訓練 資料集\n",
      "ms  sql  server  資料庫 服務 平台 日常 維運 管理 t-sql  預存 程序 開發 資料庫 作業 數據 平台 資料 服務 開發 維運 作業 資料 治理 平台 作業 資訊 專案 支援 執行 主管 事項\n"
     ]
    }
   ],
   "source": [
    "for i in range(6):\n",
    "    print(job_desc_split[i])"
   ]
  },
  {
   "cell_type": "code",
   "execution_count": 278,
   "metadata": {},
   "outputs": [],
   "source": [
    "embedding_model = SentenceTransformer(\"all-MiniLM-L6-v2\")\n",
    "# umap_model = UMAP(n_neighbors=15, n_components=5, min_dist=0.0, metric=\"cosine\")\n",
    "# hdbscan_model = HDBSCAN(min_cluster_size=15, metric=\"euclidean\", cluster_selection_method=\"eom\", prediction_data=True)"
   ]
  },
  {
   "cell_type": "code",
   "execution_count": 279,
   "metadata": {},
   "outputs": [],
   "source": [
    "topic_model = BERTopic(language = \"multilingual\")"
   ]
  },
  {
   "cell_type": "code",
   "execution_count": 280,
   "metadata": {},
   "outputs": [],
   "source": [
    "topics, probs = topic_model.fit_transform(sep_job_desc)"
   ]
  },
  {
   "cell_type": "code",
   "execution_count": 281,
   "metadata": {},
   "outputs": [
    {
     "data": {
      "text/html": [
       "<div>\n",
       "<style scoped>\n",
       "    .dataframe tbody tr th:only-of-type {\n",
       "        vertical-align: middle;\n",
       "    }\n",
       "\n",
       "    .dataframe tbody tr th {\n",
       "        vertical-align: top;\n",
       "    }\n",
       "\n",
       "    .dataframe thead th {\n",
       "        text-align: right;\n",
       "    }\n",
       "</style>\n",
       "<table border=\"1\" class=\"dataframe\">\n",
       "  <thead>\n",
       "    <tr style=\"text-align: right;\">\n",
       "      <th></th>\n",
       "      <th>Topic</th>\n",
       "      <th>Count</th>\n",
       "      <th>Name</th>\n",
       "      <th>Representation</th>\n",
       "      <th>Representative_Docs</th>\n",
       "    </tr>\n",
       "  </thead>\n",
       "  <tbody>\n",
       "    <tr>\n",
       "      <th>0</th>\n",
       "      <td>-1</td>\n",
       "      <td>755</td>\n",
       "      <td>-1_數據_分析_資料_開發</td>\n",
       "      <td>[數據, 分析, 資料, 開發, 經驗, 專案, 系統, 模型, 學習, 技術]</td>\n",
       "      <td>[.\\t 負責 內部 外部 數據 分析 包括 產業 數據 網路 數據 收集 種 類型 數據 ...</td>\n",
       "    </tr>\n",
       "    <tr>\n",
       "      <th>1</th>\n",
       "      <td>0</td>\n",
       "      <td>157</td>\n",
       "      <td>0_資料庫_sql_管理_效能</td>\n",
       "      <td>[資料庫, sql, 管理, 效能, 監控, 系統, 調校, mysql, 備份, 維護]</td>\n",
       "      <td>[負責 資料庫 管理 權限 控管 維護 資料庫 備份 規劃 執行 資料庫 安全 機制 規劃 ...</td>\n",
       "    </tr>\n",
       "    <tr>\n",
       "      <th>2</th>\n",
       "      <td>1</td>\n",
       "      <td>93</td>\n",
       "      <td>1_學習_機器_模型_learning</td>\n",
       "      <td>[學習, 機器, 模型, learning, machine, ml, 數據, 開發, 技術...</td>\n",
       "      <td>[主要 任務 機器 學習 深度 學習 統計 分析 模型 實作 開發 包含 數據 資料 清洗 ...</td>\n",
       "    </tr>\n",
       "    <tr>\n",
       "      <th>3</th>\n",
       "      <td>2</td>\n",
       "      <td>57</td>\n",
       "      <td>2_分析_行銷_數據_行為</td>\n",
       "      <td>[分析, 行銷, 數據, 行為, 客戶, 策略, 會員, 活動, 追蹤, 客群]</td>\n",
       "      <td>[會員 輪廓 消費 行為 生命 週期 分析 管理 運用 會員 活動 精準 行銷 活動 數據 ...</td>\n",
       "    </tr>\n",
       "    <tr>\n",
       "      <th>4</th>\n",
       "      <td>3</td>\n",
       "      <td>53</td>\n",
       "      <td>3_資料_數據_平台_倉儲</td>\n",
       "      <td>[資料, 數據, 平台, 倉儲, 開發, 維運, 維護, 管理, 監控, 系統]</td>\n",
       "      <td>[蝙蝠 移動 核心 服務 提供 客戶 專屬 私有化 dmp management  plat...</td>\n",
       "    </tr>\n",
       "    <tr>\n",
       "      <th>5</th>\n",
       "      <td>4</td>\n",
       "      <td>52</td>\n",
       "      <td>4_演算法_image_camera_vision</td>\n",
       "      <td>[演算法, image, camera, vision, 算法, 影像, algorithm...</td>\n",
       "      <td>[影像 電腦 視覺 機器 學習 演算法 設計 數值 最佳化 演算法 設計 開發 image ...</td>\n",
       "    </tr>\n",
       "    <tr>\n",
       "      <th>6</th>\n",
       "      <td>5</td>\n",
       "      <td>45</td>\n",
       "      <td>5_python_經驗_資料_數據</td>\n",
       "      <td>[python, 經驗, 資料, 數據, 開發, 語言, 分析, 程式, 工具, sql]</td>\n",
       "      <td>[python sql  工具 建置 符合 客戶 分析 pipeline\\n 參與 專案 產...</td>\n",
       "    </tr>\n",
       "    <tr>\n",
       "      <th>7</th>\n",
       "      <td>6</td>\n",
       "      <td>44</td>\n",
       "      <td>6_experience_ability_responsibilities_development</td>\n",
       "      <td>[experience, ability, responsibilities, develo...</td>\n",
       "      <td>[* 矽谷 新創 彈性 氣氛 *\\n *responsibilities *\\n desig...</td>\n",
       "    </tr>\n",
       "    <tr>\n",
       "      <th>8</th>\n",
       "      <td>7</td>\n",
       "      <td>41</td>\n",
       "      <td>7_ai_appier_開發_model</td>\n",
       "      <td>[ai, appier, 開發, model, 技術, 應用, 智慧, 模型, develo...</td>\n",
       "      <td>[正在 尋找 ai 虚擬人 領域 充滿 熱情 專業 知識 人員 作為 ai 資料 工程師 負...</td>\n",
       "    </tr>\n",
       "    <tr>\n",
       "      <th>9</th>\n",
       "      <td>8</td>\n",
       "      <td>39</td>\n",
       "      <td>8_資料_經驗_畢業_分析</td>\n",
       "      <td>[資料, 經驗, 畢業, 分析, 學習, 學歷, 專案, 未來, 統計, 程式]</td>\n",
       "      <td>[學歷 國內外 大學 含 資訊 電子 電機 資管 工管 數學 統計 學系 畢業 取得 畢業 ...</td>\n",
       "    </tr>\n",
       "    <tr>\n",
       "      <th>10</th>\n",
       "      <td>9</td>\n",
       "      <td>39</td>\n",
       "      <td>9_kkday_行銷_數據_電商</td>\n",
       "      <td>[kkday, 行銷, 數據, 電商, 旅遊, 廣告, 影響力, 品牌, 經驗, 服務]</td>\n",
       "      <td>[meshplus 個 成立 約 五 martech 行銷 科技 新創 隸屬於 博報堂 廣告...</td>\n",
       "    </tr>\n",
       "    <tr>\n",
       "      <th>11</th>\n",
       "      <td>10</td>\n",
       "      <td>38</td>\n",
       "      <td>10_數據_資料_產品_分析</td>\n",
       "      <td>[數據, 資料, 產品, 分析, 解決, 技術, 天下, 服務, 客戶, 開發]</td>\n",
       "      <td>[17 live  歡迎 以下 興趣 資深 資料 工程師 家庭 做為 位 資料 工程師 個 ...</td>\n",
       "    </tr>\n",
       "    <tr>\n",
       "      <th>12</th>\n",
       "      <td>11</td>\n",
       "      <td>35</td>\n",
       "      <td>11_oracle_資料庫_管理_維護</td>\n",
       "      <td>[oracle, 資料庫, 管理, 維護, sql, 備份, 效能, 備援, 監控, ms]</td>\n",
       "      <td>[維運 監控 線上 oracle  db\\n oracle 資料庫 建置 規劃 系統 架構 ...</td>\n",
       "    </tr>\n",
       "    <tr>\n",
       "      <th>13</th>\n",
       "      <td>12</td>\n",
       "      <td>35</td>\n",
       "      <td>12_athemaster_資料_https_技術</td>\n",
       "      <td>[athemaster, 資料, https, 技術, 投遞, 履歷, 例如, dcard,...</td>\n",
       "      <td>[athemaster  2022年 10月 外 發表 屬於 athemaster  2.0...</td>\n",
       "    </tr>\n",
       "    <tr>\n",
       "      <th>14</th>\n",
       "      <td>13</td>\n",
       "      <td>33</td>\n",
       "      <td>13_ai_技術_應用_vision</td>\n",
       "      <td>[ai, 技術, 應用, vision, 影像, computer, 開發, 方案, 學習,...</td>\n",
       "      <td>[動見 科技 從 影像 ai  演算法 開發到 網站 平台 打造 個 商業 車隊 賦能 車隊...</td>\n",
       "    </tr>\n",
       "    <tr>\n",
       "      <th>15</th>\n",
       "      <td>14</td>\n",
       "      <td>33</td>\n",
       "      <td>14_sales_business_分析_營運</td>\n",
       "      <td>[sales, business, 分析, 營運, 業務, analysis, 數據, fi...</td>\n",
       "      <td>[conduct  crystalize  sales  doc , ppt , analy...</td>\n",
       "    </tr>\n",
       "    <tr>\n",
       "      <th>16</th>\n",
       "      <td>15</td>\n",
       "      <td>32</td>\n",
       "      <td>15_風險_商業_業務_屬性</td>\n",
       "      <td>[風險, 商業, 業務, 屬性, 分析, 專案, 執行, 管理, 市場, 趨勢]</td>\n",
       "      <td>[規劃 設計 數據 驅動 核心 商業 解決 方案 整合 跨 單位 業務 實務 落地\\n 分析...</td>\n",
       "    </tr>\n",
       "    <tr>\n",
       "      <th>17</th>\n",
       "      <td>16</td>\n",
       "      <td>32</td>\n",
       "      <td>16_business_analysis_management_requirements</td>\n",
       "      <td>[business, analysis, management, requirements,...</td>\n",
       "      <td>[business  intelligence  analyst  ensures  sho...</td>\n",
       "    </tr>\n",
       "    <tr>\n",
       "      <th>18</th>\n",
       "      <td>17</td>\n",
       "      <td>26</td>\n",
       "      <td>17_產品_遊戲_分析_觀察</td>\n",
       "      <td>[產品, 遊戲, 分析, 觀察, 數據, 運動, 假設, 提出, 視覺化, 營運]</td>\n",
       "      <td>[依 產品 建立 視覺化 報表 觀察 趨勢 洞察 問題 釐清 產品 改進 方向 應用 數據 ...</td>\n",
       "    </tr>\n",
       "    <tr>\n",
       "      <th>19</th>\n",
       "      <td>18</td>\n",
       "      <td>25</td>\n",
       "      <td>18_雲端_架構_cloud_服務</td>\n",
       "      <td>[雲端, 架構, cloud, 服務, 數據, 設計, learning, 規劃, 經驗, 資料]</td>\n",
       "      <td>[概念性 想法 設計 規劃為 執行 解決 方案 數據 專案 規劃 數據 接入 清洗 建模 可...</td>\n",
       "    </tr>\n",
       "    <tr>\n",
       "      <th>20</th>\n",
       "      <td>19</td>\n",
       "      <td>25</td>\n",
       "      <td>19_語音_語意_英語_演算法</td>\n",
       "      <td>[語音, 語意, 英語, 演算法, 語言, 經驗, 自然, ai, 全球, 辨識]</td>\n",
       "      <td>[｜ tutorabc｜\\n tutorabc  tutorjr  教育 集團 科技 核心 ...</td>\n",
       "    </tr>\n",
       "    <tr>\n",
       "      <th>21</th>\n",
       "      <td>20</td>\n",
       "      <td>25</td>\n",
       "      <td>20_深度_研究_learning_model</td>\n",
       "      <td>[深度, 研究, learning, model, 學習, 演算法, recognition...</td>\n",
       "      <td>[\\tresearch  &amp;  develop  advanced  computer  v...</td>\n",
       "    </tr>\n",
       "    <tr>\n",
       "      <th>22</th>\n",
       "      <td>21</td>\n",
       "      <td>24</td>\n",
       "      <td>21_python_經驗_學習_基礎</td>\n",
       "      <td>[python, 經驗, 學習, 基礎, linux, 演算法, 程式, 開發, 深度, 知識]</td>\n",
       "      <td>[responsibilities collect , collate , clean , ...</td>\n",
       "    </tr>\n",
       "    <tr>\n",
       "      <th>23</th>\n",
       "      <td>22</td>\n",
       "      <td>23</td>\n",
       "      <td>22_金融_交易_風險_銀行</td>\n",
       "      <td>[金融, 交易, 風險, 銀行, 系統, 期貨, 法規, 開發, 倉儲, 管理]</td>\n",
       "      <td>[資通 電腦 金融 服務 深耕 約 20 自有 產品 國內 外匯 電腦 整合 系統 海外 分...</td>\n",
       "    </tr>\n",
       "    <tr>\n",
       "      <th>24</th>\n",
       "      <td>23</td>\n",
       "      <td>20</td>\n",
       "      <td>23_數據_分析_報告_業務</td>\n",
       "      <td>[數據, 分析, 報告, 業務, 資料, 協助, 決策, 能夠, 統計, 溝通]</td>\n",
       "      <td>[職務 說明 數據 分析 洞察 得 出 價值 結果 共同 達成 data-driven 決策...</td>\n",
       "    </tr>\n",
       "    <tr>\n",
       "      <th>25</th>\n",
       "      <td>24</td>\n",
       "      <td>19</td>\n",
       "      <td>24_team_business_work_pipelines</td>\n",
       "      <td>[team, business, work, pipelines, an, analysis...</td>\n",
       "      <td>[about  kicks  crew\\n launched  january  2021 ...</td>\n",
       "    </tr>\n",
       "    <tr>\n",
       "      <th>26</th>\n",
       "      <td>25</td>\n",
       "      <td>19</td>\n",
       "      <td>25_etl_開發_資料_監控</td>\n",
       "      <td>[etl, 開發, 資料, 監控, 維護, 建立, 經驗, 數據, trinity, 設計]</td>\n",
       "      <td>[數據 收集 盤點 管理 數據 etl 開發 測試 維護 利用 etl 工具 t-sql s...</td>\n",
       "    </tr>\n",
       "    <tr>\n",
       "      <th>27</th>\n",
       "      <td>26</td>\n",
       "      <td>18</td>\n",
       "      <td>26_媒體_廣告_投放_數據</td>\n",
       "      <td>[媒體, 廣告, 投放, 數據, 產品, 數位, 平台, 行銷, 優化, 網站]</td>\n",
       "      <td>[想要 接觸 不同 產業 品牌 對於 數位 廣告 實際 操作 數據 分析 高度 興趣 歡迎 ...</td>\n",
       "    </tr>\n",
       "    <tr>\n",
       "      <th>28</th>\n",
       "      <td>27</td>\n",
       "      <td>17</td>\n",
       "      <td>27_數據_sql_excel_通路</td>\n",
       "      <td>[數據, sql, excel, 通路, 獎金, engineer, 資料, 特休, 工具,...</td>\n",
       "      <td>[職掌 數據 設計 工具 資料 收集 抽取 建模 分析 平台 基礎 架構 建設 包含 資料 ...</td>\n",
       "    </tr>\n",
       "    <tr>\n",
       "      <th>29</th>\n",
       "      <td>28</td>\n",
       "      <td>16</td>\n",
       "      <td>28_分析_商業_數據_決策</td>\n",
       "      <td>[分析, 商業, 數據, 決策, 建議, 業務, 洞察, 協助, 運用, 行銷]</td>\n",
       "      <td>[數據 分析 專業 人士 目標 活用 數據 資料 客戶 解決 營運 種 問題 掌握 數據 結...</td>\n",
       "    </tr>\n",
       "    <tr>\n",
       "      <th>30</th>\n",
       "      <td>29</td>\n",
       "      <td>16</td>\n",
       "      <td>29_視覺_人工_學習_電腦</td>\n",
       "      <td>[視覺, 人工, 學習, 電腦, 挑戰, 機器人, 開發, 技術, 領域, 影像]</td>\n",
       "      <td>[正在 找 這樣 正在 尋找 位 經驗 豐富 電腦 視覺 工程師 pose  estimat...</td>\n",
       "    </tr>\n",
       "    <tr>\n",
       "      <th>31</th>\n",
       "      <td>30</td>\n",
       "      <td>14</td>\n",
       "      <td>30_訪談_業務_客戶_規劃</td>\n",
       "      <td>[訪談, 業務, 客戶, 規劃, 分析, 客戶端, 協調, 專案, 執行, it]</td>\n",
       "      <td>[客戶端 訪談 釐清 問題 提出 分析 建議 解決 客戶 問題 python r 其他 數據...</td>\n",
       "    </tr>\n",
       "    <tr>\n",
       "      <th>32</th>\n",
       "      <td>31</td>\n",
       "      <td>12</td>\n",
       "      <td>31_信託_數位_產出_測試</td>\n",
       "      <td>[信託, 數位, 產出, 測試, 改善, 分析, 宇匯, 系統, 專案, 文件化]</td>\n",
       "      <td>[職務 說明 明確 定義 數位 平台 包含 項 數位 平台 商業 資料 其 文件化 產出 分...</td>\n",
       "    </tr>\n",
       "    <tr>\n",
       "      <th>33</th>\n",
       "      <td>32</td>\n",
       "      <td>11</td>\n",
       "      <td>32_醫療_照護_生物_演算法</td>\n",
       "      <td>[醫療, 照護, 生物, 演算法, 分析, 開發, 生醫, 健康, 技術, 檢測]</td>\n",
       "      <td>[　 　 醫療 照護 健康 科技 服務 主要 技術 涵蓋 html css javascri...</td>\n",
       "    </tr>\n",
       "    <tr>\n",
       "      <th>34</th>\n",
       "      <td>33</td>\n",
       "      <td>11</td>\n",
       "      <td>33_google_行銷_社群_領袖</td>\n",
       "      <td>[google, 行銷, 社群, 領袖, 網路, 數據, 引擎, 流量, 意見, 經驗]</td>\n",
       "      <td>[qsearch  facebook  社群 數據 系統 起家 持續 進步 現在 已 擁有 ...</td>\n",
       "    </tr>\n",
       "    <tr>\n",
       "      <th>35</th>\n",
       "      <td>34</td>\n",
       "      <td>11</td>\n",
       "      <td>34_數位_居住_信義_創新</td>\n",
       "      <td>[數位, 居住, 信義, 創新, 超乎, 體驗, 想像, 科技, 集團, vision]</td>\n",
       "      <td>[關於 proptech 數位 人才 招募 計劃 信義 企業 集團 項 產品 計畫 正 融入...</td>\n",
       "    </tr>\n",
       "  </tbody>\n",
       "</table>\n",
       "</div>"
      ],
      "text/plain": [
       "    Topic  Count                                               Name  \\\n",
       "0      -1    755                                     -1_數據_分析_資料_開發   \n",
       "1       0    157                                    0_資料庫_sql_管理_效能   \n",
       "2       1     93                                1_學習_機器_模型_learning   \n",
       "3       2     57                                      2_分析_行銷_數據_行為   \n",
       "4       3     53                                      3_資料_數據_平台_倉儲   \n",
       "5       4     52                          4_演算法_image_camera_vision   \n",
       "6       5     45                                  5_python_經驗_資料_數據   \n",
       "7       6     44  6_experience_ability_responsibilities_development   \n",
       "8       7     41                               7_ai_appier_開發_model   \n",
       "9       8     39                                      8_資料_經驗_畢業_分析   \n",
       "10      9     39                                   9_kkday_行銷_數據_電商   \n",
       "11     10     38                                     10_數據_資料_產品_分析   \n",
       "12     11     35                                11_oracle_資料庫_管理_維護   \n",
       "13     12     35                          12_athemaster_資料_https_技術   \n",
       "14     13     33                                 13_ai_技術_應用_vision   \n",
       "15     14     33                            14_sales_business_分析_營運   \n",
       "16     15     32                                     15_風險_商業_業務_屬性   \n",
       "17     16     32       16_business_analysis_management_requirements   \n",
       "18     17     26                                     17_產品_遊戲_分析_觀察   \n",
       "19     18     25                                  18_雲端_架構_cloud_服務   \n",
       "20     19     25                                    19_語音_語意_英語_演算法   \n",
       "21     20     25                            20_深度_研究_learning_model   \n",
       "22     21     24                                 21_python_經驗_學習_基礎   \n",
       "23     22     23                                     22_金融_交易_風險_銀行   \n",
       "24     23     20                                     23_數據_分析_報告_業務   \n",
       "25     24     19                    24_team_business_work_pipelines   \n",
       "26     25     19                                    25_etl_開發_資料_監控   \n",
       "27     26     18                                     26_媒體_廣告_投放_數據   \n",
       "28     27     17                                 27_數據_sql_excel_通路   \n",
       "29     28     16                                     28_分析_商業_數據_決策   \n",
       "30     29     16                                     29_視覺_人工_學習_電腦   \n",
       "31     30     14                                     30_訪談_業務_客戶_規劃   \n",
       "32     31     12                                     31_信託_數位_產出_測試   \n",
       "33     32     11                                    32_醫療_照護_生物_演算法   \n",
       "34     33     11                                 33_google_行銷_社群_領袖   \n",
       "35     34     11                                     34_數位_居住_信義_創新   \n",
       "\n",
       "                                       Representation  \\\n",
       "0            [數據, 分析, 資料, 開發, 經驗, 專案, 系統, 模型, 學習, 技術]   \n",
       "1       [資料庫, sql, 管理, 效能, 監控, 系統, 調校, mysql, 備份, 維護]   \n",
       "2   [學習, 機器, 模型, learning, machine, ml, 數據, 開發, 技術...   \n",
       "3            [分析, 行銷, 數據, 行為, 客戶, 策略, 會員, 活動, 追蹤, 客群]   \n",
       "4            [資料, 數據, 平台, 倉儲, 開發, 維運, 維護, 管理, 監控, 系統]   \n",
       "5   [演算法, image, camera, vision, 算法, 影像, algorithm...   \n",
       "6       [python, 經驗, 資料, 數據, 開發, 語言, 分析, 程式, 工具, sql]   \n",
       "7   [experience, ability, responsibilities, develo...   \n",
       "8   [ai, appier, 開發, model, 技術, 應用, 智慧, 模型, develo...   \n",
       "9            [資料, 經驗, 畢業, 分析, 學習, 學歷, 專案, 未來, 統計, 程式]   \n",
       "10       [kkday, 行銷, 數據, 電商, 旅遊, 廣告, 影響力, 品牌, 經驗, 服務]   \n",
       "11           [數據, 資料, 產品, 分析, 解決, 技術, 天下, 服務, 客戶, 開發]   \n",
       "12     [oracle, 資料庫, 管理, 維護, sql, 備份, 效能, 備援, 監控, ms]   \n",
       "13  [athemaster, 資料, https, 技術, 投遞, 履歷, 例如, dcard,...   \n",
       "14  [ai, 技術, 應用, vision, 影像, computer, 開發, 方案, 學習,...   \n",
       "15  [sales, business, 分析, 營運, 業務, analysis, 數據, fi...   \n",
       "16           [風險, 商業, 業務, 屬性, 分析, 專案, 執行, 管理, 市場, 趨勢]   \n",
       "17  [business, analysis, management, requirements,...   \n",
       "18          [產品, 遊戲, 分析, 觀察, 數據, 運動, 假設, 提出, 視覺化, 營運]   \n",
       "19  [雲端, 架構, cloud, 服務, 數據, 設計, learning, 規劃, 經驗, 資料]   \n",
       "20          [語音, 語意, 英語, 演算法, 語言, 經驗, 自然, ai, 全球, 辨識]   \n",
       "21  [深度, 研究, learning, model, 學習, 演算法, recognition...   \n",
       "22   [python, 經驗, 學習, 基礎, linux, 演算法, 程式, 開發, 深度, 知識]   \n",
       "23           [金融, 交易, 風險, 銀行, 系統, 期貨, 法規, 開發, 倉儲, 管理]   \n",
       "24           [數據, 分析, 報告, 業務, 資料, 協助, 決策, 能夠, 統計, 溝通]   \n",
       "25  [team, business, work, pipelines, an, analysis...   \n",
       "26     [etl, 開發, 資料, 監控, 維護, 建立, 經驗, 數據, trinity, 設計]   \n",
       "27           [媒體, 廣告, 投放, 數據, 產品, 數位, 平台, 行銷, 優化, 網站]   \n",
       "28  [數據, sql, excel, 通路, 獎金, engineer, 資料, 特休, 工具,...   \n",
       "29           [分析, 商業, 數據, 決策, 建議, 業務, 洞察, 協助, 運用, 行銷]   \n",
       "30          [視覺, 人工, 學習, 電腦, 挑戰, 機器人, 開發, 技術, 領域, 影像]   \n",
       "31          [訪談, 業務, 客戶, 規劃, 分析, 客戶端, 協調, 專案, 執行, it]   \n",
       "32          [信託, 數位, 產出, 測試, 改善, 分析, 宇匯, 系統, 專案, 文件化]   \n",
       "33          [醫療, 照護, 生物, 演算法, 分析, 開發, 生醫, 健康, 技術, 檢測]   \n",
       "34       [google, 行銷, 社群, 領袖, 網路, 數據, 引擎, 流量, 意見, 經驗]   \n",
       "35       [數位, 居住, 信義, 創新, 超乎, 體驗, 想像, 科技, 集團, vision]   \n",
       "\n",
       "                                  Representative_Docs  \n",
       "0   [.\\t 負責 內部 外部 數據 分析 包括 產業 數據 網路 數據 收集 種 類型 數據 ...  \n",
       "1   [負責 資料庫 管理 權限 控管 維護 資料庫 備份 規劃 執行 資料庫 安全 機制 規劃 ...  \n",
       "2   [主要 任務 機器 學習 深度 學習 統計 分析 模型 實作 開發 包含 數據 資料 清洗 ...  \n",
       "3   [會員 輪廓 消費 行為 生命 週期 分析 管理 運用 會員 活動 精準 行銷 活動 數據 ...  \n",
       "4   [蝙蝠 移動 核心 服務 提供 客戶 專屬 私有化 dmp management  plat...  \n",
       "5   [影像 電腦 視覺 機器 學習 演算法 設計 數值 最佳化 演算法 設計 開發 image ...  \n",
       "6   [python sql  工具 建置 符合 客戶 分析 pipeline\\n 參與 專案 產...  \n",
       "7   [* 矽谷 新創 彈性 氣氛 *\\n *responsibilities *\\n desig...  \n",
       "8   [正在 尋找 ai 虚擬人 領域 充滿 熱情 專業 知識 人員 作為 ai 資料 工程師 負...  \n",
       "9   [學歷 國內外 大學 含 資訊 電子 電機 資管 工管 數學 統計 學系 畢業 取得 畢業 ...  \n",
       "10  [meshplus 個 成立 約 五 martech 行銷 科技 新創 隸屬於 博報堂 廣告...  \n",
       "11  [17 live  歡迎 以下 興趣 資深 資料 工程師 家庭 做為 位 資料 工程師 個 ...  \n",
       "12  [維運 監控 線上 oracle  db\\n oracle 資料庫 建置 規劃 系統 架構 ...  \n",
       "13  [athemaster  2022年 10月 外 發表 屬於 athemaster  2.0...  \n",
       "14  [動見 科技 從 影像 ai  演算法 開發到 網站 平台 打造 個 商業 車隊 賦能 車隊...  \n",
       "15  [conduct  crystalize  sales  doc , ppt , analy...  \n",
       "16  [規劃 設計 數據 驅動 核心 商業 解決 方案 整合 跨 單位 業務 實務 落地\\n 分析...  \n",
       "17  [business  intelligence  analyst  ensures  sho...  \n",
       "18  [依 產品 建立 視覺化 報表 觀察 趨勢 洞察 問題 釐清 產品 改進 方向 應用 數據 ...  \n",
       "19  [概念性 想法 設計 規劃為 執行 解決 方案 數據 專案 規劃 數據 接入 清洗 建模 可...  \n",
       "20  [｜ tutorabc｜\\n tutorabc  tutorjr  教育 集團 科技 核心 ...  \n",
       "21  [\\tresearch  &  develop  advanced  computer  v...  \n",
       "22  [responsibilities collect , collate , clean , ...  \n",
       "23  [資通 電腦 金融 服務 深耕 約 20 自有 產品 國內 外匯 電腦 整合 系統 海外 分...  \n",
       "24  [職務 說明 數據 分析 洞察 得 出 價值 結果 共同 達成 data-driven 決策...  \n",
       "25  [about  kicks  crew\\n launched  january  2021 ...  \n",
       "26  [數據 收集 盤點 管理 數據 etl 開發 測試 維護 利用 etl 工具 t-sql s...  \n",
       "27  [想要 接觸 不同 產業 品牌 對於 數位 廣告 實際 操作 數據 分析 高度 興趣 歡迎 ...  \n",
       "28  [職掌 數據 設計 工具 資料 收集 抽取 建模 分析 平台 基礎 架構 建設 包含 資料 ...  \n",
       "29  [數據 分析 專業 人士 目標 活用 數據 資料 客戶 解決 營運 種 問題 掌握 數據 結...  \n",
       "30  [正在 找 這樣 正在 尋找 位 經驗 豐富 電腦 視覺 工程師 pose  estimat...  \n",
       "31  [客戶端 訪談 釐清 問題 提出 分析 建議 解決 客戶 問題 python r 其他 數據...  \n",
       "32  [職務 說明 明確 定義 數位 平台 包含 項 數位 平台 商業 資料 其 文件化 產出 分...  \n",
       "33  [　 　 醫療 照護 健康 科技 服務 主要 技術 涵蓋 html css javascri...  \n",
       "34  [qsearch  facebook  社群 數據 系統 起家 持續 進步 現在 已 擁有 ...  \n",
       "35  [關於 proptech 數位 人才 招募 計劃 信義 企業 集團 項 產品 計畫 正 融入...  "
      ]
     },
     "execution_count": 281,
     "metadata": {},
     "output_type": "execute_result"
    }
   ],
   "source": [
    "topic_model.get_topic_info()"
   ]
  },
  {
   "cell_type": "code",
   "execution_count": 282,
   "metadata": {},
   "outputs": [
    {
     "data": {
      "application/vnd.plotly.v1+json": {
       "config": {
        "plotlyServerURL": "https://plot.ly"
       },
       "data": [
        {
         "customdata": [
          [
           0,
           "資料庫 | sql | 管理 | 效能 | 監控",
           157
          ],
          [
           1,
           "學習 | 機器 | 模型 | learning | machine",
           93
          ],
          [
           2,
           "分析 | 行銷 | 數據 | 行為 | 客戶",
           57
          ],
          [
           3,
           "資料 | 數據 | 平台 | 倉儲 | 開發",
           53
          ],
          [
           4,
           "演算法 | image | camera | vision | 算法",
           52
          ],
          [
           5,
           "python | 經驗 | 資料 | 數據 | 開發",
           45
          ],
          [
           6,
           "experience | ability | responsibilities | development | plus",
           44
          ],
          [
           7,
           "ai | appier | 開發 | model | 技術",
           41
          ],
          [
           8,
           "資料 | 經驗 | 畢業 | 分析 | 學習",
           39
          ],
          [
           9,
           "kkday | 行銷 | 數據 | 電商 | 旅遊",
           39
          ],
          [
           10,
           "數據 | 資料 | 產品 | 分析 | 解決",
           38
          ],
          [
           11,
           "oracle | 資料庫 | 管理 | 維護 | sql",
           35
          ],
          [
           12,
           "athemaster | 資料 | https | 技術 | 投遞",
           35
          ],
          [
           13,
           "ai | 技術 | 應用 | vision | 影像",
           33
          ],
          [
           14,
           "sales | business | 分析 | 營運 | 業務",
           33
          ],
          [
           15,
           "風險 | 商業 | 業務 | 屬性 | 分析",
           32
          ],
          [
           16,
           "business | analysis | management | requirements | insights",
           32
          ],
          [
           17,
           "產品 | 遊戲 | 分析 | 觀察 | 數據",
           26
          ],
          [
           18,
           "雲端 | 架構 | cloud | 服務 | 數據",
           25
          ],
          [
           19,
           "語音 | 語意 | 英語 | 演算法 | 語言",
           25
          ],
          [
           20,
           "深度 | 研究 | learning | model | 學習",
           25
          ],
          [
           21,
           "python | 經驗 | 學習 | 基礎 | linux",
           24
          ],
          [
           22,
           "金融 | 交易 | 風險 | 銀行 | 系統",
           23
          ],
          [
           23,
           "數據 | 分析 | 報告 | 業務 | 資料",
           20
          ],
          [
           24,
           "team | business | work | pipelines | an",
           19
          ],
          [
           25,
           "etl | 開發 | 資料 | 監控 | 維護",
           19
          ],
          [
           26,
           "媒體 | 廣告 | 投放 | 數據 | 產品",
           18
          ],
          [
           27,
           "數據 | sql | excel | 通路 | 獎金",
           17
          ],
          [
           28,
           "分析 | 商業 | 數據 | 決策 | 建議",
           16
          ],
          [
           29,
           "視覺 | 人工 | 學習 | 電腦 | 挑戰",
           16
          ],
          [
           30,
           "訪談 | 業務 | 客戶 | 規劃 | 分析",
           14
          ],
          [
           31,
           "信託 | 數位 | 產出 | 測試 | 改善",
           12
          ],
          [
           32,
           "醫療 | 照護 | 生物 | 演算法 | 分析",
           11
          ],
          [
           33,
           "google | 行銷 | 社群 | 領袖 | 網路",
           11
          ],
          [
           34,
           "數位 | 居住 | 信義 | 創新 | 超乎",
           11
          ]
         ],
         "hovertemplate": "<b>Topic %{customdata[0]}</b><br>%{customdata[1]}<br>Size: %{customdata[2]}",
         "legendgroup": "",
         "marker": {
          "color": "#B0BEC5",
          "line": {
           "color": "DarkSlateGrey",
           "width": 2
          },
          "size": [
           157,
           93,
           57,
           53,
           52,
           45,
           44,
           41,
           39,
           39,
           38,
           35,
           35,
           33,
           33,
           32,
           32,
           26,
           25,
           25,
           25,
           24,
           23,
           20,
           19,
           19,
           18,
           17,
           16,
           16,
           14,
           12,
           11,
           11,
           11
          ],
          "sizemode": "area",
          "sizeref": 0.098125,
          "symbol": "circle"
         },
         "mode": "markers",
         "name": "",
         "orientation": "v",
         "showlegend": false,
         "type": "scatter",
         "x": [
          0.6481173038482666,
          3.1666781902313232,
          6.870476722717285,
          1.7717314958572388,
          3.5066425800323486,
          2.4082300662994385,
          -10.7868013381958,
          10.7358980178833,
          9.279354095458984,
          19.419660568237305,
          10.12332820892334,
          0.4741317629814148,
          9.465493202209473,
          11.087549209594727,
          5.800717353820801,
          5.343570709228516,
          5.837993621826172,
          6.930184841156006,
          2.098283529281616,
          11.728378295898438,
          3.3959758281707764,
          2.59222149848938,
          5.182802677154541,
          7.691004276275635,
          -10.78678035736084,
          1.9229366779327393,
          19.34707260131836,
          1.1784305572509766,
          7.277517795562744,
          11.518592834472656,
          5.945885181427002,
          10.053727149963379,
          7.763542652130127,
          19.15789794921875,
          10.943020820617676
         ],
         "xaxis": "x",
         "y": [
          1.139589548110962,
          17.74553680419922,
          -5.836848735809326,
          1.5922658443450928,
          17.405046463012695,
          2.13157320022583,
          -15.151100158691406,
          19.56035614013672,
          20.646669387817383,
          -0.7615100741386414,
          20.353532791137695,
          1.0133968591690063,
          20.51978302001953,
          19.809471130371094,
          -5.60499906539917,
          -6.130113124847412,
          -5.422156810760498,
          -5.717642784118652,
          1.356105089187622,
          19.861400604248047,
          17.515336990356445,
          2.3301446437835693,
          -6.1816534996032715,
          -5.804214000701904,
          -15.151089668273926,
          1.7349731922149658,
          -0.6888782978057861,
          1.3816975355148315,
          -5.891009330749512,
          19.84197998046875,
          -5.87048864364624,
          20.24854850769043,
          -5.749108791351318,
          -0.4997190833091736,
          20.020702362060547
         ],
         "yaxis": "y"
        }
       ],
       "layout": {
        "annotations": [
         {
          "showarrow": false,
          "text": "D1",
          "x": -12.404821538925171,
          "y": 3.159952306747437,
          "yshift": 10
         },
         {
          "showarrow": false,
          "text": "D2",
          "x": 4.963894057273865,
          "xshift": 10,
          "y": 23.74366979598999
         }
        ],
        "height": 500,
        "hoverlabel": {
         "bgcolor": "white",
         "font": {
          "family": "Rockwell",
          "size": 16
         }
        },
        "legend": {
         "itemsizing": "constant",
         "tracegroupgap": 0
        },
        "margin": {
         "t": 60
        },
        "shapes": [
         {
          "line": {
           "color": "#CFD8DC",
           "width": 2
          },
          "type": "line",
          "x0": 4.963894057273865,
          "x1": 4.963894057273865,
          "y0": -17.423765182495117,
          "y1": 23.74366979598999
         },
         {
          "line": {
           "color": "#9E9E9E",
           "width": 2
          },
          "type": "line",
          "x0": -12.404821538925171,
          "x1": 22.3326096534729,
          "y0": 3.159952306747437,
          "y1": 3.159952306747437
         }
        ],
        "sliders": [
         {
          "active": 0,
          "pad": {
           "t": 50
          },
          "steps": [
           {
            "args": [
             {
              "marker.color": [
               [
                "red",
                "#B0BEC5",
                "#B0BEC5",
                "#B0BEC5",
                "#B0BEC5",
                "#B0BEC5",
                "#B0BEC5",
                "#B0BEC5",
                "#B0BEC5",
                "#B0BEC5",
                "#B0BEC5",
                "#B0BEC5",
                "#B0BEC5",
                "#B0BEC5",
                "#B0BEC5",
                "#B0BEC5",
                "#B0BEC5",
                "#B0BEC5",
                "#B0BEC5",
                "#B0BEC5",
                "#B0BEC5",
                "#B0BEC5",
                "#B0BEC5",
                "#B0BEC5",
                "#B0BEC5",
                "#B0BEC5",
                "#B0BEC5",
                "#B0BEC5",
                "#B0BEC5",
                "#B0BEC5",
                "#B0BEC5",
                "#B0BEC5",
                "#B0BEC5",
                "#B0BEC5",
                "#B0BEC5"
               ]
              ]
             }
            ],
            "label": "Topic 0",
            "method": "update"
           },
           {
            "args": [
             {
              "marker.color": [
               [
                "#B0BEC5",
                "red",
                "#B0BEC5",
                "#B0BEC5",
                "#B0BEC5",
                "#B0BEC5",
                "#B0BEC5",
                "#B0BEC5",
                "#B0BEC5",
                "#B0BEC5",
                "#B0BEC5",
                "#B0BEC5",
                "#B0BEC5",
                "#B0BEC5",
                "#B0BEC5",
                "#B0BEC5",
                "#B0BEC5",
                "#B0BEC5",
                "#B0BEC5",
                "#B0BEC5",
                "#B0BEC5",
                "#B0BEC5",
                "#B0BEC5",
                "#B0BEC5",
                "#B0BEC5",
                "#B0BEC5",
                "#B0BEC5",
                "#B0BEC5",
                "#B0BEC5",
                "#B0BEC5",
                "#B0BEC5",
                "#B0BEC5",
                "#B0BEC5",
                "#B0BEC5",
                "#B0BEC5"
               ]
              ]
             }
            ],
            "label": "Topic 1",
            "method": "update"
           },
           {
            "args": [
             {
              "marker.color": [
               [
                "#B0BEC5",
                "#B0BEC5",
                "red",
                "#B0BEC5",
                "#B0BEC5",
                "#B0BEC5",
                "#B0BEC5",
                "#B0BEC5",
                "#B0BEC5",
                "#B0BEC5",
                "#B0BEC5",
                "#B0BEC5",
                "#B0BEC5",
                "#B0BEC5",
                "#B0BEC5",
                "#B0BEC5",
                "#B0BEC5",
                "#B0BEC5",
                "#B0BEC5",
                "#B0BEC5",
                "#B0BEC5",
                "#B0BEC5",
                "#B0BEC5",
                "#B0BEC5",
                "#B0BEC5",
                "#B0BEC5",
                "#B0BEC5",
                "#B0BEC5",
                "#B0BEC5",
                "#B0BEC5",
                "#B0BEC5",
                "#B0BEC5",
                "#B0BEC5",
                "#B0BEC5",
                "#B0BEC5"
               ]
              ]
             }
            ],
            "label": "Topic 2",
            "method": "update"
           },
           {
            "args": [
             {
              "marker.color": [
               [
                "#B0BEC5",
                "#B0BEC5",
                "#B0BEC5",
                "red",
                "#B0BEC5",
                "#B0BEC5",
                "#B0BEC5",
                "#B0BEC5",
                "#B0BEC5",
                "#B0BEC5",
                "#B0BEC5",
                "#B0BEC5",
                "#B0BEC5",
                "#B0BEC5",
                "#B0BEC5",
                "#B0BEC5",
                "#B0BEC5",
                "#B0BEC5",
                "#B0BEC5",
                "#B0BEC5",
                "#B0BEC5",
                "#B0BEC5",
                "#B0BEC5",
                "#B0BEC5",
                "#B0BEC5",
                "#B0BEC5",
                "#B0BEC5",
                "#B0BEC5",
                "#B0BEC5",
                "#B0BEC5",
                "#B0BEC5",
                "#B0BEC5",
                "#B0BEC5",
                "#B0BEC5",
                "#B0BEC5"
               ]
              ]
             }
            ],
            "label": "Topic 3",
            "method": "update"
           },
           {
            "args": [
             {
              "marker.color": [
               [
                "#B0BEC5",
                "#B0BEC5",
                "#B0BEC5",
                "#B0BEC5",
                "red",
                "#B0BEC5",
                "#B0BEC5",
                "#B0BEC5",
                "#B0BEC5",
                "#B0BEC5",
                "#B0BEC5",
                "#B0BEC5",
                "#B0BEC5",
                "#B0BEC5",
                "#B0BEC5",
                "#B0BEC5",
                "#B0BEC5",
                "#B0BEC5",
                "#B0BEC5",
                "#B0BEC5",
                "#B0BEC5",
                "#B0BEC5",
                "#B0BEC5",
                "#B0BEC5",
                "#B0BEC5",
                "#B0BEC5",
                "#B0BEC5",
                "#B0BEC5",
                "#B0BEC5",
                "#B0BEC5",
                "#B0BEC5",
                "#B0BEC5",
                "#B0BEC5",
                "#B0BEC5",
                "#B0BEC5"
               ]
              ]
             }
            ],
            "label": "Topic 4",
            "method": "update"
           },
           {
            "args": [
             {
              "marker.color": [
               [
                "#B0BEC5",
                "#B0BEC5",
                "#B0BEC5",
                "#B0BEC5",
                "#B0BEC5",
                "red",
                "#B0BEC5",
                "#B0BEC5",
                "#B0BEC5",
                "#B0BEC5",
                "#B0BEC5",
                "#B0BEC5",
                "#B0BEC5",
                "#B0BEC5",
                "#B0BEC5",
                "#B0BEC5",
                "#B0BEC5",
                "#B0BEC5",
                "#B0BEC5",
                "#B0BEC5",
                "#B0BEC5",
                "#B0BEC5",
                "#B0BEC5",
                "#B0BEC5",
                "#B0BEC5",
                "#B0BEC5",
                "#B0BEC5",
                "#B0BEC5",
                "#B0BEC5",
                "#B0BEC5",
                "#B0BEC5",
                "#B0BEC5",
                "#B0BEC5",
                "#B0BEC5",
                "#B0BEC5"
               ]
              ]
             }
            ],
            "label": "Topic 5",
            "method": "update"
           },
           {
            "args": [
             {
              "marker.color": [
               [
                "#B0BEC5",
                "#B0BEC5",
                "#B0BEC5",
                "#B0BEC5",
                "#B0BEC5",
                "#B0BEC5",
                "red",
                "#B0BEC5",
                "#B0BEC5",
                "#B0BEC5",
                "#B0BEC5",
                "#B0BEC5",
                "#B0BEC5",
                "#B0BEC5",
                "#B0BEC5",
                "#B0BEC5",
                "#B0BEC5",
                "#B0BEC5",
                "#B0BEC5",
                "#B0BEC5",
                "#B0BEC5",
                "#B0BEC5",
                "#B0BEC5",
                "#B0BEC5",
                "#B0BEC5",
                "#B0BEC5",
                "#B0BEC5",
                "#B0BEC5",
                "#B0BEC5",
                "#B0BEC5",
                "#B0BEC5",
                "#B0BEC5",
                "#B0BEC5",
                "#B0BEC5",
                "#B0BEC5"
               ]
              ]
             }
            ],
            "label": "Topic 6",
            "method": "update"
           },
           {
            "args": [
             {
              "marker.color": [
               [
                "#B0BEC5",
                "#B0BEC5",
                "#B0BEC5",
                "#B0BEC5",
                "#B0BEC5",
                "#B0BEC5",
                "#B0BEC5",
                "red",
                "#B0BEC5",
                "#B0BEC5",
                "#B0BEC5",
                "#B0BEC5",
                "#B0BEC5",
                "#B0BEC5",
                "#B0BEC5",
                "#B0BEC5",
                "#B0BEC5",
                "#B0BEC5",
                "#B0BEC5",
                "#B0BEC5",
                "#B0BEC5",
                "#B0BEC5",
                "#B0BEC5",
                "#B0BEC5",
                "#B0BEC5",
                "#B0BEC5",
                "#B0BEC5",
                "#B0BEC5",
                "#B0BEC5",
                "#B0BEC5",
                "#B0BEC5",
                "#B0BEC5",
                "#B0BEC5",
                "#B0BEC5",
                "#B0BEC5"
               ]
              ]
             }
            ],
            "label": "Topic 7",
            "method": "update"
           },
           {
            "args": [
             {
              "marker.color": [
               [
                "#B0BEC5",
                "#B0BEC5",
                "#B0BEC5",
                "#B0BEC5",
                "#B0BEC5",
                "#B0BEC5",
                "#B0BEC5",
                "#B0BEC5",
                "red",
                "#B0BEC5",
                "#B0BEC5",
                "#B0BEC5",
                "#B0BEC5",
                "#B0BEC5",
                "#B0BEC5",
                "#B0BEC5",
                "#B0BEC5",
                "#B0BEC5",
                "#B0BEC5",
                "#B0BEC5",
                "#B0BEC5",
                "#B0BEC5",
                "#B0BEC5",
                "#B0BEC5",
                "#B0BEC5",
                "#B0BEC5",
                "#B0BEC5",
                "#B0BEC5",
                "#B0BEC5",
                "#B0BEC5",
                "#B0BEC5",
                "#B0BEC5",
                "#B0BEC5",
                "#B0BEC5",
                "#B0BEC5"
               ]
              ]
             }
            ],
            "label": "Topic 8",
            "method": "update"
           },
           {
            "args": [
             {
              "marker.color": [
               [
                "#B0BEC5",
                "#B0BEC5",
                "#B0BEC5",
                "#B0BEC5",
                "#B0BEC5",
                "#B0BEC5",
                "#B0BEC5",
                "#B0BEC5",
                "#B0BEC5",
                "red",
                "#B0BEC5",
                "#B0BEC5",
                "#B0BEC5",
                "#B0BEC5",
                "#B0BEC5",
                "#B0BEC5",
                "#B0BEC5",
                "#B0BEC5",
                "#B0BEC5",
                "#B0BEC5",
                "#B0BEC5",
                "#B0BEC5",
                "#B0BEC5",
                "#B0BEC5",
                "#B0BEC5",
                "#B0BEC5",
                "#B0BEC5",
                "#B0BEC5",
                "#B0BEC5",
                "#B0BEC5",
                "#B0BEC5",
                "#B0BEC5",
                "#B0BEC5",
                "#B0BEC5",
                "#B0BEC5"
               ]
              ]
             }
            ],
            "label": "Topic 9",
            "method": "update"
           },
           {
            "args": [
             {
              "marker.color": [
               [
                "#B0BEC5",
                "#B0BEC5",
                "#B0BEC5",
                "#B0BEC5",
                "#B0BEC5",
                "#B0BEC5",
                "#B0BEC5",
                "#B0BEC5",
                "#B0BEC5",
                "#B0BEC5",
                "red",
                "#B0BEC5",
                "#B0BEC5",
                "#B0BEC5",
                "#B0BEC5",
                "#B0BEC5",
                "#B0BEC5",
                "#B0BEC5",
                "#B0BEC5",
                "#B0BEC5",
                "#B0BEC5",
                "#B0BEC5",
                "#B0BEC5",
                "#B0BEC5",
                "#B0BEC5",
                "#B0BEC5",
                "#B0BEC5",
                "#B0BEC5",
                "#B0BEC5",
                "#B0BEC5",
                "#B0BEC5",
                "#B0BEC5",
                "#B0BEC5",
                "#B0BEC5",
                "#B0BEC5"
               ]
              ]
             }
            ],
            "label": "Topic 10",
            "method": "update"
           },
           {
            "args": [
             {
              "marker.color": [
               [
                "#B0BEC5",
                "#B0BEC5",
                "#B0BEC5",
                "#B0BEC5",
                "#B0BEC5",
                "#B0BEC5",
                "#B0BEC5",
                "#B0BEC5",
                "#B0BEC5",
                "#B0BEC5",
                "#B0BEC5",
                "red",
                "#B0BEC5",
                "#B0BEC5",
                "#B0BEC5",
                "#B0BEC5",
                "#B0BEC5",
                "#B0BEC5",
                "#B0BEC5",
                "#B0BEC5",
                "#B0BEC5",
                "#B0BEC5",
                "#B0BEC5",
                "#B0BEC5",
                "#B0BEC5",
                "#B0BEC5",
                "#B0BEC5",
                "#B0BEC5",
                "#B0BEC5",
                "#B0BEC5",
                "#B0BEC5",
                "#B0BEC5",
                "#B0BEC5",
                "#B0BEC5",
                "#B0BEC5"
               ]
              ]
             }
            ],
            "label": "Topic 11",
            "method": "update"
           },
           {
            "args": [
             {
              "marker.color": [
               [
                "#B0BEC5",
                "#B0BEC5",
                "#B0BEC5",
                "#B0BEC5",
                "#B0BEC5",
                "#B0BEC5",
                "#B0BEC5",
                "#B0BEC5",
                "#B0BEC5",
                "#B0BEC5",
                "#B0BEC5",
                "#B0BEC5",
                "red",
                "#B0BEC5",
                "#B0BEC5",
                "#B0BEC5",
                "#B0BEC5",
                "#B0BEC5",
                "#B0BEC5",
                "#B0BEC5",
                "#B0BEC5",
                "#B0BEC5",
                "#B0BEC5",
                "#B0BEC5",
                "#B0BEC5",
                "#B0BEC5",
                "#B0BEC5",
                "#B0BEC5",
                "#B0BEC5",
                "#B0BEC5",
                "#B0BEC5",
                "#B0BEC5",
                "#B0BEC5",
                "#B0BEC5",
                "#B0BEC5"
               ]
              ]
             }
            ],
            "label": "Topic 12",
            "method": "update"
           },
           {
            "args": [
             {
              "marker.color": [
               [
                "#B0BEC5",
                "#B0BEC5",
                "#B0BEC5",
                "#B0BEC5",
                "#B0BEC5",
                "#B0BEC5",
                "#B0BEC5",
                "#B0BEC5",
                "#B0BEC5",
                "#B0BEC5",
                "#B0BEC5",
                "#B0BEC5",
                "#B0BEC5",
                "red",
                "#B0BEC5",
                "#B0BEC5",
                "#B0BEC5",
                "#B0BEC5",
                "#B0BEC5",
                "#B0BEC5",
                "#B0BEC5",
                "#B0BEC5",
                "#B0BEC5",
                "#B0BEC5",
                "#B0BEC5",
                "#B0BEC5",
                "#B0BEC5",
                "#B0BEC5",
                "#B0BEC5",
                "#B0BEC5",
                "#B0BEC5",
                "#B0BEC5",
                "#B0BEC5",
                "#B0BEC5",
                "#B0BEC5"
               ]
              ]
             }
            ],
            "label": "Topic 13",
            "method": "update"
           },
           {
            "args": [
             {
              "marker.color": [
               [
                "#B0BEC5",
                "#B0BEC5",
                "#B0BEC5",
                "#B0BEC5",
                "#B0BEC5",
                "#B0BEC5",
                "#B0BEC5",
                "#B0BEC5",
                "#B0BEC5",
                "#B0BEC5",
                "#B0BEC5",
                "#B0BEC5",
                "#B0BEC5",
                "#B0BEC5",
                "red",
                "#B0BEC5",
                "#B0BEC5",
                "#B0BEC5",
                "#B0BEC5",
                "#B0BEC5",
                "#B0BEC5",
                "#B0BEC5",
                "#B0BEC5",
                "#B0BEC5",
                "#B0BEC5",
                "#B0BEC5",
                "#B0BEC5",
                "#B0BEC5",
                "#B0BEC5",
                "#B0BEC5",
                "#B0BEC5",
                "#B0BEC5",
                "#B0BEC5",
                "#B0BEC5",
                "#B0BEC5"
               ]
              ]
             }
            ],
            "label": "Topic 14",
            "method": "update"
           },
           {
            "args": [
             {
              "marker.color": [
               [
                "#B0BEC5",
                "#B0BEC5",
                "#B0BEC5",
                "#B0BEC5",
                "#B0BEC5",
                "#B0BEC5",
                "#B0BEC5",
                "#B0BEC5",
                "#B0BEC5",
                "#B0BEC5",
                "#B0BEC5",
                "#B0BEC5",
                "#B0BEC5",
                "#B0BEC5",
                "#B0BEC5",
                "red",
                "#B0BEC5",
                "#B0BEC5",
                "#B0BEC5",
                "#B0BEC5",
                "#B0BEC5",
                "#B0BEC5",
                "#B0BEC5",
                "#B0BEC5",
                "#B0BEC5",
                "#B0BEC5",
                "#B0BEC5",
                "#B0BEC5",
                "#B0BEC5",
                "#B0BEC5",
                "#B0BEC5",
                "#B0BEC5",
                "#B0BEC5",
                "#B0BEC5",
                "#B0BEC5"
               ]
              ]
             }
            ],
            "label": "Topic 15",
            "method": "update"
           },
           {
            "args": [
             {
              "marker.color": [
               [
                "#B0BEC5",
                "#B0BEC5",
                "#B0BEC5",
                "#B0BEC5",
                "#B0BEC5",
                "#B0BEC5",
                "#B0BEC5",
                "#B0BEC5",
                "#B0BEC5",
                "#B0BEC5",
                "#B0BEC5",
                "#B0BEC5",
                "#B0BEC5",
                "#B0BEC5",
                "#B0BEC5",
                "#B0BEC5",
                "red",
                "#B0BEC5",
                "#B0BEC5",
                "#B0BEC5",
                "#B0BEC5",
                "#B0BEC5",
                "#B0BEC5",
                "#B0BEC5",
                "#B0BEC5",
                "#B0BEC5",
                "#B0BEC5",
                "#B0BEC5",
                "#B0BEC5",
                "#B0BEC5",
                "#B0BEC5",
                "#B0BEC5",
                "#B0BEC5",
                "#B0BEC5",
                "#B0BEC5"
               ]
              ]
             }
            ],
            "label": "Topic 16",
            "method": "update"
           },
           {
            "args": [
             {
              "marker.color": [
               [
                "#B0BEC5",
                "#B0BEC5",
                "#B0BEC5",
                "#B0BEC5",
                "#B0BEC5",
                "#B0BEC5",
                "#B0BEC5",
                "#B0BEC5",
                "#B0BEC5",
                "#B0BEC5",
                "#B0BEC5",
                "#B0BEC5",
                "#B0BEC5",
                "#B0BEC5",
                "#B0BEC5",
                "#B0BEC5",
                "#B0BEC5",
                "red",
                "#B0BEC5",
                "#B0BEC5",
                "#B0BEC5",
                "#B0BEC5",
                "#B0BEC5",
                "#B0BEC5",
                "#B0BEC5",
                "#B0BEC5",
                "#B0BEC5",
                "#B0BEC5",
                "#B0BEC5",
                "#B0BEC5",
                "#B0BEC5",
                "#B0BEC5",
                "#B0BEC5",
                "#B0BEC5",
                "#B0BEC5"
               ]
              ]
             }
            ],
            "label": "Topic 17",
            "method": "update"
           },
           {
            "args": [
             {
              "marker.color": [
               [
                "#B0BEC5",
                "#B0BEC5",
                "#B0BEC5",
                "#B0BEC5",
                "#B0BEC5",
                "#B0BEC5",
                "#B0BEC5",
                "#B0BEC5",
                "#B0BEC5",
                "#B0BEC5",
                "#B0BEC5",
                "#B0BEC5",
                "#B0BEC5",
                "#B0BEC5",
                "#B0BEC5",
                "#B0BEC5",
                "#B0BEC5",
                "#B0BEC5",
                "red",
                "#B0BEC5",
                "#B0BEC5",
                "#B0BEC5",
                "#B0BEC5",
                "#B0BEC5",
                "#B0BEC5",
                "#B0BEC5",
                "#B0BEC5",
                "#B0BEC5",
                "#B0BEC5",
                "#B0BEC5",
                "#B0BEC5",
                "#B0BEC5",
                "#B0BEC5",
                "#B0BEC5",
                "#B0BEC5"
               ]
              ]
             }
            ],
            "label": "Topic 18",
            "method": "update"
           },
           {
            "args": [
             {
              "marker.color": [
               [
                "#B0BEC5",
                "#B0BEC5",
                "#B0BEC5",
                "#B0BEC5",
                "#B0BEC5",
                "#B0BEC5",
                "#B0BEC5",
                "#B0BEC5",
                "#B0BEC5",
                "#B0BEC5",
                "#B0BEC5",
                "#B0BEC5",
                "#B0BEC5",
                "#B0BEC5",
                "#B0BEC5",
                "#B0BEC5",
                "#B0BEC5",
                "#B0BEC5",
                "#B0BEC5",
                "red",
                "#B0BEC5",
                "#B0BEC5",
                "#B0BEC5",
                "#B0BEC5",
                "#B0BEC5",
                "#B0BEC5",
                "#B0BEC5",
                "#B0BEC5",
                "#B0BEC5",
                "#B0BEC5",
                "#B0BEC5",
                "#B0BEC5",
                "#B0BEC5",
                "#B0BEC5",
                "#B0BEC5"
               ]
              ]
             }
            ],
            "label": "Topic 19",
            "method": "update"
           },
           {
            "args": [
             {
              "marker.color": [
               [
                "#B0BEC5",
                "#B0BEC5",
                "#B0BEC5",
                "#B0BEC5",
                "#B0BEC5",
                "#B0BEC5",
                "#B0BEC5",
                "#B0BEC5",
                "#B0BEC5",
                "#B0BEC5",
                "#B0BEC5",
                "#B0BEC5",
                "#B0BEC5",
                "#B0BEC5",
                "#B0BEC5",
                "#B0BEC5",
                "#B0BEC5",
                "#B0BEC5",
                "#B0BEC5",
                "#B0BEC5",
                "red",
                "#B0BEC5",
                "#B0BEC5",
                "#B0BEC5",
                "#B0BEC5",
                "#B0BEC5",
                "#B0BEC5",
                "#B0BEC5",
                "#B0BEC5",
                "#B0BEC5",
                "#B0BEC5",
                "#B0BEC5",
                "#B0BEC5",
                "#B0BEC5",
                "#B0BEC5"
               ]
              ]
             }
            ],
            "label": "Topic 20",
            "method": "update"
           },
           {
            "args": [
             {
              "marker.color": [
               [
                "#B0BEC5",
                "#B0BEC5",
                "#B0BEC5",
                "#B0BEC5",
                "#B0BEC5",
                "#B0BEC5",
                "#B0BEC5",
                "#B0BEC5",
                "#B0BEC5",
                "#B0BEC5",
                "#B0BEC5",
                "#B0BEC5",
                "#B0BEC5",
                "#B0BEC5",
                "#B0BEC5",
                "#B0BEC5",
                "#B0BEC5",
                "#B0BEC5",
                "#B0BEC5",
                "#B0BEC5",
                "#B0BEC5",
                "red",
                "#B0BEC5",
                "#B0BEC5",
                "#B0BEC5",
                "#B0BEC5",
                "#B0BEC5",
                "#B0BEC5",
                "#B0BEC5",
                "#B0BEC5",
                "#B0BEC5",
                "#B0BEC5",
                "#B0BEC5",
                "#B0BEC5",
                "#B0BEC5"
               ]
              ]
             }
            ],
            "label": "Topic 21",
            "method": "update"
           },
           {
            "args": [
             {
              "marker.color": [
               [
                "#B0BEC5",
                "#B0BEC5",
                "#B0BEC5",
                "#B0BEC5",
                "#B0BEC5",
                "#B0BEC5",
                "#B0BEC5",
                "#B0BEC5",
                "#B0BEC5",
                "#B0BEC5",
                "#B0BEC5",
                "#B0BEC5",
                "#B0BEC5",
                "#B0BEC5",
                "#B0BEC5",
                "#B0BEC5",
                "#B0BEC5",
                "#B0BEC5",
                "#B0BEC5",
                "#B0BEC5",
                "#B0BEC5",
                "#B0BEC5",
                "red",
                "#B0BEC5",
                "#B0BEC5",
                "#B0BEC5",
                "#B0BEC5",
                "#B0BEC5",
                "#B0BEC5",
                "#B0BEC5",
                "#B0BEC5",
                "#B0BEC5",
                "#B0BEC5",
                "#B0BEC5",
                "#B0BEC5"
               ]
              ]
             }
            ],
            "label": "Topic 22",
            "method": "update"
           },
           {
            "args": [
             {
              "marker.color": [
               [
                "#B0BEC5",
                "#B0BEC5",
                "#B0BEC5",
                "#B0BEC5",
                "#B0BEC5",
                "#B0BEC5",
                "#B0BEC5",
                "#B0BEC5",
                "#B0BEC5",
                "#B0BEC5",
                "#B0BEC5",
                "#B0BEC5",
                "#B0BEC5",
                "#B0BEC5",
                "#B0BEC5",
                "#B0BEC5",
                "#B0BEC5",
                "#B0BEC5",
                "#B0BEC5",
                "#B0BEC5",
                "#B0BEC5",
                "#B0BEC5",
                "#B0BEC5",
                "red",
                "#B0BEC5",
                "#B0BEC5",
                "#B0BEC5",
                "#B0BEC5",
                "#B0BEC5",
                "#B0BEC5",
                "#B0BEC5",
                "#B0BEC5",
                "#B0BEC5",
                "#B0BEC5",
                "#B0BEC5"
               ]
              ]
             }
            ],
            "label": "Topic 23",
            "method": "update"
           },
           {
            "args": [
             {
              "marker.color": [
               [
                "#B0BEC5",
                "#B0BEC5",
                "#B0BEC5",
                "#B0BEC5",
                "#B0BEC5",
                "#B0BEC5",
                "#B0BEC5",
                "#B0BEC5",
                "#B0BEC5",
                "#B0BEC5",
                "#B0BEC5",
                "#B0BEC5",
                "#B0BEC5",
                "#B0BEC5",
                "#B0BEC5",
                "#B0BEC5",
                "#B0BEC5",
                "#B0BEC5",
                "#B0BEC5",
                "#B0BEC5",
                "#B0BEC5",
                "#B0BEC5",
                "#B0BEC5",
                "#B0BEC5",
                "red",
                "#B0BEC5",
                "#B0BEC5",
                "#B0BEC5",
                "#B0BEC5",
                "#B0BEC5",
                "#B0BEC5",
                "#B0BEC5",
                "#B0BEC5",
                "#B0BEC5",
                "#B0BEC5"
               ]
              ]
             }
            ],
            "label": "Topic 24",
            "method": "update"
           },
           {
            "args": [
             {
              "marker.color": [
               [
                "#B0BEC5",
                "#B0BEC5",
                "#B0BEC5",
                "#B0BEC5",
                "#B0BEC5",
                "#B0BEC5",
                "#B0BEC5",
                "#B0BEC5",
                "#B0BEC5",
                "#B0BEC5",
                "#B0BEC5",
                "#B0BEC5",
                "#B0BEC5",
                "#B0BEC5",
                "#B0BEC5",
                "#B0BEC5",
                "#B0BEC5",
                "#B0BEC5",
                "#B0BEC5",
                "#B0BEC5",
                "#B0BEC5",
                "#B0BEC5",
                "#B0BEC5",
                "#B0BEC5",
                "#B0BEC5",
                "red",
                "#B0BEC5",
                "#B0BEC5",
                "#B0BEC5",
                "#B0BEC5",
                "#B0BEC5",
                "#B0BEC5",
                "#B0BEC5",
                "#B0BEC5",
                "#B0BEC5"
               ]
              ]
             }
            ],
            "label": "Topic 25",
            "method": "update"
           },
           {
            "args": [
             {
              "marker.color": [
               [
                "#B0BEC5",
                "#B0BEC5",
                "#B0BEC5",
                "#B0BEC5",
                "#B0BEC5",
                "#B0BEC5",
                "#B0BEC5",
                "#B0BEC5",
                "#B0BEC5",
                "#B0BEC5",
                "#B0BEC5",
                "#B0BEC5",
                "#B0BEC5",
                "#B0BEC5",
                "#B0BEC5",
                "#B0BEC5",
                "#B0BEC5",
                "#B0BEC5",
                "#B0BEC5",
                "#B0BEC5",
                "#B0BEC5",
                "#B0BEC5",
                "#B0BEC5",
                "#B0BEC5",
                "#B0BEC5",
                "#B0BEC5",
                "red",
                "#B0BEC5",
                "#B0BEC5",
                "#B0BEC5",
                "#B0BEC5",
                "#B0BEC5",
                "#B0BEC5",
                "#B0BEC5",
                "#B0BEC5"
               ]
              ]
             }
            ],
            "label": "Topic 26",
            "method": "update"
           },
           {
            "args": [
             {
              "marker.color": [
               [
                "#B0BEC5",
                "#B0BEC5",
                "#B0BEC5",
                "#B0BEC5",
                "#B0BEC5",
                "#B0BEC5",
                "#B0BEC5",
                "#B0BEC5",
                "#B0BEC5",
                "#B0BEC5",
                "#B0BEC5",
                "#B0BEC5",
                "#B0BEC5",
                "#B0BEC5",
                "#B0BEC5",
                "#B0BEC5",
                "#B0BEC5",
                "#B0BEC5",
                "#B0BEC5",
                "#B0BEC5",
                "#B0BEC5",
                "#B0BEC5",
                "#B0BEC5",
                "#B0BEC5",
                "#B0BEC5",
                "#B0BEC5",
                "#B0BEC5",
                "red",
                "#B0BEC5",
                "#B0BEC5",
                "#B0BEC5",
                "#B0BEC5",
                "#B0BEC5",
                "#B0BEC5",
                "#B0BEC5"
               ]
              ]
             }
            ],
            "label": "Topic 27",
            "method": "update"
           },
           {
            "args": [
             {
              "marker.color": [
               [
                "#B0BEC5",
                "#B0BEC5",
                "#B0BEC5",
                "#B0BEC5",
                "#B0BEC5",
                "#B0BEC5",
                "#B0BEC5",
                "#B0BEC5",
                "#B0BEC5",
                "#B0BEC5",
                "#B0BEC5",
                "#B0BEC5",
                "#B0BEC5",
                "#B0BEC5",
                "#B0BEC5",
                "#B0BEC5",
                "#B0BEC5",
                "#B0BEC5",
                "#B0BEC5",
                "#B0BEC5",
                "#B0BEC5",
                "#B0BEC5",
                "#B0BEC5",
                "#B0BEC5",
                "#B0BEC5",
                "#B0BEC5",
                "#B0BEC5",
                "#B0BEC5",
                "red",
                "#B0BEC5",
                "#B0BEC5",
                "#B0BEC5",
                "#B0BEC5",
                "#B0BEC5",
                "#B0BEC5"
               ]
              ]
             }
            ],
            "label": "Topic 28",
            "method": "update"
           },
           {
            "args": [
             {
              "marker.color": [
               [
                "#B0BEC5",
                "#B0BEC5",
                "#B0BEC5",
                "#B0BEC5",
                "#B0BEC5",
                "#B0BEC5",
                "#B0BEC5",
                "#B0BEC5",
                "#B0BEC5",
                "#B0BEC5",
                "#B0BEC5",
                "#B0BEC5",
                "#B0BEC5",
                "#B0BEC5",
                "#B0BEC5",
                "#B0BEC5",
                "#B0BEC5",
                "#B0BEC5",
                "#B0BEC5",
                "#B0BEC5",
                "#B0BEC5",
                "#B0BEC5",
                "#B0BEC5",
                "#B0BEC5",
                "#B0BEC5",
                "#B0BEC5",
                "#B0BEC5",
                "#B0BEC5",
                "#B0BEC5",
                "red",
                "#B0BEC5",
                "#B0BEC5",
                "#B0BEC5",
                "#B0BEC5",
                "#B0BEC5"
               ]
              ]
             }
            ],
            "label": "Topic 29",
            "method": "update"
           },
           {
            "args": [
             {
              "marker.color": [
               [
                "#B0BEC5",
                "#B0BEC5",
                "#B0BEC5",
                "#B0BEC5",
                "#B0BEC5",
                "#B0BEC5",
                "#B0BEC5",
                "#B0BEC5",
                "#B0BEC5",
                "#B0BEC5",
                "#B0BEC5",
                "#B0BEC5",
                "#B0BEC5",
                "#B0BEC5",
                "#B0BEC5",
                "#B0BEC5",
                "#B0BEC5",
                "#B0BEC5",
                "#B0BEC5",
                "#B0BEC5",
                "#B0BEC5",
                "#B0BEC5",
                "#B0BEC5",
                "#B0BEC5",
                "#B0BEC5",
                "#B0BEC5",
                "#B0BEC5",
                "#B0BEC5",
                "#B0BEC5",
                "#B0BEC5",
                "red",
                "#B0BEC5",
                "#B0BEC5",
                "#B0BEC5",
                "#B0BEC5"
               ]
              ]
             }
            ],
            "label": "Topic 30",
            "method": "update"
           },
           {
            "args": [
             {
              "marker.color": [
               [
                "#B0BEC5",
                "#B0BEC5",
                "#B0BEC5",
                "#B0BEC5",
                "#B0BEC5",
                "#B0BEC5",
                "#B0BEC5",
                "#B0BEC5",
                "#B0BEC5",
                "#B0BEC5",
                "#B0BEC5",
                "#B0BEC5",
                "#B0BEC5",
                "#B0BEC5",
                "#B0BEC5",
                "#B0BEC5",
                "#B0BEC5",
                "#B0BEC5",
                "#B0BEC5",
                "#B0BEC5",
                "#B0BEC5",
                "#B0BEC5",
                "#B0BEC5",
                "#B0BEC5",
                "#B0BEC5",
                "#B0BEC5",
                "#B0BEC5",
                "#B0BEC5",
                "#B0BEC5",
                "#B0BEC5",
                "#B0BEC5",
                "red",
                "#B0BEC5",
                "#B0BEC5",
                "#B0BEC5"
               ]
              ]
             }
            ],
            "label": "Topic 31",
            "method": "update"
           },
           {
            "args": [
             {
              "marker.color": [
               [
                "#B0BEC5",
                "#B0BEC5",
                "#B0BEC5",
                "#B0BEC5",
                "#B0BEC5",
                "#B0BEC5",
                "#B0BEC5",
                "#B0BEC5",
                "#B0BEC5",
                "#B0BEC5",
                "#B0BEC5",
                "#B0BEC5",
                "#B0BEC5",
                "#B0BEC5",
                "#B0BEC5",
                "#B0BEC5",
                "#B0BEC5",
                "#B0BEC5",
                "#B0BEC5",
                "#B0BEC5",
                "#B0BEC5",
                "#B0BEC5",
                "#B0BEC5",
                "#B0BEC5",
                "#B0BEC5",
                "#B0BEC5",
                "#B0BEC5",
                "#B0BEC5",
                "#B0BEC5",
                "#B0BEC5",
                "#B0BEC5",
                "#B0BEC5",
                "red",
                "#B0BEC5",
                "#B0BEC5"
               ]
              ]
             }
            ],
            "label": "Topic 32",
            "method": "update"
           },
           {
            "args": [
             {
              "marker.color": [
               [
                "#B0BEC5",
                "#B0BEC5",
                "#B0BEC5",
                "#B0BEC5",
                "#B0BEC5",
                "#B0BEC5",
                "#B0BEC5",
                "#B0BEC5",
                "#B0BEC5",
                "#B0BEC5",
                "#B0BEC5",
                "#B0BEC5",
                "#B0BEC5",
                "#B0BEC5",
                "#B0BEC5",
                "#B0BEC5",
                "#B0BEC5",
                "#B0BEC5",
                "#B0BEC5",
                "#B0BEC5",
                "#B0BEC5",
                "#B0BEC5",
                "#B0BEC5",
                "#B0BEC5",
                "#B0BEC5",
                "#B0BEC5",
                "#B0BEC5",
                "#B0BEC5",
                "#B0BEC5",
                "#B0BEC5",
                "#B0BEC5",
                "#B0BEC5",
                "#B0BEC5",
                "red",
                "#B0BEC5"
               ]
              ]
             }
            ],
            "label": "Topic 33",
            "method": "update"
           },
           {
            "args": [
             {
              "marker.color": [
               [
                "#B0BEC5",
                "#B0BEC5",
                "#B0BEC5",
                "#B0BEC5",
                "#B0BEC5",
                "#B0BEC5",
                "#B0BEC5",
                "#B0BEC5",
                "#B0BEC5",
                "#B0BEC5",
                "#B0BEC5",
                "#B0BEC5",
                "#B0BEC5",
                "#B0BEC5",
                "#B0BEC5",
                "#B0BEC5",
                "#B0BEC5",
                "#B0BEC5",
                "#B0BEC5",
                "#B0BEC5",
                "#B0BEC5",
                "#B0BEC5",
                "#B0BEC5",
                "#B0BEC5",
                "#B0BEC5",
                "#B0BEC5",
                "#B0BEC5",
                "#B0BEC5",
                "#B0BEC5",
                "#B0BEC5",
                "#B0BEC5",
                "#B0BEC5",
                "#B0BEC5",
                "#B0BEC5",
                "red"
               ]
              ]
             }
            ],
            "label": "Topic 34",
            "method": "update"
           }
          ]
         }
        ],
        "template": {
         "data": {
          "bar": [
           {
            "error_x": {
             "color": "rgb(36,36,36)"
            },
            "error_y": {
             "color": "rgb(36,36,36)"
            },
            "marker": {
             "line": {
              "color": "white",
              "width": 0.5
             },
             "pattern": {
              "fillmode": "overlay",
              "size": 10,
              "solidity": 0.2
             }
            },
            "type": "bar"
           }
          ],
          "barpolar": [
           {
            "marker": {
             "line": {
              "color": "white",
              "width": 0.5
             },
             "pattern": {
              "fillmode": "overlay",
              "size": 10,
              "solidity": 0.2
             }
            },
            "type": "barpolar"
           }
          ],
          "carpet": [
           {
            "aaxis": {
             "endlinecolor": "rgb(36,36,36)",
             "gridcolor": "white",
             "linecolor": "white",
             "minorgridcolor": "white",
             "startlinecolor": "rgb(36,36,36)"
            },
            "baxis": {
             "endlinecolor": "rgb(36,36,36)",
             "gridcolor": "white",
             "linecolor": "white",
             "minorgridcolor": "white",
             "startlinecolor": "rgb(36,36,36)"
            },
            "type": "carpet"
           }
          ],
          "choropleth": [
           {
            "colorbar": {
             "outlinewidth": 1,
             "tickcolor": "rgb(36,36,36)",
             "ticks": "outside"
            },
            "type": "choropleth"
           }
          ],
          "contour": [
           {
            "colorbar": {
             "outlinewidth": 1,
             "tickcolor": "rgb(36,36,36)",
             "ticks": "outside"
            },
            "colorscale": [
             [
              0,
              "#440154"
             ],
             [
              0.1111111111111111,
              "#482878"
             ],
             [
              0.2222222222222222,
              "#3e4989"
             ],
             [
              0.3333333333333333,
              "#31688e"
             ],
             [
              0.4444444444444444,
              "#26828e"
             ],
             [
              0.5555555555555556,
              "#1f9e89"
             ],
             [
              0.6666666666666666,
              "#35b779"
             ],
             [
              0.7777777777777778,
              "#6ece58"
             ],
             [
              0.8888888888888888,
              "#b5de2b"
             ],
             [
              1,
              "#fde725"
             ]
            ],
            "type": "contour"
           }
          ],
          "contourcarpet": [
           {
            "colorbar": {
             "outlinewidth": 1,
             "tickcolor": "rgb(36,36,36)",
             "ticks": "outside"
            },
            "type": "contourcarpet"
           }
          ],
          "heatmap": [
           {
            "colorbar": {
             "outlinewidth": 1,
             "tickcolor": "rgb(36,36,36)",
             "ticks": "outside"
            },
            "colorscale": [
             [
              0,
              "#440154"
             ],
             [
              0.1111111111111111,
              "#482878"
             ],
             [
              0.2222222222222222,
              "#3e4989"
             ],
             [
              0.3333333333333333,
              "#31688e"
             ],
             [
              0.4444444444444444,
              "#26828e"
             ],
             [
              0.5555555555555556,
              "#1f9e89"
             ],
             [
              0.6666666666666666,
              "#35b779"
             ],
             [
              0.7777777777777778,
              "#6ece58"
             ],
             [
              0.8888888888888888,
              "#b5de2b"
             ],
             [
              1,
              "#fde725"
             ]
            ],
            "type": "heatmap"
           }
          ],
          "heatmapgl": [
           {
            "colorbar": {
             "outlinewidth": 1,
             "tickcolor": "rgb(36,36,36)",
             "ticks": "outside"
            },
            "colorscale": [
             [
              0,
              "#440154"
             ],
             [
              0.1111111111111111,
              "#482878"
             ],
             [
              0.2222222222222222,
              "#3e4989"
             ],
             [
              0.3333333333333333,
              "#31688e"
             ],
             [
              0.4444444444444444,
              "#26828e"
             ],
             [
              0.5555555555555556,
              "#1f9e89"
             ],
             [
              0.6666666666666666,
              "#35b779"
             ],
             [
              0.7777777777777778,
              "#6ece58"
             ],
             [
              0.8888888888888888,
              "#b5de2b"
             ],
             [
              1,
              "#fde725"
             ]
            ],
            "type": "heatmapgl"
           }
          ],
          "histogram": [
           {
            "marker": {
             "line": {
              "color": "white",
              "width": 0.6
             }
            },
            "type": "histogram"
           }
          ],
          "histogram2d": [
           {
            "colorbar": {
             "outlinewidth": 1,
             "tickcolor": "rgb(36,36,36)",
             "ticks": "outside"
            },
            "colorscale": [
             [
              0,
              "#440154"
             ],
             [
              0.1111111111111111,
              "#482878"
             ],
             [
              0.2222222222222222,
              "#3e4989"
             ],
             [
              0.3333333333333333,
              "#31688e"
             ],
             [
              0.4444444444444444,
              "#26828e"
             ],
             [
              0.5555555555555556,
              "#1f9e89"
             ],
             [
              0.6666666666666666,
              "#35b779"
             ],
             [
              0.7777777777777778,
              "#6ece58"
             ],
             [
              0.8888888888888888,
              "#b5de2b"
             ],
             [
              1,
              "#fde725"
             ]
            ],
            "type": "histogram2d"
           }
          ],
          "histogram2dcontour": [
           {
            "colorbar": {
             "outlinewidth": 1,
             "tickcolor": "rgb(36,36,36)",
             "ticks": "outside"
            },
            "colorscale": [
             [
              0,
              "#440154"
             ],
             [
              0.1111111111111111,
              "#482878"
             ],
             [
              0.2222222222222222,
              "#3e4989"
             ],
             [
              0.3333333333333333,
              "#31688e"
             ],
             [
              0.4444444444444444,
              "#26828e"
             ],
             [
              0.5555555555555556,
              "#1f9e89"
             ],
             [
              0.6666666666666666,
              "#35b779"
             ],
             [
              0.7777777777777778,
              "#6ece58"
             ],
             [
              0.8888888888888888,
              "#b5de2b"
             ],
             [
              1,
              "#fde725"
             ]
            ],
            "type": "histogram2dcontour"
           }
          ],
          "mesh3d": [
           {
            "colorbar": {
             "outlinewidth": 1,
             "tickcolor": "rgb(36,36,36)",
             "ticks": "outside"
            },
            "type": "mesh3d"
           }
          ],
          "parcoords": [
           {
            "line": {
             "colorbar": {
              "outlinewidth": 1,
              "tickcolor": "rgb(36,36,36)",
              "ticks": "outside"
             }
            },
            "type": "parcoords"
           }
          ],
          "pie": [
           {
            "automargin": true,
            "type": "pie"
           }
          ],
          "scatter": [
           {
            "fillpattern": {
             "fillmode": "overlay",
             "size": 10,
             "solidity": 0.2
            },
            "type": "scatter"
           }
          ],
          "scatter3d": [
           {
            "line": {
             "colorbar": {
              "outlinewidth": 1,
              "tickcolor": "rgb(36,36,36)",
              "ticks": "outside"
             }
            },
            "marker": {
             "colorbar": {
              "outlinewidth": 1,
              "tickcolor": "rgb(36,36,36)",
              "ticks": "outside"
             }
            },
            "type": "scatter3d"
           }
          ],
          "scattercarpet": [
           {
            "marker": {
             "colorbar": {
              "outlinewidth": 1,
              "tickcolor": "rgb(36,36,36)",
              "ticks": "outside"
             }
            },
            "type": "scattercarpet"
           }
          ],
          "scattergeo": [
           {
            "marker": {
             "colorbar": {
              "outlinewidth": 1,
              "tickcolor": "rgb(36,36,36)",
              "ticks": "outside"
             }
            },
            "type": "scattergeo"
           }
          ],
          "scattergl": [
           {
            "marker": {
             "colorbar": {
              "outlinewidth": 1,
              "tickcolor": "rgb(36,36,36)",
              "ticks": "outside"
             }
            },
            "type": "scattergl"
           }
          ],
          "scattermapbox": [
           {
            "marker": {
             "colorbar": {
              "outlinewidth": 1,
              "tickcolor": "rgb(36,36,36)",
              "ticks": "outside"
             }
            },
            "type": "scattermapbox"
           }
          ],
          "scatterpolar": [
           {
            "marker": {
             "colorbar": {
              "outlinewidth": 1,
              "tickcolor": "rgb(36,36,36)",
              "ticks": "outside"
             }
            },
            "type": "scatterpolar"
           }
          ],
          "scatterpolargl": [
           {
            "marker": {
             "colorbar": {
              "outlinewidth": 1,
              "tickcolor": "rgb(36,36,36)",
              "ticks": "outside"
             }
            },
            "type": "scatterpolargl"
           }
          ],
          "scatterternary": [
           {
            "marker": {
             "colorbar": {
              "outlinewidth": 1,
              "tickcolor": "rgb(36,36,36)",
              "ticks": "outside"
             }
            },
            "type": "scatterternary"
           }
          ],
          "surface": [
           {
            "colorbar": {
             "outlinewidth": 1,
             "tickcolor": "rgb(36,36,36)",
             "ticks": "outside"
            },
            "colorscale": [
             [
              0,
              "#440154"
             ],
             [
              0.1111111111111111,
              "#482878"
             ],
             [
              0.2222222222222222,
              "#3e4989"
             ],
             [
              0.3333333333333333,
              "#31688e"
             ],
             [
              0.4444444444444444,
              "#26828e"
             ],
             [
              0.5555555555555556,
              "#1f9e89"
             ],
             [
              0.6666666666666666,
              "#35b779"
             ],
             [
              0.7777777777777778,
              "#6ece58"
             ],
             [
              0.8888888888888888,
              "#b5de2b"
             ],
             [
              1,
              "#fde725"
             ]
            ],
            "type": "surface"
           }
          ],
          "table": [
           {
            "cells": {
             "fill": {
              "color": "rgb(237,237,237)"
             },
             "line": {
              "color": "white"
             }
            },
            "header": {
             "fill": {
              "color": "rgb(217,217,217)"
             },
             "line": {
              "color": "white"
             }
            },
            "type": "table"
           }
          ]
         },
         "layout": {
          "annotationdefaults": {
           "arrowhead": 0,
           "arrowwidth": 1
          },
          "autotypenumbers": "strict",
          "coloraxis": {
           "colorbar": {
            "outlinewidth": 1,
            "tickcolor": "rgb(36,36,36)",
            "ticks": "outside"
           }
          },
          "colorscale": {
           "diverging": [
            [
             0,
             "rgb(103,0,31)"
            ],
            [
             0.1,
             "rgb(178,24,43)"
            ],
            [
             0.2,
             "rgb(214,96,77)"
            ],
            [
             0.3,
             "rgb(244,165,130)"
            ],
            [
             0.4,
             "rgb(253,219,199)"
            ],
            [
             0.5,
             "rgb(247,247,247)"
            ],
            [
             0.6,
             "rgb(209,229,240)"
            ],
            [
             0.7,
             "rgb(146,197,222)"
            ],
            [
             0.8,
             "rgb(67,147,195)"
            ],
            [
             0.9,
             "rgb(33,102,172)"
            ],
            [
             1,
             "rgb(5,48,97)"
            ]
           ],
           "sequential": [
            [
             0,
             "#440154"
            ],
            [
             0.1111111111111111,
             "#482878"
            ],
            [
             0.2222222222222222,
             "#3e4989"
            ],
            [
             0.3333333333333333,
             "#31688e"
            ],
            [
             0.4444444444444444,
             "#26828e"
            ],
            [
             0.5555555555555556,
             "#1f9e89"
            ],
            [
             0.6666666666666666,
             "#35b779"
            ],
            [
             0.7777777777777778,
             "#6ece58"
            ],
            [
             0.8888888888888888,
             "#b5de2b"
            ],
            [
             1,
             "#fde725"
            ]
           ],
           "sequentialminus": [
            [
             0,
             "#440154"
            ],
            [
             0.1111111111111111,
             "#482878"
            ],
            [
             0.2222222222222222,
             "#3e4989"
            ],
            [
             0.3333333333333333,
             "#31688e"
            ],
            [
             0.4444444444444444,
             "#26828e"
            ],
            [
             0.5555555555555556,
             "#1f9e89"
            ],
            [
             0.6666666666666666,
             "#35b779"
            ],
            [
             0.7777777777777778,
             "#6ece58"
            ],
            [
             0.8888888888888888,
             "#b5de2b"
            ],
            [
             1,
             "#fde725"
            ]
           ]
          },
          "colorway": [
           "#1F77B4",
           "#FF7F0E",
           "#2CA02C",
           "#D62728",
           "#9467BD",
           "#8C564B",
           "#E377C2",
           "#7F7F7F",
           "#BCBD22",
           "#17BECF"
          ],
          "font": {
           "color": "rgb(36,36,36)"
          },
          "geo": {
           "bgcolor": "white",
           "lakecolor": "white",
           "landcolor": "white",
           "showlakes": true,
           "showland": true,
           "subunitcolor": "white"
          },
          "hoverlabel": {
           "align": "left"
          },
          "hovermode": "closest",
          "mapbox": {
           "style": "light"
          },
          "paper_bgcolor": "white",
          "plot_bgcolor": "white",
          "polar": {
           "angularaxis": {
            "gridcolor": "rgb(232,232,232)",
            "linecolor": "rgb(36,36,36)",
            "showgrid": false,
            "showline": true,
            "ticks": "outside"
           },
           "bgcolor": "white",
           "radialaxis": {
            "gridcolor": "rgb(232,232,232)",
            "linecolor": "rgb(36,36,36)",
            "showgrid": false,
            "showline": true,
            "ticks": "outside"
           }
          },
          "scene": {
           "xaxis": {
            "backgroundcolor": "white",
            "gridcolor": "rgb(232,232,232)",
            "gridwidth": 2,
            "linecolor": "rgb(36,36,36)",
            "showbackground": true,
            "showgrid": false,
            "showline": true,
            "ticks": "outside",
            "zeroline": false,
            "zerolinecolor": "rgb(36,36,36)"
           },
           "yaxis": {
            "backgroundcolor": "white",
            "gridcolor": "rgb(232,232,232)",
            "gridwidth": 2,
            "linecolor": "rgb(36,36,36)",
            "showbackground": true,
            "showgrid": false,
            "showline": true,
            "ticks": "outside",
            "zeroline": false,
            "zerolinecolor": "rgb(36,36,36)"
           },
           "zaxis": {
            "backgroundcolor": "white",
            "gridcolor": "rgb(232,232,232)",
            "gridwidth": 2,
            "linecolor": "rgb(36,36,36)",
            "showbackground": true,
            "showgrid": false,
            "showline": true,
            "ticks": "outside",
            "zeroline": false,
            "zerolinecolor": "rgb(36,36,36)"
           }
          },
          "shapedefaults": {
           "fillcolor": "black",
           "line": {
            "width": 0
           },
           "opacity": 0.3
          },
          "ternary": {
           "aaxis": {
            "gridcolor": "rgb(232,232,232)",
            "linecolor": "rgb(36,36,36)",
            "showgrid": false,
            "showline": true,
            "ticks": "outside"
           },
           "baxis": {
            "gridcolor": "rgb(232,232,232)",
            "linecolor": "rgb(36,36,36)",
            "showgrid": false,
            "showline": true,
            "ticks": "outside"
           },
           "bgcolor": "white",
           "caxis": {
            "gridcolor": "rgb(232,232,232)",
            "linecolor": "rgb(36,36,36)",
            "showgrid": false,
            "showline": true,
            "ticks": "outside"
           }
          },
          "title": {
           "x": 0.05
          },
          "xaxis": {
           "automargin": true,
           "gridcolor": "rgb(232,232,232)",
           "linecolor": "rgb(36,36,36)",
           "showgrid": false,
           "showline": true,
           "ticks": "outside",
           "title": {
            "standoff": 15
           },
           "zeroline": false,
           "zerolinecolor": "rgb(36,36,36)"
          },
          "yaxis": {
           "automargin": true,
           "gridcolor": "rgb(232,232,232)",
           "linecolor": "rgb(36,36,36)",
           "showgrid": false,
           "showline": true,
           "ticks": "outside",
           "title": {
            "standoff": 15
           },
           "zeroline": false,
           "zerolinecolor": "rgb(36,36,36)"
          }
         }
        },
        "title": {
         "font": {
          "color": "Black",
          "size": 22
         },
         "text": "Major Topic of DSA Job Desc",
         "x": 0.5,
         "xanchor": "center",
         "y": 0.95,
         "yanchor": "top"
        },
        "width": 1000,
        "xaxis": {
         "anchor": "y",
         "domain": [
          0,
          1
         ],
         "range": [
          -12.404821538925171,
          22.3326096534729
         ],
         "title": {
          "text": ""
         },
         "visible": false
        },
        "yaxis": {
         "anchor": "x",
         "domain": [
          0,
          1
         ],
         "range": [
          -17.423765182495117,
          23.74366979598999
         ],
         "title": {
          "text": ""
         },
         "visible": false
        }
       }
      }
     },
     "metadata": {},
     "output_type": "display_data"
    }
   ],
   "source": [
    "topic_model.visualize_topics(top_n_topics = 100, title = \"Major Topic of DSA Job Desc\", height = 500, width = 1000)"
   ]
  },
  {
   "cell_type": "code",
   "execution_count": 283,
   "metadata": {},
   "outputs": [
    {
     "data": {
      "application/vnd.plotly.v1+json": {
       "config": {
        "plotlyServerURL": "https://plot.ly"
       },
       "data": [
        {
         "marker": {
          "color": "#D55E00"
         },
         "orientation": "h",
         "type": "bar",
         "x": [
          0.03058499696606647,
          0.036044442877996054,
          0.0375695780974215,
          0.046453806511975546,
          0.10093201812822347
         ],
         "xaxis": "x",
         "y": [
          "監控  ",
          "效能  ",
          "管理  ",
          "sql  ",
          "資料庫  "
         ],
         "yaxis": "y"
        },
        {
         "marker": {
          "color": "#0072B2"
         },
         "orientation": "h",
         "type": "bar",
         "x": [
          0.029293561461934764,
          0.03032935047306244,
          0.03688437681345881,
          0.037233067122145636,
          0.03931093663965188
         ],
         "xaxis": "x2",
         "y": [
          "machine  ",
          "learning  ",
          "模型  ",
          "機器  ",
          "學習  "
         ],
         "yaxis": "y2"
        },
        {
         "marker": {
          "color": "#CC79A7"
         },
         "orientation": "h",
         "type": "bar",
         "x": [
          0.023893343621740327,
          0.029892743566192807,
          0.03835706685204437,
          0.04040754964325677,
          0.04576642301966707
         ],
         "xaxis": "x3",
         "y": [
          "客戶  ",
          "行為  ",
          "數據  ",
          "行銷  ",
          "分析  "
         ],
         "yaxis": "y3"
        },
        {
         "marker": {
          "color": "#E69F00"
         },
         "orientation": "h",
         "type": "bar",
         "x": [
          0.03421966410480471,
          0.0355585602380943,
          0.03851913027006766,
          0.04057832278729072,
          0.07167910597673381
         ],
         "xaxis": "x4",
         "y": [
          "開發  ",
          "倉儲  ",
          "平台  ",
          "數據  ",
          "資料  "
         ],
         "yaxis": "y4"
        },
        {
         "marker": {
          "color": "#56B4E9"
         },
         "orientation": "h",
         "type": "bar",
         "x": [
          0.03364694314021261,
          0.03514184143028037,
          0.04068527010034048,
          0.04254360754616774,
          0.06307697947062356
         ],
         "xaxis": "x5",
         "y": [
          "算法  ",
          "vision  ",
          "camera  ",
          "image  ",
          "演算法  "
         ],
         "yaxis": "y5"
        },
        {
         "marker": {
          "color": "#009E73"
         },
         "orientation": "h",
         "type": "bar",
         "x": [
          0.03268381215636221,
          0.03336920818229574,
          0.03757925326969435,
          0.03901465118372101,
          0.04372397835893391
         ],
         "xaxis": "x6",
         "y": [
          "開發  ",
          "數據  ",
          "資料  ",
          "經驗  ",
          "python  "
         ],
         "yaxis": "y6"
        },
        {
         "marker": {
          "color": "#F0E442"
         },
         "orientation": "h",
         "type": "bar",
         "x": [
          0.02114509234991021,
          0.021993554379494278,
          0.022294202284812076,
          0.022460944344577755,
          0.03964630098739356
         ],
         "xaxis": "x7",
         "y": [
          "plus  ",
          "development  ",
          "responsibilities  ",
          "ability  ",
          "experience  "
         ],
         "yaxis": "y7"
        },
        {
         "marker": {
          "color": "#D55E00"
         },
         "orientation": "h",
         "type": "bar",
         "x": [
          0.021758436272041,
          0.022173220121603887,
          0.0227254734664268,
          0.024227556183241017,
          0.0866832333044836
         ],
         "xaxis": "x8",
         "y": [
          "技術  ",
          "model  ",
          "開發  ",
          "appier  ",
          "ai  "
         ],
         "yaxis": "y8"
        },
        {
         "marker": {
          "color": "#0072B2"
         },
         "orientation": "h",
         "type": "bar",
         "x": [
          0.01873360531140596,
          0.019005523258232706,
          0.023831319565114032,
          0.026981554269869364,
          0.028296426814631227
         ],
         "xaxis": "x9",
         "y": [
          "學習  ",
          "分析  ",
          "畢業  ",
          "經驗  ",
          "資料  "
         ],
         "yaxis": "y9"
        },
        {
         "marker": {
          "color": "#CC79A7"
         },
         "orientation": "h",
         "type": "bar",
         "x": [
          0.014006848416303834,
          0.015493375201334408,
          0.016471795953652932,
          0.01676683278641618,
          0.017743208420531422
         ],
         "xaxis": "x10",
         "y": [
          "旅遊  ",
          "電商  ",
          "數據  ",
          "行銷  ",
          "kkday  "
         ],
         "yaxis": "y10"
        },
        {
         "marker": {
          "color": "#E69F00"
         },
         "orientation": "h",
         "type": "bar",
         "x": [
          0.01525815828467688,
          0.015322330749903312,
          0.016446492762433828,
          0.01647195972352441,
          0.0367271225716854
         ],
         "xaxis": "x11",
         "y": [
          "解決  ",
          "分析  ",
          "產品  ",
          "資料  ",
          "數據  "
         ],
         "yaxis": "y11"
        },
        {
         "marker": {
          "color": "#56B4E9"
         },
         "orientation": "h",
         "type": "bar",
         "x": [
          0.04588238481140539,
          0.04721495809865149,
          0.059883730812581894,
          0.09936597788723275,
          0.158244668144463
         ],
         "xaxis": "x12",
         "y": [
          "sql  ",
          "維護  ",
          "管理  ",
          "資料庫  ",
          "oracle  "
         ],
         "yaxis": "y12"
        }
       ],
       "layout": {
        "annotations": [
         {
          "font": {
           "size": 16
          },
          "showarrow": false,
          "text": "Topic 0",
          "x": 0.0875,
          "xanchor": "center",
          "xref": "paper",
          "y": 1,
          "yanchor": "bottom",
          "yref": "paper"
         },
         {
          "font": {
           "size": 16
          },
          "showarrow": false,
          "text": "Topic 1",
          "x": 0.36250000000000004,
          "xanchor": "center",
          "xref": "paper",
          "y": 1,
          "yanchor": "bottom",
          "yref": "paper"
         },
         {
          "font": {
           "size": 16
          },
          "showarrow": false,
          "text": "Topic 2",
          "x": 0.6375000000000001,
          "xanchor": "center",
          "xref": "paper",
          "y": 1,
          "yanchor": "bottom",
          "yref": "paper"
         },
         {
          "font": {
           "size": 16
          },
          "showarrow": false,
          "text": "Topic 3",
          "x": 0.9125,
          "xanchor": "center",
          "xref": "paper",
          "y": 1,
          "yanchor": "bottom",
          "yref": "paper"
         },
         {
          "font": {
           "size": 16
          },
          "showarrow": false,
          "text": "Topic 4",
          "x": 0.0875,
          "xanchor": "center",
          "xref": "paper",
          "y": 0.6222222222222222,
          "yanchor": "bottom",
          "yref": "paper"
         },
         {
          "font": {
           "size": 16
          },
          "showarrow": false,
          "text": "Topic 5",
          "x": 0.36250000000000004,
          "xanchor": "center",
          "xref": "paper",
          "y": 0.6222222222222222,
          "yanchor": "bottom",
          "yref": "paper"
         },
         {
          "font": {
           "size": 16
          },
          "showarrow": false,
          "text": "Topic 6",
          "x": 0.6375000000000001,
          "xanchor": "center",
          "xref": "paper",
          "y": 0.6222222222222222,
          "yanchor": "bottom",
          "yref": "paper"
         },
         {
          "font": {
           "size": 16
          },
          "showarrow": false,
          "text": "Topic 7",
          "x": 0.9125,
          "xanchor": "center",
          "xref": "paper",
          "y": 0.6222222222222222,
          "yanchor": "bottom",
          "yref": "paper"
         },
         {
          "font": {
           "size": 16
          },
          "showarrow": false,
          "text": "Topic 8",
          "x": 0.0875,
          "xanchor": "center",
          "xref": "paper",
          "y": 0.24444444444444446,
          "yanchor": "bottom",
          "yref": "paper"
         },
         {
          "font": {
           "size": 16
          },
          "showarrow": false,
          "text": "Topic 9",
          "x": 0.36250000000000004,
          "xanchor": "center",
          "xref": "paper",
          "y": 0.24444444444444446,
          "yanchor": "bottom",
          "yref": "paper"
         },
         {
          "font": {
           "size": 16
          },
          "showarrow": false,
          "text": "Topic 10",
          "x": 0.6375000000000001,
          "xanchor": "center",
          "xref": "paper",
          "y": 0.24444444444444446,
          "yanchor": "bottom",
          "yref": "paper"
         },
         {
          "font": {
           "size": 16
          },
          "showarrow": false,
          "text": "Topic 11",
          "x": 0.9125,
          "xanchor": "center",
          "xref": "paper",
          "y": 0.24444444444444446,
          "yanchor": "bottom",
          "yref": "paper"
         }
        ],
        "height": 750,
        "hoverlabel": {
         "bgcolor": "white",
         "font": {
          "family": "Rockwell",
          "size": 16
         }
        },
        "showlegend": false,
        "template": {
         "data": {
          "bar": [
           {
            "error_x": {
             "color": "#2a3f5f"
            },
            "error_y": {
             "color": "#2a3f5f"
            },
            "marker": {
             "line": {
              "color": "white",
              "width": 0.5
             },
             "pattern": {
              "fillmode": "overlay",
              "size": 10,
              "solidity": 0.2
             }
            },
            "type": "bar"
           }
          ],
          "barpolar": [
           {
            "marker": {
             "line": {
              "color": "white",
              "width": 0.5
             },
             "pattern": {
              "fillmode": "overlay",
              "size": 10,
              "solidity": 0.2
             }
            },
            "type": "barpolar"
           }
          ],
          "carpet": [
           {
            "aaxis": {
             "endlinecolor": "#2a3f5f",
             "gridcolor": "#C8D4E3",
             "linecolor": "#C8D4E3",
             "minorgridcolor": "#C8D4E3",
             "startlinecolor": "#2a3f5f"
            },
            "baxis": {
             "endlinecolor": "#2a3f5f",
             "gridcolor": "#C8D4E3",
             "linecolor": "#C8D4E3",
             "minorgridcolor": "#C8D4E3",
             "startlinecolor": "#2a3f5f"
            },
            "type": "carpet"
           }
          ],
          "choropleth": [
           {
            "colorbar": {
             "outlinewidth": 0,
             "ticks": ""
            },
            "type": "choropleth"
           }
          ],
          "contour": [
           {
            "colorbar": {
             "outlinewidth": 0,
             "ticks": ""
            },
            "colorscale": [
             [
              0,
              "#0d0887"
             ],
             [
              0.1111111111111111,
              "#46039f"
             ],
             [
              0.2222222222222222,
              "#7201a8"
             ],
             [
              0.3333333333333333,
              "#9c179e"
             ],
             [
              0.4444444444444444,
              "#bd3786"
             ],
             [
              0.5555555555555556,
              "#d8576b"
             ],
             [
              0.6666666666666666,
              "#ed7953"
             ],
             [
              0.7777777777777778,
              "#fb9f3a"
             ],
             [
              0.8888888888888888,
              "#fdca26"
             ],
             [
              1,
              "#f0f921"
             ]
            ],
            "type": "contour"
           }
          ],
          "contourcarpet": [
           {
            "colorbar": {
             "outlinewidth": 0,
             "ticks": ""
            },
            "type": "contourcarpet"
           }
          ],
          "heatmap": [
           {
            "colorbar": {
             "outlinewidth": 0,
             "ticks": ""
            },
            "colorscale": [
             [
              0,
              "#0d0887"
             ],
             [
              0.1111111111111111,
              "#46039f"
             ],
             [
              0.2222222222222222,
              "#7201a8"
             ],
             [
              0.3333333333333333,
              "#9c179e"
             ],
             [
              0.4444444444444444,
              "#bd3786"
             ],
             [
              0.5555555555555556,
              "#d8576b"
             ],
             [
              0.6666666666666666,
              "#ed7953"
             ],
             [
              0.7777777777777778,
              "#fb9f3a"
             ],
             [
              0.8888888888888888,
              "#fdca26"
             ],
             [
              1,
              "#f0f921"
             ]
            ],
            "type": "heatmap"
           }
          ],
          "heatmapgl": [
           {
            "colorbar": {
             "outlinewidth": 0,
             "ticks": ""
            },
            "colorscale": [
             [
              0,
              "#0d0887"
             ],
             [
              0.1111111111111111,
              "#46039f"
             ],
             [
              0.2222222222222222,
              "#7201a8"
             ],
             [
              0.3333333333333333,
              "#9c179e"
             ],
             [
              0.4444444444444444,
              "#bd3786"
             ],
             [
              0.5555555555555556,
              "#d8576b"
             ],
             [
              0.6666666666666666,
              "#ed7953"
             ],
             [
              0.7777777777777778,
              "#fb9f3a"
             ],
             [
              0.8888888888888888,
              "#fdca26"
             ],
             [
              1,
              "#f0f921"
             ]
            ],
            "type": "heatmapgl"
           }
          ],
          "histogram": [
           {
            "marker": {
             "pattern": {
              "fillmode": "overlay",
              "size": 10,
              "solidity": 0.2
             }
            },
            "type": "histogram"
           }
          ],
          "histogram2d": [
           {
            "colorbar": {
             "outlinewidth": 0,
             "ticks": ""
            },
            "colorscale": [
             [
              0,
              "#0d0887"
             ],
             [
              0.1111111111111111,
              "#46039f"
             ],
             [
              0.2222222222222222,
              "#7201a8"
             ],
             [
              0.3333333333333333,
              "#9c179e"
             ],
             [
              0.4444444444444444,
              "#bd3786"
             ],
             [
              0.5555555555555556,
              "#d8576b"
             ],
             [
              0.6666666666666666,
              "#ed7953"
             ],
             [
              0.7777777777777778,
              "#fb9f3a"
             ],
             [
              0.8888888888888888,
              "#fdca26"
             ],
             [
              1,
              "#f0f921"
             ]
            ],
            "type": "histogram2d"
           }
          ],
          "histogram2dcontour": [
           {
            "colorbar": {
             "outlinewidth": 0,
             "ticks": ""
            },
            "colorscale": [
             [
              0,
              "#0d0887"
             ],
             [
              0.1111111111111111,
              "#46039f"
             ],
             [
              0.2222222222222222,
              "#7201a8"
             ],
             [
              0.3333333333333333,
              "#9c179e"
             ],
             [
              0.4444444444444444,
              "#bd3786"
             ],
             [
              0.5555555555555556,
              "#d8576b"
             ],
             [
              0.6666666666666666,
              "#ed7953"
             ],
             [
              0.7777777777777778,
              "#fb9f3a"
             ],
             [
              0.8888888888888888,
              "#fdca26"
             ],
             [
              1,
              "#f0f921"
             ]
            ],
            "type": "histogram2dcontour"
           }
          ],
          "mesh3d": [
           {
            "colorbar": {
             "outlinewidth": 0,
             "ticks": ""
            },
            "type": "mesh3d"
           }
          ],
          "parcoords": [
           {
            "line": {
             "colorbar": {
              "outlinewidth": 0,
              "ticks": ""
             }
            },
            "type": "parcoords"
           }
          ],
          "pie": [
           {
            "automargin": true,
            "type": "pie"
           }
          ],
          "scatter": [
           {
            "fillpattern": {
             "fillmode": "overlay",
             "size": 10,
             "solidity": 0.2
            },
            "type": "scatter"
           }
          ],
          "scatter3d": [
           {
            "line": {
             "colorbar": {
              "outlinewidth": 0,
              "ticks": ""
             }
            },
            "marker": {
             "colorbar": {
              "outlinewidth": 0,
              "ticks": ""
             }
            },
            "type": "scatter3d"
           }
          ],
          "scattercarpet": [
           {
            "marker": {
             "colorbar": {
              "outlinewidth": 0,
              "ticks": ""
             }
            },
            "type": "scattercarpet"
           }
          ],
          "scattergeo": [
           {
            "marker": {
             "colorbar": {
              "outlinewidth": 0,
              "ticks": ""
             }
            },
            "type": "scattergeo"
           }
          ],
          "scattergl": [
           {
            "marker": {
             "colorbar": {
              "outlinewidth": 0,
              "ticks": ""
             }
            },
            "type": "scattergl"
           }
          ],
          "scattermapbox": [
           {
            "marker": {
             "colorbar": {
              "outlinewidth": 0,
              "ticks": ""
             }
            },
            "type": "scattermapbox"
           }
          ],
          "scatterpolar": [
           {
            "marker": {
             "colorbar": {
              "outlinewidth": 0,
              "ticks": ""
             }
            },
            "type": "scatterpolar"
           }
          ],
          "scatterpolargl": [
           {
            "marker": {
             "colorbar": {
              "outlinewidth": 0,
              "ticks": ""
             }
            },
            "type": "scatterpolargl"
           }
          ],
          "scatterternary": [
           {
            "marker": {
             "colorbar": {
              "outlinewidth": 0,
              "ticks": ""
             }
            },
            "type": "scatterternary"
           }
          ],
          "surface": [
           {
            "colorbar": {
             "outlinewidth": 0,
             "ticks": ""
            },
            "colorscale": [
             [
              0,
              "#0d0887"
             ],
             [
              0.1111111111111111,
              "#46039f"
             ],
             [
              0.2222222222222222,
              "#7201a8"
             ],
             [
              0.3333333333333333,
              "#9c179e"
             ],
             [
              0.4444444444444444,
              "#bd3786"
             ],
             [
              0.5555555555555556,
              "#d8576b"
             ],
             [
              0.6666666666666666,
              "#ed7953"
             ],
             [
              0.7777777777777778,
              "#fb9f3a"
             ],
             [
              0.8888888888888888,
              "#fdca26"
             ],
             [
              1,
              "#f0f921"
             ]
            ],
            "type": "surface"
           }
          ],
          "table": [
           {
            "cells": {
             "fill": {
              "color": "#EBF0F8"
             },
             "line": {
              "color": "white"
             }
            },
            "header": {
             "fill": {
              "color": "#C8D4E3"
             },
             "line": {
              "color": "white"
             }
            },
            "type": "table"
           }
          ]
         },
         "layout": {
          "annotationdefaults": {
           "arrowcolor": "#2a3f5f",
           "arrowhead": 0,
           "arrowwidth": 1
          },
          "autotypenumbers": "strict",
          "coloraxis": {
           "colorbar": {
            "outlinewidth": 0,
            "ticks": ""
           }
          },
          "colorscale": {
           "diverging": [
            [
             0,
             "#8e0152"
            ],
            [
             0.1,
             "#c51b7d"
            ],
            [
             0.2,
             "#de77ae"
            ],
            [
             0.3,
             "#f1b6da"
            ],
            [
             0.4,
             "#fde0ef"
            ],
            [
             0.5,
             "#f7f7f7"
            ],
            [
             0.6,
             "#e6f5d0"
            ],
            [
             0.7,
             "#b8e186"
            ],
            [
             0.8,
             "#7fbc41"
            ],
            [
             0.9,
             "#4d9221"
            ],
            [
             1,
             "#276419"
            ]
           ],
           "sequential": [
            [
             0,
             "#0d0887"
            ],
            [
             0.1111111111111111,
             "#46039f"
            ],
            [
             0.2222222222222222,
             "#7201a8"
            ],
            [
             0.3333333333333333,
             "#9c179e"
            ],
            [
             0.4444444444444444,
             "#bd3786"
            ],
            [
             0.5555555555555556,
             "#d8576b"
            ],
            [
             0.6666666666666666,
             "#ed7953"
            ],
            [
             0.7777777777777778,
             "#fb9f3a"
            ],
            [
             0.8888888888888888,
             "#fdca26"
            ],
            [
             1,
             "#f0f921"
            ]
           ],
           "sequentialminus": [
            [
             0,
             "#0d0887"
            ],
            [
             0.1111111111111111,
             "#46039f"
            ],
            [
             0.2222222222222222,
             "#7201a8"
            ],
            [
             0.3333333333333333,
             "#9c179e"
            ],
            [
             0.4444444444444444,
             "#bd3786"
            ],
            [
             0.5555555555555556,
             "#d8576b"
            ],
            [
             0.6666666666666666,
             "#ed7953"
            ],
            [
             0.7777777777777778,
             "#fb9f3a"
            ],
            [
             0.8888888888888888,
             "#fdca26"
            ],
            [
             1,
             "#f0f921"
            ]
           ]
          },
          "colorway": [
           "#636efa",
           "#EF553B",
           "#00cc96",
           "#ab63fa",
           "#FFA15A",
           "#19d3f3",
           "#FF6692",
           "#B6E880",
           "#FF97FF",
           "#FECB52"
          ],
          "font": {
           "color": "#2a3f5f"
          },
          "geo": {
           "bgcolor": "white",
           "lakecolor": "white",
           "landcolor": "white",
           "showlakes": true,
           "showland": true,
           "subunitcolor": "#C8D4E3"
          },
          "hoverlabel": {
           "align": "left"
          },
          "hovermode": "closest",
          "mapbox": {
           "style": "light"
          },
          "paper_bgcolor": "white",
          "plot_bgcolor": "white",
          "polar": {
           "angularaxis": {
            "gridcolor": "#EBF0F8",
            "linecolor": "#EBF0F8",
            "ticks": ""
           },
           "bgcolor": "white",
           "radialaxis": {
            "gridcolor": "#EBF0F8",
            "linecolor": "#EBF0F8",
            "ticks": ""
           }
          },
          "scene": {
           "xaxis": {
            "backgroundcolor": "white",
            "gridcolor": "#DFE8F3",
            "gridwidth": 2,
            "linecolor": "#EBF0F8",
            "showbackground": true,
            "ticks": "",
            "zerolinecolor": "#EBF0F8"
           },
           "yaxis": {
            "backgroundcolor": "white",
            "gridcolor": "#DFE8F3",
            "gridwidth": 2,
            "linecolor": "#EBF0F8",
            "showbackground": true,
            "ticks": "",
            "zerolinecolor": "#EBF0F8"
           },
           "zaxis": {
            "backgroundcolor": "white",
            "gridcolor": "#DFE8F3",
            "gridwidth": 2,
            "linecolor": "#EBF0F8",
            "showbackground": true,
            "ticks": "",
            "zerolinecolor": "#EBF0F8"
           }
          },
          "shapedefaults": {
           "line": {
            "color": "#2a3f5f"
           }
          },
          "ternary": {
           "aaxis": {
            "gridcolor": "#DFE8F3",
            "linecolor": "#A2B1C6",
            "ticks": ""
           },
           "baxis": {
            "gridcolor": "#DFE8F3",
            "linecolor": "#A2B1C6",
            "ticks": ""
           },
           "bgcolor": "white",
           "caxis": {
            "gridcolor": "#DFE8F3",
            "linecolor": "#A2B1C6",
            "ticks": ""
           }
          },
          "title": {
           "x": 0.05
          },
          "xaxis": {
           "automargin": true,
           "gridcolor": "#EBF0F8",
           "linecolor": "#EBF0F8",
           "ticks": "",
           "title": {
            "standoff": 15
           },
           "zerolinecolor": "#EBF0F8",
           "zerolinewidth": 2
          },
          "yaxis": {
           "automargin": true,
           "gridcolor": "#EBF0F8",
           "linecolor": "#EBF0F8",
           "ticks": "",
           "title": {
            "standoff": 15
           },
           "zerolinecolor": "#EBF0F8",
           "zerolinewidth": 2
          }
         }
        },
        "title": {
         "font": {
          "color": "Black",
          "size": 22
         },
         "text": "Topic Word Scores",
         "x": 0.5,
         "xanchor": "center",
         "yanchor": "top"
        },
        "width": 1000,
        "xaxis": {
         "anchor": "y",
         "domain": [
          0,
          0.175
         ],
         "showgrid": true
        },
        "xaxis10": {
         "anchor": "y10",
         "domain": [
          0.275,
          0.45
         ],
         "showgrid": true
        },
        "xaxis11": {
         "anchor": "y11",
         "domain": [
          0.55,
          0.7250000000000001
         ],
         "showgrid": true
        },
        "xaxis12": {
         "anchor": "y12",
         "domain": [
          0.825,
          1
         ],
         "showgrid": true
        },
        "xaxis2": {
         "anchor": "y2",
         "domain": [
          0.275,
          0.45
         ],
         "showgrid": true
        },
        "xaxis3": {
         "anchor": "y3",
         "domain": [
          0.55,
          0.7250000000000001
         ],
         "showgrid": true
        },
        "xaxis4": {
         "anchor": "y4",
         "domain": [
          0.825,
          1
         ],
         "showgrid": true
        },
        "xaxis5": {
         "anchor": "y5",
         "domain": [
          0,
          0.175
         ],
         "showgrid": true
        },
        "xaxis6": {
         "anchor": "y6",
         "domain": [
          0.275,
          0.45
         ],
         "showgrid": true
        },
        "xaxis7": {
         "anchor": "y7",
         "domain": [
          0.55,
          0.7250000000000001
         ],
         "showgrid": true
        },
        "xaxis8": {
         "anchor": "y8",
         "domain": [
          0.825,
          1
         ],
         "showgrid": true
        },
        "xaxis9": {
         "anchor": "y9",
         "domain": [
          0,
          0.175
         ],
         "showgrid": true
        },
        "yaxis": {
         "anchor": "x",
         "domain": [
          0.7555555555555555,
          1
         ],
         "showgrid": true
        },
        "yaxis10": {
         "anchor": "x10",
         "domain": [
          0,
          0.24444444444444446
         ],
         "showgrid": true
        },
        "yaxis11": {
         "anchor": "x11",
         "domain": [
          0,
          0.24444444444444446
         ],
         "showgrid": true
        },
        "yaxis12": {
         "anchor": "x12",
         "domain": [
          0,
          0.24444444444444446
         ],
         "showgrid": true
        },
        "yaxis2": {
         "anchor": "x2",
         "domain": [
          0.7555555555555555,
          1
         ],
         "showgrid": true
        },
        "yaxis3": {
         "anchor": "x3",
         "domain": [
          0.7555555555555555,
          1
         ],
         "showgrid": true
        },
        "yaxis4": {
         "anchor": "x4",
         "domain": [
          0.7555555555555555,
          1
         ],
         "showgrid": true
        },
        "yaxis5": {
         "anchor": "x5",
         "domain": [
          0.37777777777777777,
          0.6222222222222222
         ],
         "showgrid": true
        },
        "yaxis6": {
         "anchor": "x6",
         "domain": [
          0.37777777777777777,
          0.6222222222222222
         ],
         "showgrid": true
        },
        "yaxis7": {
         "anchor": "x7",
         "domain": [
          0.37777777777777777,
          0.6222222222222222
         ],
         "showgrid": true
        },
        "yaxis8": {
         "anchor": "x8",
         "domain": [
          0.37777777777777777,
          0.6222222222222222
         ],
         "showgrid": true
        },
        "yaxis9": {
         "anchor": "x9",
         "domain": [
          0,
          0.24444444444444446
         ],
         "showgrid": true
        }
       }
      }
     },
     "metadata": {},
     "output_type": "display_data"
    }
   ],
   "source": [
    "topic_model.visualize_barchart(top_n_topics = 12)"
   ]
  },
  {
   "cell_type": "code",
   "execution_count": 284,
   "metadata": {},
   "outputs": [
    {
     "data": {
      "application/vnd.plotly.v1+json": {
       "config": {
        "plotlyServerURL": "https://plot.ly"
       },
       "data": [
        {
         "hoverinfo": "text",
         "marker": {
          "color": "rgb(61,153,112)"
         },
         "mode": "lines",
         "type": "scatter",
         "x": [
          0,
          0.28555416145577917,
          0.28555416145577917,
          0
         ],
         "xaxis": "x",
         "y": [
          -5,
          -5,
          -15,
          -15
         ],
         "yaxis": "y"
        },
        {
         "hoverinfo": "text",
         "marker": {
          "color": "rgb(255,65,54)"
         },
         "mode": "lines",
         "type": "scatter",
         "x": [
          0,
          0.570233058189046,
          0.570233058189046,
          0
         ],
         "xaxis": "x",
         "y": [
          -35,
          -35,
          -45,
          -45
         ],
         "yaxis": "y"
        },
        {
         "hoverinfo": "text",
         "marker": {
          "color": "rgb(255,65,54)"
         },
         "mode": "lines",
         "type": "scatter",
         "x": [
          0,
          0.41149264823485454,
          0.41149264823485454,
          0
         ],
         "xaxis": "x",
         "y": [
          -65,
          -65,
          -75,
          -75
         ],
         "yaxis": "y"
        },
        {
         "hoverinfo": "text",
         "marker": {
          "color": "rgb(255,65,54)"
         },
         "mode": "lines",
         "type": "scatter",
         "x": [
          0.41149264823485454,
          0.5350622685724025,
          0.5350622685724025,
          0
         ],
         "xaxis": "x",
         "y": [
          -70,
          -70,
          -85,
          -85
         ],
         "yaxis": "y"
        },
        {
         "hoverinfo": "text",
         "marker": {
          "color": "rgb(255,65,54)"
         },
         "mode": "lines",
         "type": "scatter",
         "x": [
          0,
          0.7095953717934669,
          0.7095953717934669,
          0.5350622685724025
         ],
         "xaxis": "x",
         "y": [
          -55,
          -55,
          -77.5,
          -77.5
         ],
         "yaxis": "y"
        },
        {
         "hoverinfo": "text",
         "marker": {
          "color": "rgb(255,65,54)"
         },
         "mode": "lines",
         "type": "scatter",
         "x": [
          0.7095953717934669,
          0.7195081907810922,
          0.7195081907810922,
          0
         ],
         "xaxis": "x",
         "y": [
          -66.25,
          -66.25,
          -95,
          -95
         ],
         "yaxis": "y"
        },
        {
         "hoverinfo": "text",
         "marker": {
          "color": "rgb(255,65,54)"
         },
         "mode": "lines",
         "type": "scatter",
         "x": [
          0.570233058189046,
          0.8012061804289804,
          0.8012061804289804,
          0.7195081907810922
         ],
         "xaxis": "x",
         "y": [
          -40,
          -40,
          -80.625,
          -80.625
         ],
         "yaxis": "y"
        },
        {
         "hoverinfo": "text",
         "marker": {
          "color": "rgb(255,65,54)"
         },
         "mode": "lines",
         "type": "scatter",
         "x": [
          0.8012061804289804,
          0.8228795350683185,
          0.8228795350683185,
          0
         ],
         "xaxis": "x",
         "y": [
          -60.3125,
          -60.3125,
          -105,
          -105
         ],
         "yaxis": "y"
        },
        {
         "hoverinfo": "text",
         "marker": {
          "color": "rgb(255,65,54)"
         },
         "mode": "lines",
         "type": "scatter",
         "x": [
          0,
          0.8567194495713341,
          0.8567194495713341,
          0.8228795350683185
         ],
         "xaxis": "x",
         "y": [
          -25,
          -25,
          -82.65625,
          -82.65625
         ],
         "yaxis": "y"
        },
        {
         "hoverinfo": "text",
         "marker": {
          "color": "rgb(255,65,54)"
         },
         "mode": "lines",
         "type": "scatter",
         "x": [
          0,
          0.4469270047830727,
          0.4469270047830727,
          0
         ],
         "xaxis": "x",
         "y": [
          -125,
          -125,
          -135,
          -135
         ],
         "yaxis": "y"
        },
        {
         "hoverinfo": "text",
         "marker": {
          "color": "rgb(255,65,54)"
         },
         "mode": "lines",
         "type": "scatter",
         "x": [
          0.4469270047830727,
          0.4987859777919068,
          0.4987859777919068,
          0
         ],
         "xaxis": "x",
         "y": [
          -130,
          -130,
          -145,
          -145
         ],
         "yaxis": "y"
        },
        {
         "hoverinfo": "text",
         "marker": {
          "color": "rgb(255,65,54)"
         },
         "mode": "lines",
         "type": "scatter",
         "x": [
          0,
          0.5944804828217256,
          0.5944804828217256,
          0.4987859777919068
         ],
         "xaxis": "x",
         "y": [
          -115,
          -115,
          -137.5,
          -137.5
         ],
         "yaxis": "y"
        },
        {
         "hoverinfo": "text",
         "marker": {
          "color": "rgb(255,65,54)"
         },
         "mode": "lines",
         "type": "scatter",
         "x": [
          0.5944804828217256,
          0.6429089409301334,
          0.6429089409301334,
          0
         ],
         "xaxis": "x",
         "y": [
          -126.25,
          -126.25,
          -155,
          -155
         ],
         "yaxis": "y"
        },
        {
         "hoverinfo": "text",
         "marker": {
          "color": "rgb(255,65,54)"
         },
         "mode": "lines",
         "type": "scatter",
         "x": [
          0.6429089409301334,
          0.7720759080706794,
          0.7720759080706794,
          0
         ],
         "xaxis": "x",
         "y": [
          -140.625,
          -140.625,
          -165,
          -165
         ],
         "yaxis": "y"
        },
        {
         "hoverinfo": "text",
         "marker": {
          "color": "rgb(255,65,54)"
         },
         "mode": "lines",
         "type": "scatter",
         "x": [
          0.8567194495713341,
          0.9178171673024378,
          0.9178171673024378,
          0.7720759080706794
         ],
         "xaxis": "x",
         "y": [
          -53.828125,
          -53.828125,
          -152.8125,
          -152.8125
         ],
         "yaxis": "y"
        },
        {
         "hoverinfo": "text",
         "marker": {
          "color": "rgb(35,205,205)"
         },
         "mode": "lines",
         "type": "scatter",
         "x": [
          0,
          0.3795653290415931,
          0.3795653290415931,
          0
         ],
         "xaxis": "x",
         "y": [
          -195,
          -195,
          -205,
          -205
         ],
         "yaxis": "y"
        },
        {
         "hoverinfo": "text",
         "marker": {
          "color": "rgb(35,205,205)"
         },
         "mode": "lines",
         "type": "scatter",
         "x": [
          0.3795653290415931,
          0.4649017371797054,
          0.4649017371797054,
          0
         ],
         "xaxis": "x",
         "y": [
          -200,
          -200,
          -215,
          -215
         ],
         "yaxis": "y"
        },
        {
         "hoverinfo": "text",
         "marker": {
          "color": "rgb(35,205,205)"
         },
         "mode": "lines",
         "type": "scatter",
         "x": [
          0,
          0.5581789367112748,
          0.5581789367112748,
          0.4649017371797054
         ],
         "xaxis": "x",
         "y": [
          -185,
          -185,
          -207.5,
          -207.5
         ],
         "yaxis": "y"
        },
        {
         "hoverinfo": "text",
         "marker": {
          "color": "rgb(35,205,205)"
         },
         "mode": "lines",
         "type": "scatter",
         "x": [
          0.5581789367112748,
          0.6216206222888828,
          0.6216206222888828,
          0
         ],
         "xaxis": "x",
         "y": [
          -196.25,
          -196.25,
          -225,
          -225
         ],
         "yaxis": "y"
        },
        {
         "hoverinfo": "text",
         "marker": {
          "color": "rgb(35,205,205)"
         },
         "mode": "lines",
         "type": "scatter",
         "x": [
          0,
          0.677051695466054,
          0.677051695466054,
          0.6216206222888828
         ],
         "xaxis": "x",
         "y": [
          -175,
          -175,
          -210.625,
          -210.625
         ],
         "yaxis": "y"
        },
        {
         "hoverinfo": "text",
         "marker": {
          "color": "rgb(0,116,217)"
         },
         "mode": "lines",
         "type": "scatter",
         "x": [
          0.9178171673024378,
          1.032129847608661,
          1.032129847608661,
          0.677051695466054
         ],
         "xaxis": "x",
         "y": [
          -103.3203125,
          -103.3203125,
          -192.8125,
          -192.8125
         ],
         "yaxis": "y"
        },
        {
         "hoverinfo": "text",
         "marker": {
          "color": "rgb(0,116,217)"
         },
         "mode": "lines",
         "type": "scatter",
         "x": [
          0.28555416145577917,
          1.1460334090388786,
          1.1460334090388786,
          1.032129847608661
         ],
         "xaxis": "x",
         "y": [
          -10,
          -10,
          -148.06640625,
          -148.06640625
         ],
         "yaxis": "y"
        },
        {
         "hoverinfo": "text",
         "marker": {
          "color": "rgb(133,20,75)"
         },
         "mode": "lines",
         "type": "scatter",
         "x": [
          0,
          0.37817052940334506,
          0.37817052940334506,
          0
         ],
         "xaxis": "x",
         "y": [
          -255,
          -255,
          -265,
          -265
         ],
         "yaxis": "y"
        },
        {
         "hoverinfo": "text",
         "marker": {
          "color": "rgb(133,20,75)"
         },
         "mode": "lines",
         "type": "scatter",
         "x": [
          0,
          0.4458314324298781,
          0.4458314324298781,
          0.37817052940334506
         ],
         "xaxis": "x",
         "y": [
          -245,
          -245,
          -260,
          -260
         ],
         "yaxis": "y"
        },
        {
         "hoverinfo": "text",
         "marker": {
          "color": "rgb(133,20,75)"
         },
         "mode": "lines",
         "type": "scatter",
         "x": [
          0,
          0.7016661179402173,
          0.7016661179402173,
          0.4458314324298781
         ],
         "xaxis": "x",
         "y": [
          -235,
          -235,
          -252.5,
          -252.5
         ],
         "yaxis": "y"
        },
        {
         "hoverinfo": "text",
         "marker": {
          "color": "rgb(255,220,0)"
         },
         "mode": "lines",
         "type": "scatter",
         "x": [
          0,
          0.5774674134612576,
          0.5774674134612576,
          0
         ],
         "xaxis": "x",
         "y": [
          -275,
          -275,
          -285,
          -285
         ],
         "yaxis": "y"
        },
        {
         "hoverinfo": "text",
         "marker": {
          "color": "rgb(255,220,0)"
         },
         "mode": "lines",
         "type": "scatter",
         "x": [
          0,
          0.46075140555576,
          0.46075140555576,
          0
         ],
         "xaxis": "x",
         "y": [
          -315,
          -315,
          -325,
          -325
         ],
         "yaxis": "y"
        },
        {
         "hoverinfo": "text",
         "marker": {
          "color": "rgb(255,220,0)"
         },
         "mode": "lines",
         "type": "scatter",
         "x": [
          0,
          0.492270054776683,
          0.492270054776683,
          0.46075140555576
         ],
         "xaxis": "x",
         "y": [
          -305,
          -305,
          -320,
          -320
         ],
         "yaxis": "y"
        },
        {
         "hoverinfo": "text",
         "marker": {
          "color": "rgb(255,220,0)"
         },
         "mode": "lines",
         "type": "scatter",
         "x": [
          0.492270054776683,
          0.6109719331592683,
          0.6109719331592683,
          0
         ],
         "xaxis": "x",
         "y": [
          -312.5,
          -312.5,
          -335,
          -335
         ],
         "yaxis": "y"
        },
        {
         "hoverinfo": "text",
         "marker": {
          "color": "rgb(255,220,0)"
         },
         "mode": "lines",
         "type": "scatter",
         "x": [
          0,
          0.697666454740417,
          0.697666454740417,
          0.6109719331592683
         ],
         "xaxis": "x",
         "y": [
          -295,
          -295,
          -323.75,
          -323.75
         ],
         "yaxis": "y"
        },
        {
         "hoverinfo": "text",
         "marker": {
          "color": "rgb(255,220,0)"
         },
         "mode": "lines",
         "type": "scatter",
         "x": [
          0.697666454740417,
          0.7014291166828494,
          0.7014291166828494,
          0
         ],
         "xaxis": "x",
         "y": [
          -309.375,
          -309.375,
          -345,
          -345
         ],
         "yaxis": "y"
        },
        {
         "hoverinfo": "text",
         "marker": {
          "color": "rgb(255,220,0)"
         },
         "mode": "lines",
         "type": "scatter",
         "x": [
          0.5774674134612576,
          0.8214507974138188,
          0.8214507974138188,
          0.7014291166828494
         ],
         "xaxis": "x",
         "y": [
          -280,
          -280,
          -327.1875,
          -327.1875
         ],
         "yaxis": "y"
        },
        {
         "hoverinfo": "text",
         "marker": {
          "color": "rgb(0,116,217)"
         },
         "mode": "lines",
         "type": "scatter",
         "x": [
          0.7016661179402173,
          1.3956877497352131,
          1.3956877497352131,
          0.8214507974138188
         ],
         "xaxis": "x",
         "y": [
          -243.75,
          -243.75,
          -303.59375,
          -303.59375
         ],
         "yaxis": "y"
        },
        {
         "hoverinfo": "text",
         "marker": {
          "color": "rgb(0,116,217)"
         },
         "mode": "lines",
         "type": "scatter",
         "x": [
          1.1460334090388786,
          1.5716956585180015,
          1.5716956585180015,
          1.3956877497352131
         ],
         "xaxis": "x",
         "y": [
          -79.033203125,
          -79.033203125,
          -273.671875,
          -273.671875
         ],
         "yaxis": "y"
        }
       ],
       "layout": {
        "autosize": false,
        "height": 725,
        "hoverlabel": {
         "bgcolor": "white",
         "font": {
          "family": "Rockwell",
          "size": 16
         }
        },
        "hovermode": "closest",
        "plot_bgcolor": "#ECEFF1",
        "showlegend": false,
        "template": {
         "data": {
          "bar": [
           {
            "error_x": {
             "color": "#2a3f5f"
            },
            "error_y": {
             "color": "#2a3f5f"
            },
            "marker": {
             "line": {
              "color": "white",
              "width": 0.5
             },
             "pattern": {
              "fillmode": "overlay",
              "size": 10,
              "solidity": 0.2
             }
            },
            "type": "bar"
           }
          ],
          "barpolar": [
           {
            "marker": {
             "line": {
              "color": "white",
              "width": 0.5
             },
             "pattern": {
              "fillmode": "overlay",
              "size": 10,
              "solidity": 0.2
             }
            },
            "type": "barpolar"
           }
          ],
          "carpet": [
           {
            "aaxis": {
             "endlinecolor": "#2a3f5f",
             "gridcolor": "#C8D4E3",
             "linecolor": "#C8D4E3",
             "minorgridcolor": "#C8D4E3",
             "startlinecolor": "#2a3f5f"
            },
            "baxis": {
             "endlinecolor": "#2a3f5f",
             "gridcolor": "#C8D4E3",
             "linecolor": "#C8D4E3",
             "minorgridcolor": "#C8D4E3",
             "startlinecolor": "#2a3f5f"
            },
            "type": "carpet"
           }
          ],
          "choropleth": [
           {
            "colorbar": {
             "outlinewidth": 0,
             "ticks": ""
            },
            "type": "choropleth"
           }
          ],
          "contour": [
           {
            "colorbar": {
             "outlinewidth": 0,
             "ticks": ""
            },
            "colorscale": [
             [
              0,
              "#0d0887"
             ],
             [
              0.1111111111111111,
              "#46039f"
             ],
             [
              0.2222222222222222,
              "#7201a8"
             ],
             [
              0.3333333333333333,
              "#9c179e"
             ],
             [
              0.4444444444444444,
              "#bd3786"
             ],
             [
              0.5555555555555556,
              "#d8576b"
             ],
             [
              0.6666666666666666,
              "#ed7953"
             ],
             [
              0.7777777777777778,
              "#fb9f3a"
             ],
             [
              0.8888888888888888,
              "#fdca26"
             ],
             [
              1,
              "#f0f921"
             ]
            ],
            "type": "contour"
           }
          ],
          "contourcarpet": [
           {
            "colorbar": {
             "outlinewidth": 0,
             "ticks": ""
            },
            "type": "contourcarpet"
           }
          ],
          "heatmap": [
           {
            "colorbar": {
             "outlinewidth": 0,
             "ticks": ""
            },
            "colorscale": [
             [
              0,
              "#0d0887"
             ],
             [
              0.1111111111111111,
              "#46039f"
             ],
             [
              0.2222222222222222,
              "#7201a8"
             ],
             [
              0.3333333333333333,
              "#9c179e"
             ],
             [
              0.4444444444444444,
              "#bd3786"
             ],
             [
              0.5555555555555556,
              "#d8576b"
             ],
             [
              0.6666666666666666,
              "#ed7953"
             ],
             [
              0.7777777777777778,
              "#fb9f3a"
             ],
             [
              0.8888888888888888,
              "#fdca26"
             ],
             [
              1,
              "#f0f921"
             ]
            ],
            "type": "heatmap"
           }
          ],
          "heatmapgl": [
           {
            "colorbar": {
             "outlinewidth": 0,
             "ticks": ""
            },
            "colorscale": [
             [
              0,
              "#0d0887"
             ],
             [
              0.1111111111111111,
              "#46039f"
             ],
             [
              0.2222222222222222,
              "#7201a8"
             ],
             [
              0.3333333333333333,
              "#9c179e"
             ],
             [
              0.4444444444444444,
              "#bd3786"
             ],
             [
              0.5555555555555556,
              "#d8576b"
             ],
             [
              0.6666666666666666,
              "#ed7953"
             ],
             [
              0.7777777777777778,
              "#fb9f3a"
             ],
             [
              0.8888888888888888,
              "#fdca26"
             ],
             [
              1,
              "#f0f921"
             ]
            ],
            "type": "heatmapgl"
           }
          ],
          "histogram": [
           {
            "marker": {
             "pattern": {
              "fillmode": "overlay",
              "size": 10,
              "solidity": 0.2
             }
            },
            "type": "histogram"
           }
          ],
          "histogram2d": [
           {
            "colorbar": {
             "outlinewidth": 0,
             "ticks": ""
            },
            "colorscale": [
             [
              0,
              "#0d0887"
             ],
             [
              0.1111111111111111,
              "#46039f"
             ],
             [
              0.2222222222222222,
              "#7201a8"
             ],
             [
              0.3333333333333333,
              "#9c179e"
             ],
             [
              0.4444444444444444,
              "#bd3786"
             ],
             [
              0.5555555555555556,
              "#d8576b"
             ],
             [
              0.6666666666666666,
              "#ed7953"
             ],
             [
              0.7777777777777778,
              "#fb9f3a"
             ],
             [
              0.8888888888888888,
              "#fdca26"
             ],
             [
              1,
              "#f0f921"
             ]
            ],
            "type": "histogram2d"
           }
          ],
          "histogram2dcontour": [
           {
            "colorbar": {
             "outlinewidth": 0,
             "ticks": ""
            },
            "colorscale": [
             [
              0,
              "#0d0887"
             ],
             [
              0.1111111111111111,
              "#46039f"
             ],
             [
              0.2222222222222222,
              "#7201a8"
             ],
             [
              0.3333333333333333,
              "#9c179e"
             ],
             [
              0.4444444444444444,
              "#bd3786"
             ],
             [
              0.5555555555555556,
              "#d8576b"
             ],
             [
              0.6666666666666666,
              "#ed7953"
             ],
             [
              0.7777777777777778,
              "#fb9f3a"
             ],
             [
              0.8888888888888888,
              "#fdca26"
             ],
             [
              1,
              "#f0f921"
             ]
            ],
            "type": "histogram2dcontour"
           }
          ],
          "mesh3d": [
           {
            "colorbar": {
             "outlinewidth": 0,
             "ticks": ""
            },
            "type": "mesh3d"
           }
          ],
          "parcoords": [
           {
            "line": {
             "colorbar": {
              "outlinewidth": 0,
              "ticks": ""
             }
            },
            "type": "parcoords"
           }
          ],
          "pie": [
           {
            "automargin": true,
            "type": "pie"
           }
          ],
          "scatter": [
           {
            "fillpattern": {
             "fillmode": "overlay",
             "size": 10,
             "solidity": 0.2
            },
            "type": "scatter"
           }
          ],
          "scatter3d": [
           {
            "line": {
             "colorbar": {
              "outlinewidth": 0,
              "ticks": ""
             }
            },
            "marker": {
             "colorbar": {
              "outlinewidth": 0,
              "ticks": ""
             }
            },
            "type": "scatter3d"
           }
          ],
          "scattercarpet": [
           {
            "marker": {
             "colorbar": {
              "outlinewidth": 0,
              "ticks": ""
             }
            },
            "type": "scattercarpet"
           }
          ],
          "scattergeo": [
           {
            "marker": {
             "colorbar": {
              "outlinewidth": 0,
              "ticks": ""
             }
            },
            "type": "scattergeo"
           }
          ],
          "scattergl": [
           {
            "marker": {
             "colorbar": {
              "outlinewidth": 0,
              "ticks": ""
             }
            },
            "type": "scattergl"
           }
          ],
          "scattermapbox": [
           {
            "marker": {
             "colorbar": {
              "outlinewidth": 0,
              "ticks": ""
             }
            },
            "type": "scattermapbox"
           }
          ],
          "scatterpolar": [
           {
            "marker": {
             "colorbar": {
              "outlinewidth": 0,
              "ticks": ""
             }
            },
            "type": "scatterpolar"
           }
          ],
          "scatterpolargl": [
           {
            "marker": {
             "colorbar": {
              "outlinewidth": 0,
              "ticks": ""
             }
            },
            "type": "scatterpolargl"
           }
          ],
          "scatterternary": [
           {
            "marker": {
             "colorbar": {
              "outlinewidth": 0,
              "ticks": ""
             }
            },
            "type": "scatterternary"
           }
          ],
          "surface": [
           {
            "colorbar": {
             "outlinewidth": 0,
             "ticks": ""
            },
            "colorscale": [
             [
              0,
              "#0d0887"
             ],
             [
              0.1111111111111111,
              "#46039f"
             ],
             [
              0.2222222222222222,
              "#7201a8"
             ],
             [
              0.3333333333333333,
              "#9c179e"
             ],
             [
              0.4444444444444444,
              "#bd3786"
             ],
             [
              0.5555555555555556,
              "#d8576b"
             ],
             [
              0.6666666666666666,
              "#ed7953"
             ],
             [
              0.7777777777777778,
              "#fb9f3a"
             ],
             [
              0.8888888888888888,
              "#fdca26"
             ],
             [
              1,
              "#f0f921"
             ]
            ],
            "type": "surface"
           }
          ],
          "table": [
           {
            "cells": {
             "fill": {
              "color": "#EBF0F8"
             },
             "line": {
              "color": "white"
             }
            },
            "header": {
             "fill": {
              "color": "#C8D4E3"
             },
             "line": {
              "color": "white"
             }
            },
            "type": "table"
           }
          ]
         },
         "layout": {
          "annotationdefaults": {
           "arrowcolor": "#2a3f5f",
           "arrowhead": 0,
           "arrowwidth": 1
          },
          "autotypenumbers": "strict",
          "coloraxis": {
           "colorbar": {
            "outlinewidth": 0,
            "ticks": ""
           }
          },
          "colorscale": {
           "diverging": [
            [
             0,
             "#8e0152"
            ],
            [
             0.1,
             "#c51b7d"
            ],
            [
             0.2,
             "#de77ae"
            ],
            [
             0.3,
             "#f1b6da"
            ],
            [
             0.4,
             "#fde0ef"
            ],
            [
             0.5,
             "#f7f7f7"
            ],
            [
             0.6,
             "#e6f5d0"
            ],
            [
             0.7,
             "#b8e186"
            ],
            [
             0.8,
             "#7fbc41"
            ],
            [
             0.9,
             "#4d9221"
            ],
            [
             1,
             "#276419"
            ]
           ],
           "sequential": [
            [
             0,
             "#0d0887"
            ],
            [
             0.1111111111111111,
             "#46039f"
            ],
            [
             0.2222222222222222,
             "#7201a8"
            ],
            [
             0.3333333333333333,
             "#9c179e"
            ],
            [
             0.4444444444444444,
             "#bd3786"
            ],
            [
             0.5555555555555556,
             "#d8576b"
            ],
            [
             0.6666666666666666,
             "#ed7953"
            ],
            [
             0.7777777777777778,
             "#fb9f3a"
            ],
            [
             0.8888888888888888,
             "#fdca26"
            ],
            [
             1,
             "#f0f921"
            ]
           ],
           "sequentialminus": [
            [
             0,
             "#0d0887"
            ],
            [
             0.1111111111111111,
             "#46039f"
            ],
            [
             0.2222222222222222,
             "#7201a8"
            ],
            [
             0.3333333333333333,
             "#9c179e"
            ],
            [
             0.4444444444444444,
             "#bd3786"
            ],
            [
             0.5555555555555556,
             "#d8576b"
            ],
            [
             0.6666666666666666,
             "#ed7953"
            ],
            [
             0.7777777777777778,
             "#fb9f3a"
            ],
            [
             0.8888888888888888,
             "#fdca26"
            ],
            [
             1,
             "#f0f921"
            ]
           ]
          },
          "colorway": [
           "#636efa",
           "#EF553B",
           "#00cc96",
           "#ab63fa",
           "#FFA15A",
           "#19d3f3",
           "#FF6692",
           "#B6E880",
           "#FF97FF",
           "#FECB52"
          ],
          "font": {
           "color": "#2a3f5f"
          },
          "geo": {
           "bgcolor": "white",
           "lakecolor": "white",
           "landcolor": "white",
           "showlakes": true,
           "showland": true,
           "subunitcolor": "#C8D4E3"
          },
          "hoverlabel": {
           "align": "left"
          },
          "hovermode": "closest",
          "mapbox": {
           "style": "light"
          },
          "paper_bgcolor": "white",
          "plot_bgcolor": "white",
          "polar": {
           "angularaxis": {
            "gridcolor": "#EBF0F8",
            "linecolor": "#EBF0F8",
            "ticks": ""
           },
           "bgcolor": "white",
           "radialaxis": {
            "gridcolor": "#EBF0F8",
            "linecolor": "#EBF0F8",
            "ticks": ""
           }
          },
          "scene": {
           "xaxis": {
            "backgroundcolor": "white",
            "gridcolor": "#DFE8F3",
            "gridwidth": 2,
            "linecolor": "#EBF0F8",
            "showbackground": true,
            "ticks": "",
            "zerolinecolor": "#EBF0F8"
           },
           "yaxis": {
            "backgroundcolor": "white",
            "gridcolor": "#DFE8F3",
            "gridwidth": 2,
            "linecolor": "#EBF0F8",
            "showbackground": true,
            "ticks": "",
            "zerolinecolor": "#EBF0F8"
           },
           "zaxis": {
            "backgroundcolor": "white",
            "gridcolor": "#DFE8F3",
            "gridwidth": 2,
            "linecolor": "#EBF0F8",
            "showbackground": true,
            "ticks": "",
            "zerolinecolor": "#EBF0F8"
           }
          },
          "shapedefaults": {
           "line": {
            "color": "#2a3f5f"
           }
          },
          "ternary": {
           "aaxis": {
            "gridcolor": "#DFE8F3",
            "linecolor": "#A2B1C6",
            "ticks": ""
           },
           "baxis": {
            "gridcolor": "#DFE8F3",
            "linecolor": "#A2B1C6",
            "ticks": ""
           },
           "bgcolor": "white",
           "caxis": {
            "gridcolor": "#DFE8F3",
            "linecolor": "#A2B1C6",
            "ticks": ""
           }
          },
          "title": {
           "x": 0.05
          },
          "xaxis": {
           "automargin": true,
           "gridcolor": "#EBF0F8",
           "linecolor": "#EBF0F8",
           "ticks": "",
           "title": {
            "standoff": 15
           },
           "zerolinecolor": "#EBF0F8",
           "zerolinewidth": 2
          },
          "yaxis": {
           "automargin": true,
           "gridcolor": "#EBF0F8",
           "linecolor": "#EBF0F8",
           "ticks": "",
           "title": {
            "standoff": 15
           },
           "zerolinecolor": "#EBF0F8",
           "zerolinewidth": 2
          }
         }
        },
        "title": {
         "font": {
          "color": "Black",
          "size": 22
         },
         "text": "<b>Hierarchical Clustering</b>",
         "x": 0.5,
         "xanchor": "center",
         "yanchor": "top"
        },
        "width": 1000,
        "xaxis": {
         "mirror": "allticks",
         "rangemode": "tozero",
         "showgrid": false,
         "showline": true,
         "showticklabels": true,
         "ticks": "outside",
         "type": "linear",
         "zeroline": false
        },
        "yaxis": {
         "mirror": "allticks",
         "range": [
          -350,
          0
         ],
         "rangemode": "tozero",
         "showgrid": false,
         "showline": true,
         "showticklabels": true,
         "tickmode": "array",
         "ticks": "outside",
         "ticktext": [
          "11_oracle_資料庫_管理",
          "0_資料庫_sql_管理",
          "34_數位_居住_信義",
          "33_google_行銷_社群",
          "26_媒體_廣告_投放",
          "22_金融_交易_風險",
          "9_kkday_行銷_數據",
          "10_數據_資料_產品",
          "12_athemaster_資料_https",
          "31_信託_數位_產出",
          "32_醫療_照護_生物",
          "8_資料_經驗_畢業",
          "3_資料_數據_平台",
          "5_python_經驗_資料",
          "25_etl_開發_資料",
          "18_雲端_架構_cloud",
          "27_數據_sql_excel",
          "30_訪談_業務_客戶",
          "15_風險_商業_業務",
          "28_分析_商業_數據",
          "2_分析_行銷_數據",
          "23_數據_分析_報告",
          "17_產品_遊戲_分析",
          "14_sales_business_分析",
          "16_business_analysis_manage...",
          "24_team_business_work",
          "6_experience_ability_respon...",
          "4_演算法_image_camera",
          "20_深度_研究_learning",
          "21_python_經驗_學習",
          "1_學習_機器_模型",
          "13_ai_技術_應用",
          "7_ai_appier_開發",
          "29_視覺_人工_學習",
          "19_語音_語意_英語"
         ],
         "tickvals": [
          -5,
          -15,
          -25,
          -35,
          -45,
          -55,
          -65,
          -75,
          -85,
          -95,
          -105,
          -115,
          -125,
          -135,
          -145,
          -155,
          -165,
          -175,
          -185,
          -195,
          -205,
          -215,
          -225,
          -235,
          -245,
          -255,
          -265,
          -275,
          -285,
          -295,
          -305,
          -315,
          -325,
          -335,
          -345
         ],
         "type": "linear",
         "zeroline": false
        }
       }
      }
     },
     "metadata": {},
     "output_type": "display_data"
    }
   ],
   "source": [
    "topic_model.visualize_hierarchy()"
   ]
  },
  {
   "cell_type": "code",
   "execution_count": 285,
   "metadata": {},
   "outputs": [
    {
     "name": "stderr",
     "output_type": "stream",
     "text": [
      "100%|██████████| 34/34 [00:00<00:00, 552.36it/s]\n"
     ]
    }
   ],
   "source": [
    "hierarchical_topics = topic_model.hierarchical_topics(job_desc)\n"
   ]
  },
  {
   "cell_type": "code",
   "execution_count": 286,
   "metadata": {},
   "outputs": [
    {
     "data": {
      "application/vnd.plotly.v1+json": {
       "config": {
        "plotlyServerURL": "https://plot.ly"
       },
       "data": [
        {
         "hoverinfo": "text",
         "marker": {
          "color": "rgb(61,153,112)"
         },
         "mode": "lines",
         "text": [
          "oracle_資料庫_管理_維護_sql",
          "",
          "",
          "資料庫_sql_管理_效能_監控"
         ],
         "type": "scatter",
         "x": [
          0,
          0.28555416145577917,
          0.28555416145577917,
          0
         ],
         "xaxis": "x",
         "y": [
          -5,
          -5,
          -15,
          -15
         ],
         "yaxis": "y"
        },
        {
         "hoverinfo": "text",
         "marker": {
          "color": "rgb(255,65,54)"
         },
         "mode": "lines",
         "text": [
          "google_行銷_社群_領袖_網路",
          "",
          "",
          "媒體_廣告_投放_數據_產品"
         ],
         "type": "scatter",
         "x": [
          0,
          0.570233058189046,
          0.570233058189046,
          0
         ],
         "xaxis": "x",
         "y": [
          -35,
          -35,
          -45,
          -45
         ],
         "yaxis": "y"
        },
        {
         "hoverinfo": "text",
         "marker": {
          "color": "rgb(255,65,54)"
         },
         "mode": "lines",
         "text": [
          "kkday_行銷_數據_電商_旅遊",
          "",
          "",
          "數據_資料_產品_分析_解決"
         ],
         "type": "scatter",
         "x": [
          0,
          0.41149264823485454,
          0.41149264823485454,
          0
         ],
         "xaxis": "x",
         "y": [
          -65,
          -65,
          -75,
          -75
         ],
         "yaxis": "y"
        },
        {
         "hoverinfo": "text",
         "marker": {
          "color": "rgb(255,65,54)"
         },
         "mode": "lines",
         "text": [
          "and_the_to_of_with",
          "",
          "",
          "athemaster_資料_https_技術_投遞"
         ],
         "type": "scatter",
         "x": [
          0.41149264823485454,
          0.5350622685724025,
          0.5350622685724025,
          0
         ],
         "xaxis": "x",
         "y": [
          -70,
          -70,
          -85,
          -85
         ],
         "yaxis": "y"
        },
        {
         "hoverinfo": "text",
         "marker": {
          "color": "rgb(255,65,54)"
         },
         "mode": "lines",
         "text": [
          "金融_交易_風險_銀行_系統",
          "",
          "",
          "and_the_to_data_of"
         ],
         "type": "scatter",
         "x": [
          0,
          0.7095953717934669,
          0.7095953717934669,
          0.5350622685724025
         ],
         "xaxis": "x",
         "y": [
          -55,
          -55,
          -77.5,
          -77.5
         ],
         "yaxis": "y"
        },
        {
         "hoverinfo": "text",
         "marker": {
          "color": "rgb(255,65,54)"
         },
         "mode": "lines",
         "text": [
          "and_the_to_data_of",
          "",
          "",
          "信託_數位_產出_測試_改善"
         ],
         "type": "scatter",
         "x": [
          0.7095953717934669,
          0.7195081907810922,
          0.7195081907810922,
          0
         ],
         "xaxis": "x",
         "y": [
          -66.25,
          -66.25,
          -95,
          -95
         ],
         "yaxis": "y"
        },
        {
         "hoverinfo": "text",
         "marker": {
          "color": "rgb(255,65,54)"
         },
         "mode": "lines",
         "text": [
          "google_ads_and_the_facebook",
          "",
          "",
          "and_the_to_data_of"
         ],
         "type": "scatter",
         "x": [
          0.570233058189046,
          0.8012061804289804,
          0.8012061804289804,
          0.7195081907810922
         ],
         "xaxis": "x",
         "y": [
          -40,
          -40,
          -80.625,
          -80.625
         ],
         "yaxis": "y"
        },
        {
         "hoverinfo": "text",
         "marker": {
          "color": "rgb(255,65,54)"
         },
         "mode": "lines",
         "text": [
          "and_the_to_data_of",
          "",
          "",
          "醫療_照護_生物_演算法_分析"
         ],
         "type": "scatter",
         "x": [
          0.8012061804289804,
          0.8228795350683185,
          0.8228795350683185,
          0
         ],
         "xaxis": "x",
         "y": [
          -60.3125,
          -60.3125,
          -105,
          -105
         ],
         "yaxis": "y"
        },
        {
         "hoverinfo": "text",
         "marker": {
          "color": "rgb(255,65,54)"
         },
         "mode": "lines",
         "text": [
          "數位_居住_信義_創新_超乎",
          "",
          "",
          "and_the_to_data_of"
         ],
         "type": "scatter",
         "x": [
          0,
          0.8567194495713341,
          0.8567194495713341,
          0.8228795350683185
         ],
         "xaxis": "x",
         "y": [
          -25,
          -25,
          -82.65625,
          -82.65625
         ],
         "yaxis": "y"
        },
        {
         "hoverinfo": "text",
         "marker": {
          "color": "rgb(255,65,54)"
         },
         "mode": "lines",
         "text": [
          "資料_數據_平台_倉儲_開發",
          "",
          "",
          "python_經驗_資料_數據_開發"
         ],
         "type": "scatter",
         "x": [
          0,
          0.4469270047830727,
          0.4469270047830727,
          0
         ],
         "xaxis": "x",
         "y": [
          -125,
          -125,
          -135,
          -135
         ],
         "yaxis": "y"
        },
        {
         "hoverinfo": "text",
         "marker": {
          "color": "rgb(255,65,54)"
         },
         "mode": "lines",
         "text": [
          "熟悉_data_etl_python_com",
          "",
          "",
          "etl_開發_資料_監控_維護"
         ],
         "type": "scatter",
         "x": [
          0.4469270047830727,
          0.4987859777919068,
          0.4987859777919068,
          0
         ],
         "xaxis": "x",
         "y": [
          -130,
          -130,
          -145,
          -145
         ],
         "yaxis": "y"
        },
        {
         "hoverinfo": "text",
         "marker": {
          "color": "rgb(255,65,54)"
         },
         "mode": "lines",
         "text": [
          "資料_經驗_畢業_分析_學習",
          "",
          "",
          "熟悉_data_etl_python_com"
         ],
         "type": "scatter",
         "x": [
          0,
          0.5944804828217256,
          0.5944804828217256,
          0.4987859777919068
         ],
         "xaxis": "x",
         "y": [
          -115,
          -115,
          -137.5,
          -137.5
         ],
         "yaxis": "y"
        },
        {
         "hoverinfo": "text",
         "marker": {
          "color": "rgb(255,65,54)"
         },
         "mode": "lines",
         "text": [
          "熟悉_data_com_etl_python",
          "",
          "",
          "雲端_架構_cloud_服務_數據"
         ],
         "type": "scatter",
         "x": [
          0.5944804828217256,
          0.6429089409301334,
          0.6429089409301334,
          0
         ],
         "xaxis": "x",
         "y": [
          -126.25,
          -126.25,
          -155,
          -155
         ],
         "yaxis": "y"
        },
        {
         "hoverinfo": "text",
         "marker": {
          "color": "rgb(255,65,54)"
         },
         "mode": "lines",
         "text": [
          "and_熟悉_data_with_in",
          "",
          "",
          "數據_sql_excel_通路_獎金"
         ],
         "type": "scatter",
         "x": [
          0.6429089409301334,
          0.7720759080706794,
          0.7720759080706794,
          0
         ],
         "xaxis": "x",
         "y": [
          -140.625,
          -140.625,
          -165,
          -165
         ],
         "yaxis": "y"
        },
        {
         "hoverinfo": "text",
         "marker": {
          "color": "rgb(255,65,54)"
         },
         "mode": "lines",
         "text": [
          "and_the_to_with_of",
          "",
          "",
          "and_data_with_熟悉_in"
         ],
         "type": "scatter",
         "x": [
          0.8567194495713341,
          0.9178171673024378,
          0.9178171673024378,
          0.7720759080706794
         ],
         "xaxis": "x",
         "y": [
          -53.828125,
          -53.828125,
          -152.8125,
          -152.8125
         ],
         "yaxis": "y"
        },
        {
         "hoverinfo": "text",
         "marker": {
          "color": "rgb(35,205,205)"
         },
         "mode": "lines",
         "text": [
          "分析_商業_數據_決策_建議",
          "",
          "",
          "分析_行銷_數據_行為_客戶"
         ],
         "type": "scatter",
         "x": [
          0,
          0.3795653290415931,
          0.3795653290415931,
          0
         ],
         "xaxis": "x",
         "y": [
          -195,
          -195,
          -205,
          -205
         ],
         "yaxis": "y"
        },
        {
         "hoverinfo": "text",
         "marker": {
          "color": "rgb(35,205,205)"
         },
         "mode": "lines",
         "text": [
          "and_to_data_with_the",
          "",
          "",
          "數據_分析_報告_業務_資料"
         ],
         "type": "scatter",
         "x": [
          0.3795653290415931,
          0.4649017371797054,
          0.4649017371797054,
          0
         ],
         "xaxis": "x",
         "y": [
          -200,
          -200,
          -215,
          -215
         ],
         "yaxis": "y"
        },
        {
         "hoverinfo": "text",
         "marker": {
          "color": "rgb(35,205,205)"
         },
         "mode": "lines",
         "text": [
          "風險_商業_業務_屬性_分析",
          "",
          "",
          "and_to_data_with_the"
         ],
         "type": "scatter",
         "x": [
          0,
          0.5581789367112748,
          0.5581789367112748,
          0.4649017371797054
         ],
         "xaxis": "x",
         "y": [
          -185,
          -185,
          -207.5,
          -207.5
         ],
         "yaxis": "y"
        },
        {
         "hoverinfo": "text",
         "marker": {
          "color": "rgb(35,205,205)"
         },
         "mode": "lines",
         "text": [
          "and_to_with_data_the",
          "",
          "",
          "產品_遊戲_分析_觀察_數據"
         ],
         "type": "scatter",
         "x": [
          0.5581789367112748,
          0.6216206222888828,
          0.6216206222888828,
          0
         ],
         "xaxis": "x",
         "y": [
          -196.25,
          -196.25,
          -225,
          -225
         ],
         "yaxis": "y"
        },
        {
         "hoverinfo": "text",
         "marker": {
          "color": "rgb(35,205,205)"
         },
         "mode": "lines",
         "text": [
          "訪談_業務_客戶_規劃_分析",
          "",
          "",
          "and_to_with_data_the"
         ],
         "type": "scatter",
         "x": [
          0,
          0.677051695466054,
          0.677051695466054,
          0.6216206222888828
         ],
         "xaxis": "x",
         "y": [
          -175,
          -175,
          -210.625,
          -210.625
         ],
         "yaxis": "y"
        },
        {
         "hoverinfo": "text",
         "marker": {
          "color": "rgb(0,116,217)"
         },
         "mode": "lines",
         "text": [
          "and_the_to_data_with",
          "",
          "",
          "and_with_the_to_data"
         ],
         "type": "scatter",
         "x": [
          0.9178171673024378,
          1.032129847608661,
          1.032129847608661,
          0.677051695466054
         ],
         "xaxis": "x",
         "y": [
          -103.3203125,
          -103.3203125,
          -192.8125,
          -192.8125
         ],
         "yaxis": "y"
        },
        {
         "hoverinfo": "text",
         "marker": {
          "color": "rgb(0,116,217)"
         },
         "mode": "lines",
         "text": [
          "and_with_of_sql_database",
          "",
          "",
          "and_the_to_data_with"
         ],
         "type": "scatter",
         "x": [
          0.28555416145577917,
          1.1460334090388786,
          1.1460334090388786,
          1.032129847608661
         ],
         "xaxis": "x",
         "y": [
          -10,
          -10,
          -148.06640625,
          -148.06640625
         ],
         "yaxis": "y"
        },
        {
         "hoverinfo": "text",
         "marker": {
          "color": "rgb(133,20,75)"
         },
         "mode": "lines",
         "text": [
          "team_business_work_pipelines_an",
          "",
          "",
          "experience_ability_responsibilities_development_plus"
         ],
         "type": "scatter",
         "x": [
          0,
          0.37817052940334506,
          0.37817052940334506,
          0
         ],
         "xaxis": "x",
         "y": [
          -255,
          -255,
          -265,
          -265
         ],
         "yaxis": "y"
        },
        {
         "hoverinfo": "text",
         "marker": {
          "color": "rgb(133,20,75)"
         },
         "mode": "lines",
         "text": [
          "business_analysis_management_requirements_insights",
          "",
          "",
          "and_with_to_the_of"
         ],
         "type": "scatter",
         "x": [
          0,
          0.4458314324298781,
          0.4458314324298781,
          0.37817052940334506
         ],
         "xaxis": "x",
         "y": [
          -245,
          -245,
          -260,
          -260
         ],
         "yaxis": "y"
        },
        {
         "hoverinfo": "text",
         "marker": {
          "color": "rgb(133,20,75)"
         },
         "mode": "lines",
         "text": [
          "sales_business_分析_營運_業務",
          "",
          "",
          "and_with_to_the_in"
         ],
         "type": "scatter",
         "x": [
          0,
          0.7016661179402173,
          0.7016661179402173,
          0.4458314324298781
         ],
         "xaxis": "x",
         "y": [
          -235,
          -235,
          -252.5,
          -252.5
         ],
         "yaxis": "y"
        },
        {
         "hoverinfo": "text",
         "marker": {
          "color": "rgb(255,220,0)"
         },
         "mode": "lines",
         "text": [
          "演算法_image_camera_vision_算法",
          "",
          "",
          "深度_研究_learning_model_學習"
         ],
         "type": "scatter",
         "x": [
          0,
          0.5774674134612576,
          0.5774674134612576,
          0
         ],
         "xaxis": "x",
         "y": [
          -275,
          -275,
          -285,
          -285
         ],
         "yaxis": "y"
        },
        {
         "hoverinfo": "text",
         "marker": {
          "color": "rgb(255,220,0)"
         },
         "mode": "lines",
         "text": [
          "ai_技術_應用_vision_影像",
          "",
          "",
          "ai_appier_開發_model_技術"
         ],
         "type": "scatter",
         "x": [
          0,
          0.46075140555576,
          0.46075140555576,
          0
         ],
         "xaxis": "x",
         "y": [
          -315,
          -315,
          -325,
          -325
         ],
         "yaxis": "y"
        },
        {
         "hoverinfo": "text",
         "marker": {
          "color": "rgb(255,220,0)"
         },
         "mode": "lines",
         "text": [
          "學習_機器_模型_learning_machine",
          "",
          "",
          "and_to_the_with_of"
         ],
         "type": "scatter",
         "x": [
          0,
          0.492270054776683,
          0.492270054776683,
          0.46075140555576
         ],
         "xaxis": "x",
         "y": [
          -305,
          -305,
          -320,
          -320
         ],
         "yaxis": "y"
        },
        {
         "hoverinfo": "text",
         "marker": {
          "color": "rgb(255,220,0)"
         },
         "mode": "lines",
         "text": [
          "and_to_with_the_of",
          "",
          "",
          "視覺_人工_學習_電腦_挑戰"
         ],
         "type": "scatter",
         "x": [
          0.492270054776683,
          0.6109719331592683,
          0.6109719331592683,
          0
         ],
         "xaxis": "x",
         "y": [
          -312.5,
          -312.5,
          -335,
          -335
         ],
         "yaxis": "y"
        },
        {
         "hoverinfo": "text",
         "marker": {
          "color": "rgb(255,220,0)"
         },
         "mode": "lines",
         "text": [
          "python_經驗_學習_基礎_linux",
          "",
          "",
          "and_to_with_the_of"
         ],
         "type": "scatter",
         "x": [
          0,
          0.697666454740417,
          0.697666454740417,
          0.6109719331592683
         ],
         "xaxis": "x",
         "y": [
          -295,
          -295,
          -323.75,
          -323.75
         ],
         "yaxis": "y"
        },
        {
         "hoverinfo": "text",
         "marker": {
          "color": "rgb(255,220,0)"
         },
         "mode": "lines",
         "text": [
          "and_to_with_the_of",
          "",
          "",
          "語音_語意_英語_演算法_語言"
         ],
         "type": "scatter",
         "x": [
          0.697666454740417,
          0.7014291166828494,
          0.7014291166828494,
          0
         ],
         "xaxis": "x",
         "y": [
          -309.375,
          -309.375,
          -345,
          -345
         ],
         "yaxis": "y"
        },
        {
         "hoverinfo": "text",
         "marker": {
          "color": "rgb(255,220,0)"
         },
         "mode": "lines",
         "text": [
          "and_with_the_of_for",
          "",
          "",
          "and_to_with_the_of"
         ],
         "type": "scatter",
         "x": [
          0.5774674134612576,
          0.8214507974138188,
          0.8214507974138188,
          0.7014291166828494
         ],
         "xaxis": "x",
         "y": [
          -280,
          -280,
          -327.1875,
          -327.1875
         ],
         "yaxis": "y"
        },
        {
         "hoverinfo": "text",
         "marker": {
          "color": "rgb(0,116,217)"
         },
         "mode": "lines",
         "text": [
          "and_to_with_the_of",
          "",
          "",
          "and_with_to_the_of"
         ],
         "type": "scatter",
         "x": [
          0.7016661179402173,
          1.3956877497352131,
          1.3956877497352131,
          0.8214507974138188
         ],
         "xaxis": "x",
         "y": [
          -243.75,
          -243.75,
          -303.59375,
          -303.59375
         ],
         "yaxis": "y"
        },
        {
         "hoverinfo": "text",
         "marker": {
          "color": "rgb(0,116,217)"
         },
         "mode": "lines",
         "text": [
          "and_the_to_with_data",
          "",
          "",
          "and_to_with_the_of"
         ],
         "type": "scatter",
         "x": [
          1.1460334090388786,
          1.5716956585180015,
          1.5716956585180015,
          1.3956877497352131
         ],
         "xaxis": "x",
         "y": [
          -79.033203125,
          -79.033203125,
          -273.671875,
          -273.671875
         ],
         "yaxis": "y"
        },
        {
         "hoverinfo": "text",
         "hovertext": [
          "and_the_to_of_with",
          "and_the_to_data_of",
          "google_ads_and_the_facebook",
          "and_the_to_data_of",
          "熟悉_data_etl_python_com",
          "熟悉_data_com_etl_python",
          "and_熟悉_data_with_in",
          "and_the_to_with_of",
          "and_to_data_with_the",
          "and_to_with_data_the",
          "and_the_to_data_with",
          "and_with_of_sql_database",
          "and_to_with_the_of",
          "and_to_with_the_of",
          "and_with_the_of_for",
          "and_to_with_the_of",
          "and_the_to_with_data"
         ],
         "marker": {
          "color": "black"
         },
         "mode": "markers",
         "showlegend": false,
         "type": "scatter",
         "x": [
          0.41149264823485454,
          0.7095953717934669,
          0.570233058189046,
          0.8012061804289804,
          0.4469270047830727,
          0.5944804828217256,
          0.6429089409301334,
          0.8567194495713341,
          0.3795653290415931,
          0.5581789367112748,
          0.9178171673024378,
          0.28555416145577917,
          0.492270054776683,
          0.697666454740417,
          0.5774674134612576,
          0.7016661179402173,
          1.1460334090388786
         ],
         "y": [
          -70,
          -66.25,
          -40,
          -60.3125,
          -130,
          -126.25,
          -140.625,
          -53.828125,
          -200,
          -196.25,
          -103.3203125,
          -10,
          -312.5,
          -309.375,
          -280,
          -243.75,
          -79.033203125
         ]
        },
        {
         "hoverinfo": "text",
         "hovertext": [
          "and_the_to_data_of",
          "and_the_to_data_of",
          "and_the_to_data_of",
          "熟悉_data_etl_python_com",
          "and_data_with_熟悉_in",
          "and_to_data_with_the",
          "and_to_with_data_the",
          "and_with_the_to_data",
          "and_the_to_data_with",
          "and_with_to_the_of",
          "and_with_to_the_in",
          "and_to_the_with_of",
          "and_to_with_the_of",
          "and_to_with_the_of",
          "and_with_to_the_of",
          "and_to_with_the_of"
         ],
         "marker": {
          "color": "black"
         },
         "mode": "markers",
         "showlegend": false,
         "type": "scatter",
         "x": [
          0.5350622685724025,
          0.7195081907810922,
          0.8228795350683185,
          0.4987859777919068,
          0.7720759080706794,
          0.4649017371797054,
          0.6216206222888828,
          0.677051695466054,
          1.032129847608661,
          0.37817052940334506,
          0.4458314324298781,
          0.46075140555576,
          0.6109719331592683,
          0.7014291166828494,
          0.8214507974138188,
          1.3956877497352131
         ],
         "y": [
          -77.5,
          -80.625,
          -82.65625,
          -137.5,
          -152.8125,
          -207.5,
          -210.625,
          -192.8125,
          -148.06640625,
          -260,
          -252.5,
          -320,
          -323.75,
          -327.1875,
          -303.59375,
          -273.671875
         ]
        }
       ],
       "layout": {
        "autosize": false,
        "height": 725,
        "hoverlabel": {
         "bgcolor": "white",
         "font": {
          "family": "Rockwell",
          "size": 16
         }
        },
        "hovermode": "closest",
        "plot_bgcolor": "#ECEFF1",
        "showlegend": false,
        "template": {
         "data": {
          "bar": [
           {
            "error_x": {
             "color": "#2a3f5f"
            },
            "error_y": {
             "color": "#2a3f5f"
            },
            "marker": {
             "line": {
              "color": "white",
              "width": 0.5
             },
             "pattern": {
              "fillmode": "overlay",
              "size": 10,
              "solidity": 0.2
             }
            },
            "type": "bar"
           }
          ],
          "barpolar": [
           {
            "marker": {
             "line": {
              "color": "white",
              "width": 0.5
             },
             "pattern": {
              "fillmode": "overlay",
              "size": 10,
              "solidity": 0.2
             }
            },
            "type": "barpolar"
           }
          ],
          "carpet": [
           {
            "aaxis": {
             "endlinecolor": "#2a3f5f",
             "gridcolor": "#C8D4E3",
             "linecolor": "#C8D4E3",
             "minorgridcolor": "#C8D4E3",
             "startlinecolor": "#2a3f5f"
            },
            "baxis": {
             "endlinecolor": "#2a3f5f",
             "gridcolor": "#C8D4E3",
             "linecolor": "#C8D4E3",
             "minorgridcolor": "#C8D4E3",
             "startlinecolor": "#2a3f5f"
            },
            "type": "carpet"
           }
          ],
          "choropleth": [
           {
            "colorbar": {
             "outlinewidth": 0,
             "ticks": ""
            },
            "type": "choropleth"
           }
          ],
          "contour": [
           {
            "colorbar": {
             "outlinewidth": 0,
             "ticks": ""
            },
            "colorscale": [
             [
              0,
              "#0d0887"
             ],
             [
              0.1111111111111111,
              "#46039f"
             ],
             [
              0.2222222222222222,
              "#7201a8"
             ],
             [
              0.3333333333333333,
              "#9c179e"
             ],
             [
              0.4444444444444444,
              "#bd3786"
             ],
             [
              0.5555555555555556,
              "#d8576b"
             ],
             [
              0.6666666666666666,
              "#ed7953"
             ],
             [
              0.7777777777777778,
              "#fb9f3a"
             ],
             [
              0.8888888888888888,
              "#fdca26"
             ],
             [
              1,
              "#f0f921"
             ]
            ],
            "type": "contour"
           }
          ],
          "contourcarpet": [
           {
            "colorbar": {
             "outlinewidth": 0,
             "ticks": ""
            },
            "type": "contourcarpet"
           }
          ],
          "heatmap": [
           {
            "colorbar": {
             "outlinewidth": 0,
             "ticks": ""
            },
            "colorscale": [
             [
              0,
              "#0d0887"
             ],
             [
              0.1111111111111111,
              "#46039f"
             ],
             [
              0.2222222222222222,
              "#7201a8"
             ],
             [
              0.3333333333333333,
              "#9c179e"
             ],
             [
              0.4444444444444444,
              "#bd3786"
             ],
             [
              0.5555555555555556,
              "#d8576b"
             ],
             [
              0.6666666666666666,
              "#ed7953"
             ],
             [
              0.7777777777777778,
              "#fb9f3a"
             ],
             [
              0.8888888888888888,
              "#fdca26"
             ],
             [
              1,
              "#f0f921"
             ]
            ],
            "type": "heatmap"
           }
          ],
          "heatmapgl": [
           {
            "colorbar": {
             "outlinewidth": 0,
             "ticks": ""
            },
            "colorscale": [
             [
              0,
              "#0d0887"
             ],
             [
              0.1111111111111111,
              "#46039f"
             ],
             [
              0.2222222222222222,
              "#7201a8"
             ],
             [
              0.3333333333333333,
              "#9c179e"
             ],
             [
              0.4444444444444444,
              "#bd3786"
             ],
             [
              0.5555555555555556,
              "#d8576b"
             ],
             [
              0.6666666666666666,
              "#ed7953"
             ],
             [
              0.7777777777777778,
              "#fb9f3a"
             ],
             [
              0.8888888888888888,
              "#fdca26"
             ],
             [
              1,
              "#f0f921"
             ]
            ],
            "type": "heatmapgl"
           }
          ],
          "histogram": [
           {
            "marker": {
             "pattern": {
              "fillmode": "overlay",
              "size": 10,
              "solidity": 0.2
             }
            },
            "type": "histogram"
           }
          ],
          "histogram2d": [
           {
            "colorbar": {
             "outlinewidth": 0,
             "ticks": ""
            },
            "colorscale": [
             [
              0,
              "#0d0887"
             ],
             [
              0.1111111111111111,
              "#46039f"
             ],
             [
              0.2222222222222222,
              "#7201a8"
             ],
             [
              0.3333333333333333,
              "#9c179e"
             ],
             [
              0.4444444444444444,
              "#bd3786"
             ],
             [
              0.5555555555555556,
              "#d8576b"
             ],
             [
              0.6666666666666666,
              "#ed7953"
             ],
             [
              0.7777777777777778,
              "#fb9f3a"
             ],
             [
              0.8888888888888888,
              "#fdca26"
             ],
             [
              1,
              "#f0f921"
             ]
            ],
            "type": "histogram2d"
           }
          ],
          "histogram2dcontour": [
           {
            "colorbar": {
             "outlinewidth": 0,
             "ticks": ""
            },
            "colorscale": [
             [
              0,
              "#0d0887"
             ],
             [
              0.1111111111111111,
              "#46039f"
             ],
             [
              0.2222222222222222,
              "#7201a8"
             ],
             [
              0.3333333333333333,
              "#9c179e"
             ],
             [
              0.4444444444444444,
              "#bd3786"
             ],
             [
              0.5555555555555556,
              "#d8576b"
             ],
             [
              0.6666666666666666,
              "#ed7953"
             ],
             [
              0.7777777777777778,
              "#fb9f3a"
             ],
             [
              0.8888888888888888,
              "#fdca26"
             ],
             [
              1,
              "#f0f921"
             ]
            ],
            "type": "histogram2dcontour"
           }
          ],
          "mesh3d": [
           {
            "colorbar": {
             "outlinewidth": 0,
             "ticks": ""
            },
            "type": "mesh3d"
           }
          ],
          "parcoords": [
           {
            "line": {
             "colorbar": {
              "outlinewidth": 0,
              "ticks": ""
             }
            },
            "type": "parcoords"
           }
          ],
          "pie": [
           {
            "automargin": true,
            "type": "pie"
           }
          ],
          "scatter": [
           {
            "fillpattern": {
             "fillmode": "overlay",
             "size": 10,
             "solidity": 0.2
            },
            "type": "scatter"
           }
          ],
          "scatter3d": [
           {
            "line": {
             "colorbar": {
              "outlinewidth": 0,
              "ticks": ""
             }
            },
            "marker": {
             "colorbar": {
              "outlinewidth": 0,
              "ticks": ""
             }
            },
            "type": "scatter3d"
           }
          ],
          "scattercarpet": [
           {
            "marker": {
             "colorbar": {
              "outlinewidth": 0,
              "ticks": ""
             }
            },
            "type": "scattercarpet"
           }
          ],
          "scattergeo": [
           {
            "marker": {
             "colorbar": {
              "outlinewidth": 0,
              "ticks": ""
             }
            },
            "type": "scattergeo"
           }
          ],
          "scattergl": [
           {
            "marker": {
             "colorbar": {
              "outlinewidth": 0,
              "ticks": ""
             }
            },
            "type": "scattergl"
           }
          ],
          "scattermapbox": [
           {
            "marker": {
             "colorbar": {
              "outlinewidth": 0,
              "ticks": ""
             }
            },
            "type": "scattermapbox"
           }
          ],
          "scatterpolar": [
           {
            "marker": {
             "colorbar": {
              "outlinewidth": 0,
              "ticks": ""
             }
            },
            "type": "scatterpolar"
           }
          ],
          "scatterpolargl": [
           {
            "marker": {
             "colorbar": {
              "outlinewidth": 0,
              "ticks": ""
             }
            },
            "type": "scatterpolargl"
           }
          ],
          "scatterternary": [
           {
            "marker": {
             "colorbar": {
              "outlinewidth": 0,
              "ticks": ""
             }
            },
            "type": "scatterternary"
           }
          ],
          "surface": [
           {
            "colorbar": {
             "outlinewidth": 0,
             "ticks": ""
            },
            "colorscale": [
             [
              0,
              "#0d0887"
             ],
             [
              0.1111111111111111,
              "#46039f"
             ],
             [
              0.2222222222222222,
              "#7201a8"
             ],
             [
              0.3333333333333333,
              "#9c179e"
             ],
             [
              0.4444444444444444,
              "#bd3786"
             ],
             [
              0.5555555555555556,
              "#d8576b"
             ],
             [
              0.6666666666666666,
              "#ed7953"
             ],
             [
              0.7777777777777778,
              "#fb9f3a"
             ],
             [
              0.8888888888888888,
              "#fdca26"
             ],
             [
              1,
              "#f0f921"
             ]
            ],
            "type": "surface"
           }
          ],
          "table": [
           {
            "cells": {
             "fill": {
              "color": "#EBF0F8"
             },
             "line": {
              "color": "white"
             }
            },
            "header": {
             "fill": {
              "color": "#C8D4E3"
             },
             "line": {
              "color": "white"
             }
            },
            "type": "table"
           }
          ]
         },
         "layout": {
          "annotationdefaults": {
           "arrowcolor": "#2a3f5f",
           "arrowhead": 0,
           "arrowwidth": 1
          },
          "autotypenumbers": "strict",
          "coloraxis": {
           "colorbar": {
            "outlinewidth": 0,
            "ticks": ""
           }
          },
          "colorscale": {
           "diverging": [
            [
             0,
             "#8e0152"
            ],
            [
             0.1,
             "#c51b7d"
            ],
            [
             0.2,
             "#de77ae"
            ],
            [
             0.3,
             "#f1b6da"
            ],
            [
             0.4,
             "#fde0ef"
            ],
            [
             0.5,
             "#f7f7f7"
            ],
            [
             0.6,
             "#e6f5d0"
            ],
            [
             0.7,
             "#b8e186"
            ],
            [
             0.8,
             "#7fbc41"
            ],
            [
             0.9,
             "#4d9221"
            ],
            [
             1,
             "#276419"
            ]
           ],
           "sequential": [
            [
             0,
             "#0d0887"
            ],
            [
             0.1111111111111111,
             "#46039f"
            ],
            [
             0.2222222222222222,
             "#7201a8"
            ],
            [
             0.3333333333333333,
             "#9c179e"
            ],
            [
             0.4444444444444444,
             "#bd3786"
            ],
            [
             0.5555555555555556,
             "#d8576b"
            ],
            [
             0.6666666666666666,
             "#ed7953"
            ],
            [
             0.7777777777777778,
             "#fb9f3a"
            ],
            [
             0.8888888888888888,
             "#fdca26"
            ],
            [
             1,
             "#f0f921"
            ]
           ],
           "sequentialminus": [
            [
             0,
             "#0d0887"
            ],
            [
             0.1111111111111111,
             "#46039f"
            ],
            [
             0.2222222222222222,
             "#7201a8"
            ],
            [
             0.3333333333333333,
             "#9c179e"
            ],
            [
             0.4444444444444444,
             "#bd3786"
            ],
            [
             0.5555555555555556,
             "#d8576b"
            ],
            [
             0.6666666666666666,
             "#ed7953"
            ],
            [
             0.7777777777777778,
             "#fb9f3a"
            ],
            [
             0.8888888888888888,
             "#fdca26"
            ],
            [
             1,
             "#f0f921"
            ]
           ]
          },
          "colorway": [
           "#636efa",
           "#EF553B",
           "#00cc96",
           "#ab63fa",
           "#FFA15A",
           "#19d3f3",
           "#FF6692",
           "#B6E880",
           "#FF97FF",
           "#FECB52"
          ],
          "font": {
           "color": "#2a3f5f"
          },
          "geo": {
           "bgcolor": "white",
           "lakecolor": "white",
           "landcolor": "white",
           "showlakes": true,
           "showland": true,
           "subunitcolor": "#C8D4E3"
          },
          "hoverlabel": {
           "align": "left"
          },
          "hovermode": "closest",
          "mapbox": {
           "style": "light"
          },
          "paper_bgcolor": "white",
          "plot_bgcolor": "white",
          "polar": {
           "angularaxis": {
            "gridcolor": "#EBF0F8",
            "linecolor": "#EBF0F8",
            "ticks": ""
           },
           "bgcolor": "white",
           "radialaxis": {
            "gridcolor": "#EBF0F8",
            "linecolor": "#EBF0F8",
            "ticks": ""
           }
          },
          "scene": {
           "xaxis": {
            "backgroundcolor": "white",
            "gridcolor": "#DFE8F3",
            "gridwidth": 2,
            "linecolor": "#EBF0F8",
            "showbackground": true,
            "ticks": "",
            "zerolinecolor": "#EBF0F8"
           },
           "yaxis": {
            "backgroundcolor": "white",
            "gridcolor": "#DFE8F3",
            "gridwidth": 2,
            "linecolor": "#EBF0F8",
            "showbackground": true,
            "ticks": "",
            "zerolinecolor": "#EBF0F8"
           },
           "zaxis": {
            "backgroundcolor": "white",
            "gridcolor": "#DFE8F3",
            "gridwidth": 2,
            "linecolor": "#EBF0F8",
            "showbackground": true,
            "ticks": "",
            "zerolinecolor": "#EBF0F8"
           }
          },
          "shapedefaults": {
           "line": {
            "color": "#2a3f5f"
           }
          },
          "ternary": {
           "aaxis": {
            "gridcolor": "#DFE8F3",
            "linecolor": "#A2B1C6",
            "ticks": ""
           },
           "baxis": {
            "gridcolor": "#DFE8F3",
            "linecolor": "#A2B1C6",
            "ticks": ""
           },
           "bgcolor": "white",
           "caxis": {
            "gridcolor": "#DFE8F3",
            "linecolor": "#A2B1C6",
            "ticks": ""
           }
          },
          "title": {
           "x": 0.05
          },
          "xaxis": {
           "automargin": true,
           "gridcolor": "#EBF0F8",
           "linecolor": "#EBF0F8",
           "ticks": "",
           "title": {
            "standoff": 15
           },
           "zerolinecolor": "#EBF0F8",
           "zerolinewidth": 2
          },
          "yaxis": {
           "automargin": true,
           "gridcolor": "#EBF0F8",
           "linecolor": "#EBF0F8",
           "ticks": "",
           "title": {
            "standoff": 15
           },
           "zerolinecolor": "#EBF0F8",
           "zerolinewidth": 2
          }
         }
        },
        "title": {
         "font": {
          "color": "Black",
          "size": 22
         },
         "text": "<b>Hierarchical Clustering</b>",
         "x": 0.5,
         "xanchor": "center",
         "yanchor": "top"
        },
        "width": 1000,
        "xaxis": {
         "mirror": "allticks",
         "rangemode": "tozero",
         "showgrid": false,
         "showline": true,
         "showticklabels": true,
         "ticks": "outside",
         "type": "linear",
         "zeroline": false
        },
        "yaxis": {
         "mirror": "allticks",
         "range": [
          -350,
          0
         ],
         "rangemode": "tozero",
         "showgrid": false,
         "showline": true,
         "showticklabels": true,
         "tickmode": "array",
         "ticks": "outside",
         "ticktext": [
          "11_oracle_資料庫_管理",
          "0_資料庫_sql_管理",
          "34_數位_居住_信義",
          "33_google_行銷_社群",
          "26_媒體_廣告_投放",
          "22_金融_交易_風險",
          "9_kkday_行銷_數據",
          "10_數據_資料_產品",
          "12_athemaster_資料_https",
          "31_信託_數位_產出",
          "32_醫療_照護_生物",
          "8_資料_經驗_畢業",
          "3_資料_數據_平台",
          "5_python_經驗_資料",
          "25_etl_開發_資料",
          "18_雲端_架構_cloud",
          "27_數據_sql_excel",
          "30_訪談_業務_客戶",
          "15_風險_商業_業務",
          "28_分析_商業_數據",
          "2_分析_行銷_數據",
          "23_數據_分析_報告",
          "17_產品_遊戲_分析",
          "14_sales_business_分析",
          "16_business_analysis_manage...",
          "24_team_business_work",
          "6_experience_ability_respon...",
          "4_演算法_image_camera",
          "20_深度_研究_learning",
          "21_python_經驗_學習",
          "1_學習_機器_模型",
          "13_ai_技術_應用",
          "7_ai_appier_開發",
          "29_視覺_人工_學習",
          "19_語音_語意_英語"
         ],
         "tickvals": [
          -5,
          -15,
          -25,
          -35,
          -45,
          -55,
          -65,
          -75,
          -85,
          -95,
          -105,
          -115,
          -125,
          -135,
          -145,
          -155,
          -165,
          -175,
          -185,
          -195,
          -205,
          -215,
          -225,
          -235,
          -245,
          -255,
          -265,
          -275,
          -285,
          -295,
          -305,
          -315,
          -325,
          -335,
          -345
         ],
         "type": "linear",
         "zeroline": false
        }
       }
      }
     },
     "metadata": {},
     "output_type": "display_data"
    }
   ],
   "source": [
    "topic_model.visualize_hierarchy(hierarchical_topics=hierarchical_topics)\n"
   ]
  },
  {
   "cell_type": "code",
   "execution_count": 288,
   "metadata": {},
   "outputs": [
    {
     "name": "stdout",
     "output_type": "stream",
     "text": [
      ".\n",
      "├─and_the_to_with_data\n",
      "│    ├─and_with_of_sql_database\n",
      "│    │    ├─■──oracle_資料庫_管理_維護_sql ── Topic: 11\n",
      "│    │    └─■──資料庫_sql_管理_效能_監控 ── Topic: 0\n",
      "│    └─and_the_to_data_with\n",
      "│         ├─and_the_to_data_with\n",
      "│         │    ├─and_the_to_with_of\n",
      "│         │    │    ├─■──數位_居住_信義_創新_超乎 ── Topic: 34\n",
      "│         │    │    └─and_the_to_data_of\n",
      "│         │    │         ├─and_the_to_data_of\n",
      "│         │    │         │    ├─google_ads_and_the_facebook\n",
      "│         │    │         │    │    ├─■──google_行銷_社群_領袖_網路 ── Topic: 33\n",
      "│         │    │         │    │    └─■──媒體_廣告_投放_數據_產品 ── Topic: 26\n",
      "│         │    │         │    └─and_the_to_data_of\n",
      "│         │    │         │         ├─and_the_to_data_of\n",
      "│         │    │         │         │    ├─■──金融_交易_風險_銀行_系統 ── Topic: 22\n",
      "│         │    │         │         │    └─and_the_to_data_of\n",
      "│         │    │         │         │         ├─and_the_to_of_with\n",
      "│         │    │         │         │         │    ├─■──kkday_行銷_數據_電商_旅遊 ── Topic: 9\n",
      "│         │    │         │         │         │    └─■──數據_資料_產品_分析_解決 ── Topic: 10\n",
      "│         │    │         │         │         └─■──athemaster_資料_https_技術_投遞 ── Topic: 12\n",
      "│         │    │         │         └─■──信託_數位_產出_測試_改善 ── Topic: 31\n",
      "│         │    │         └─■──醫療_照護_生物_演算法_分析 ── Topic: 32\n",
      "│         │    └─and_data_with_熟悉_in\n",
      "│         │         ├─and_熟悉_data_with_in\n",
      "│         │         │    ├─熟悉_data_com_etl_python\n",
      "│         │         │    │    ├─■──資料_經驗_畢業_分析_學習 ── Topic: 8\n",
      "│         │         │    │    └─熟悉_data_etl_python_com\n",
      "│         │         │    │         ├─熟悉_data_etl_python_com\n",
      "│         │         │    │         │    ├─■──資料_數據_平台_倉儲_開發 ── Topic: 3\n",
      "│         │         │    │         │    └─■──python_經驗_資料_數據_開發 ── Topic: 5\n",
      "│         │         │    │         └─■──etl_開發_資料_監控_維護 ── Topic: 25\n",
      "│         │         │    └─■──雲端_架構_cloud_服務_數據 ── Topic: 18\n",
      "│         │         └─■──數據_sql_excel_通路_獎金 ── Topic: 27\n",
      "│         └─and_with_the_to_data\n",
      "│              ├─■──訪談_業務_客戶_規劃_分析 ── Topic: 30\n",
      "│              └─and_to_with_data_the\n",
      "│                   ├─and_to_with_data_the\n",
      "│                   │    ├─■──風險_商業_業務_屬性_分析 ── Topic: 15\n",
      "│                   │    └─and_to_data_with_the\n",
      "│                   │         ├─and_to_data_with_the\n",
      "│                   │         │    ├─■──分析_商業_數據_決策_建議 ── Topic: 28\n",
      "│                   │         │    └─■──分析_行銷_數據_行為_客戶 ── Topic: 2\n",
      "│                   │         └─■──數據_分析_報告_業務_資料 ── Topic: 23\n",
      "│                   └─■──產品_遊戲_分析_觀察_數據 ── Topic: 17\n",
      "└─and_to_with_the_of\n",
      "     ├─and_to_with_the_of\n",
      "     │    ├─■──sales_business_分析_營運_業務 ── Topic: 14\n",
      "     │    └─and_with_to_the_in\n",
      "     │         ├─■──business_analysis_management_requirements_insights ── Topic: 16\n",
      "     │         └─and_with_to_the_of\n",
      "     │              ├─■──team_business_work_pipelines_an ── Topic: 24\n",
      "     │              └─■──experience_ability_responsibilities_development_plus ── Topic: 6\n",
      "     └─and_with_to_the_of\n",
      "          ├─and_with_the_of_for\n",
      "          │    ├─■──演算法_image_camera_vision_算法 ── Topic: 4\n",
      "          │    └─■──深度_研究_learning_model_學習 ── Topic: 20\n",
      "          └─and_to_with_the_of\n",
      "               ├─and_to_with_the_of\n",
      "               │    ├─■──python_經驗_學習_基礎_linux ── Topic: 21\n",
      "               │    └─and_to_with_the_of\n",
      "               │         ├─and_to_with_the_of\n",
      "               │         │    ├─■──學習_機器_模型_learning_machine ── Topic: 1\n",
      "               │         │    └─and_to_the_with_of\n",
      "               │         │         ├─■──ai_技術_應用_vision_影像 ── Topic: 13\n",
      "               │         │         └─■──ai_appier_開發_model_技術 ── Topic: 7\n",
      "               │         └─■──視覺_人工_學習_電腦_挑戰 ── Topic: 29\n",
      "               └─■──語音_語意_英語_演算法_語言 ── Topic: 19\n",
      "\n"
     ]
    }
   ],
   "source": [
    "print(topic_model.get_topic_tree(hierarchical_topics))"
   ]
  },
  {
   "cell_type": "code",
   "execution_count": null,
   "metadata": {},
   "outputs": [],
   "source": []
  }
 ],
 "metadata": {
  "kernelspec": {
   "display_name": "py_3_11",
   "language": "python",
   "name": "python3"
  },
  "language_info": {
   "codemirror_mode": {
    "name": "ipython",
    "version": 3
   },
   "file_extension": ".py",
   "mimetype": "text/x-python",
   "name": "python",
   "nbconvert_exporter": "python",
   "pygments_lexer": "ipython3",
   "version": "3.11.6"
  }
 },
 "nbformat": 4,
 "nbformat_minor": 2
}
