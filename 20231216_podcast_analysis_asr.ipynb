{
  "nbformat": 4,
  "nbformat_minor": 0,
  "metadata": {
    "colab": {
      "provenance": [],
      "machine_shape": "hm",
      "gpuType": "A100",
      "authorship_tag": "ABX9TyN7BAYpAMr8H49n+2UXxrn5",
      "include_colab_link": true
    },
    "kernelspec": {
      "name": "python3",
      "display_name": "Python 3"
    },
    "language_info": {
      "name": "python"
    },
    "accelerator": "GPU"
  },
  "cells": [
    {
      "cell_type": "markdown",
      "metadata": {
        "id": "view-in-github",
        "colab_type": "text"
      },
      "source": [
        "<a href=\"https://colab.research.google.com/github/seimwiwa/playground_python/blob/main/20231216_podcast_analysis_asr.ipynb\" target=\"_parent\"><img src=\"https://colab.research.google.com/assets/colab-badge.svg\" alt=\"Open In Colab\"/></a>"
      ]
    },
    {
      "cell_type": "code",
      "source": [
        "#@title Install\n",
        "%%capture\n",
        "\n",
        "!pip install pydub"
      ],
      "metadata": {
        "id": "hqWQXegCwToO"
      },
      "execution_count": 3,
      "outputs": []
    },
    {
      "cell_type": "code",
      "execution_count": 29,
      "metadata": {
        "id": "Iy-QS7ekvmEq"
      },
      "outputs": [],
      "source": [
        "#@title Import\n",
        "%%capture\n",
        "\n",
        "import torch, json, os\n",
        "from google.colab import drive\n",
        "from pydub import AudioSegment\n",
        "from transformers import AutoModelForSpeechSeq2Seq, AutoProcessor, pipeline\n",
        "import pandas as pd"
      ]
    },
    {
      "cell_type": "code",
      "source": [
        "#@title Conntect Google Drive\n",
        "drive.mount(\"/content/drive\")"
      ],
      "metadata": {
        "colab": {
          "base_uri": "https://localhost:8080/"
        },
        "id": "iPNp2C46vrR7",
        "outputId": "e67edf4b-eb27-4a8d-df9b-720404de66f1"
      },
      "execution_count": 5,
      "outputs": [
        {
          "output_type": "stream",
          "name": "stdout",
          "text": [
            "Mounted at /content/drive\n"
          ]
        }
      ]
    },
    {
      "cell_type": "code",
      "source": [
        "#@title List Aplited Audio\n",
        "path = \"/content/drive/MyDrive/(07) Colab/20231216_podcast_analysis/splited_audio/\"\n",
        "files = os.listdir(path)"
      ],
      "metadata": {
        "id": "r3eYtFB1xXc1"
      },
      "execution_count": 16,
      "outputs": []
    },
    {
      "cell_type": "code",
      "source": [
        "#@title Prepare ASR Model\n",
        "%%capture\n",
        "\n",
        "name = \"openai/whisper-large-v3\"\n",
        "torch_dtype = torch.float16\n",
        "device = \"cuda:0\"\n",
        "\n",
        "model = AutoModelForSpeechSeq2Seq.from_pretrained(name, torch_dtype = torch_dtype)\n",
        "model.to(device)\n",
        "\n",
        "processor = AutoProcessor.from_pretrained(name)\n",
        "\n",
        "pipe = pipeline(\"automatic-speech-recognition\", model = model, tokenizer = processor.tokenizer,\n",
        "                feature_extractor = processor.feature_extractor, max_new_tokens = 128, chunk_length_s = 30,\n",
        "                batch_size = 16, return_timestamps = False, torch_dtype = torch_dtype, device = device)"
      ],
      "metadata": {
        "id": "zg3GP2RUvx4m"
      },
      "execution_count": 6,
      "outputs": []
    },
    {
      "cell_type": "code",
      "source": [
        "#@title Get Scripts\n",
        "%%capture\n",
        "\n",
        "scripts = [pipe(path + i, generate_kwargs = {\"language\": \"english\"}) for i in files]"
      ],
      "metadata": {
        "id": "9eHfHgMjw_si"
      },
      "execution_count": 23,
      "outputs": []
    },
    {
      "cell_type": "code",
      "source": [
        "#@title Clean up the scripts\n",
        "data = pd.DataFrame({\"file_name\": files, \"text\": [i[\"text\"] for i in scripts]})\n",
        "data[\"id\"] = data.file_name.str.replace(\".mp3\", \"\").astype(int)\n",
        "data = data.sort_values([\"id\"]).drop([\"file_name\"], axis = 1).filter([\"id\", \"text\"]).reset_index(drop = True)"
      ],
      "metadata": {
        "colab": {
          "base_uri": "https://localhost:8080/"
        },
        "id": "mit1qUq8z3Ml",
        "outputId": "166076be-ccd1-49c7-f07d-95f36417586c"
      },
      "execution_count": 48,
      "outputs": [
        {
          "output_type": "stream",
          "name": "stderr",
          "text": [
            "<ipython-input-48-a82ff96a7abb>:2: FutureWarning: The default value of regex will change from True to False in a future version.\n",
            "  data[\"id\"] = data.file_name.str.replace(\".mp3\", \"\").astype(int)\n"
          ]
        }
      ]
    },
    {
      "cell_type": "code",
      "source": [
        "#@title Save The Scripts\n",
        "data.to_csv(\"/content/drive/MyDrive/(07) Colab/20231216_podcast_analysis/scripts.csv\", index=False)"
      ],
      "metadata": {
        "id": "_MuXqeZh0gn1"
      },
      "execution_count": 51,
      "outputs": []
    }
  ]
}