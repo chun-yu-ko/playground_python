{
 "cells": [
  {
   "cell_type": "markdown",
   "metadata": {},
   "source": [
    "# Part 4: Catboost\n",
    "\n",
    " - Objective: Analyze changes in Data Science and Analytics (DSA) job content over the past 10 months in Taipei.\n",
    "\n",
    " - Data Collection: Compilation of job data in Taipei, focusing on positions related to Data Science and Analytics.\n",
    "\n",
    " - Data Scope: The dataset includes some positions that may not be directly relevant to DSA.\n",
    "\n",
    " - Initial Step: Filter out job postings that are not pertinent to DSA.\n",
    " \n",
    " - Analysis Method: Employ dynamic topic modeling to identify shifts in the content of DSA job descriptions during the 10-month period."
   ]
  },
  {
   "cell_type": "code",
   "execution_count": 1,
   "metadata": {},
   "outputs": [],
   "source": [
    "import utils, json\n",
    "import pandas as pd\n",
    "import numpy as np\n",
    "from catboost import CatBoostClassifier\n",
    "from sklearn.metrics import confusion_matrix, roc_curve\n",
    "from sklearn.model_selection import train_test_split, GridSearchCV\n",
    "from sklearn.utils import shuffle"
   ]
  },
  {
   "cell_type": "code",
   "execution_count": 2,
   "metadata": {},
   "outputs": [],
   "source": [
    "job = pd.read_csv(\"data/20231119_job_market_job.csv\")\n",
    "job_name_embeddings = json.load(open(\"data/20231119_job_market_job_name_embeddings.json\", \"r\"))"
   ]
  },
  {
   "cell_type": "code",
   "execution_count": 3,
   "metadata": {},
   "outputs": [],
   "source": [
    "keywords = [\"數據科學\", \"資料科學\", \"數據工程\", \"資料工程\", \"資料庫\", \"演算法\", \"機器學習\", \"人工智慧\", \"人工智能\", \"數據分析\", \"自然語言\", \"電腦視覺\", \"資料分析\", \"商業分析\", \"產品分析\", \"data science\", \"data engineering\", \"database\", \"algorithm\", \"machine learning\", \"artificial intelligence\", \"natural language\", \"computer vision\", \"data analysis\", \"business analysis\", \"product analysis\"]\n",
    "job[\"job_name\"] = job[\"job_name\"].str.lower()\n",
    "job[\"contain_keyword\"] = job[\"job_name\"].str.contains(\"|\".join(keywords))"
   ]
  },
  {
   "cell_type": "code",
   "execution_count": 4,
   "metadata": {},
   "outputs": [],
   "source": [
    "x = job_name_embeddings\n",
    "y = job[\"contain_keyword\"].astype(int).tolist()"
   ]
  },
  {
   "cell_type": "markdown",
   "metadata": {},
   "source": [
    "# Randomized Search in Colab"
   ]
  },
  {
   "cell_type": "code",
   "execution_count": 5,
   "metadata": {},
   "outputs": [],
   "source": [
    "# x_train, x_test, y_train, y_test = train_test_split(x, y, test_size = 0.3, random_state = 69)\n",
    "\n",
    "# param_grid = {\n",
    "#     \"iterations\": [10, 30, 50, 70, 90, 100, 300, 500, 700, 900, 1000, 3000, 5000],\n",
    "#     \"learning_rate\": [0.3, 0.1, 0.03, 0.01, 0.003, 0.001, 0.0003, 0.0001],\n",
    "#     \"subsample\": [0.3, 0.5, 0.7],\n",
    "#     \"depth\": [3, 5, 7, 9, 11],\n",
    "#     \"l2_leaf_reg\": [0, 5, 10, 15, 20],\n",
    "#     \"min_data_in_leaf\": [10, 30, 50, 70, 90],\n",
    "#     \"random_strength\": [0.3, 0.1, 0.03, 0.01, 0.003, 0.001, 0.0003, 0.0001],\n",
    "#     \"boosting_type\": [\"Plain\"],\n",
    "#     \"bootstrap_type\": [\"Bernoulli\"],\n",
    "#     \"one_hot_max_size\": [255],\n",
    "#     \"border_count\": [32]\n",
    "# }\n",
    "\n",
    "# catboost_model = CatBoostClassifier(task_type = \"GPU\", loss_function = \"Logloss\", auto_class_weights = \"SqrtBalanced\", verbose = 500)\n",
    "# search_result = catboost_model.randomized_search(param_distributions = param_grid, X = x_train, y = y_train, cv = 5, n_iter = 300, search_by_train_test_split = True, verbose = False)\n",
    "\n",
    "# print(search_result[\"params\"])\n",
    "# final_model = CatBoostClassifier(**best_params, task_type = \"GPU\", loss_function = \"Logloss\", auto_class_weights = \"SqrtBalanced\", verbose = 0)\n",
    "# final_model.fit(x_train, y_train)\n",
    "\n",
    "# final_model.save_model(\"20231119_job_type_classifier\")"
   ]
  },
  {
   "cell_type": "markdown",
   "metadata": {},
   "source": [
    "# Final Model"
   ]
  },
  {
   "cell_type": "markdown",
   "metadata": {},
   "source": [
    " - Accuracy, Sensitivity, and Specificity all exceed 95%.\n",
    "\n",
    " - A very high Sensitivity could indicate that the model primarily identifies jobs through direct keyword searches.\n",
    " \n",
    " - In such a case, it might overlook related jobs that cannot be identified through straightforward keyword searches."
   ]
  },
  {
   "cell_type": "code",
   "execution_count": 6,
   "metadata": {},
   "outputs": [],
   "source": [
    "model = CatBoostClassifier()\n",
    "model.load_model(\"20231119_job_type_classifier\")\n",
    "y_pred = model.predict(x)"
   ]
  },
  {
   "cell_type": "code",
   "execution_count": 7,
   "metadata": {},
   "outputs": [
    {
     "name": "stdout",
     "output_type": "stream",
     "text": [
      "Evaluation Metrics:\n",
      "Confusion Matrix:\n",
      "                 Predicted Negative  Predicted Positive\n",
      "Actual Negative               26832                  82\n",
      "Actual Positive                  79                1784\n",
      "--------------------\n",
      "Accuracy:\n",
      "0.9944052541960594\n",
      "--------------------\n",
      "Sensitivity:\n",
      "0.9575952764358562\n",
      "--------------------\n",
      "Specificity:\n",
      "0.9969532585271605\n",
      "--------------------\n",
      "Precision:\n",
      "0.9560557341907824\n",
      "--------------------\n",
      "Negative Predictive Value:\n",
      "0.9970643974582885\n",
      "--------------------\n",
      "False Positive Rate:\n",
      "0.0030467414728394143\n",
      "--------------------\n",
      "False Discovery Rate:\n",
      "0.04394426580921758\n",
      "--------------------\n",
      "False Negative Rate:\n",
      "0.042404723564143855\n",
      "--------------------\n",
      "F1 Score:\n",
      "0.9568248860284259\n",
      "--------------------\n",
      "Matthews Correlation Coefficient:\n",
      "0.9538340659199472\n",
      "--------------------\n"
     ]
    }
   ],
   "source": [
    "utils.print_binary_classifier_metrics(y, y_pred)"
   ]
  },
  {
   "cell_type": "code",
   "execution_count": 8,
   "metadata": {},
   "outputs": [],
   "source": [
    "job[\"pred_contain_keyword\"] = y_pred.astype(bool)"
   ]
  },
  {
   "cell_type": "markdown",
   "metadata": {},
   "source": [
    "Those job cannot be found directly through keyword search, but model picked:"
   ]
  },
  {
   "cell_type": "code",
   "execution_count": 9,
   "metadata": {},
   "outputs": [
    {
     "name": "stdout",
     "output_type": "stream",
     "text": [
      "camera isp algorithm system engineer, senior to staff (taipei)(3018388)\n",
      "【系統事業】演算法工程師-台北辦公室-r33\n",
      "mis-database engineer\n",
      "[ java  ]  senior data engineer 資料工程師   #分散式系統  #技術大神 #內外部社群發展\n",
      "deep learning and computer vision embedded software engineer (cd2390)\n",
      "直流無刷馬達(bldc)演算法工程師 \n",
      "【新契約服務】規劃人員_資深商業分析師(ba)\n",
      "dior- crm assistant 客戶服務助理 (資料分析/客戶關係管理/需細心耐心喜歡數字)\n",
      "clinical database administrator\n",
      "software qa engineer (sqa) ｜港資上市公司｜ai & machine learning\n",
      "電腦視覺軟體工程師\n",
      "【寵物公園】-數據工程師 / bi工程師\n",
      "總公司 assistant manager of  market research and business analysis_台北\n",
      "港資上市公司 ｜ai & machine learning｜sr.full-stack,tech lead\n",
      "數據分析師ー日系知名廣告代理商(16683)\n",
      "【專案管理部】people partner解決方案專員 ｜資深解決方案專員（hr數據分析與自動化）\n",
      "r2: axi 演算法研發工程師-241\n",
      "accounting manager (financial service/big data analysis)\n",
      "數據分析人員 | 日系知名國際金融業 | 台北 508004\n",
      "etl 數據工程師【os】\n",
      "cross-border business analyst 蝦皮跨境商業分析師\n",
      "【營運企劃】團險數據分析暨通路企劃人員\n",
      "sr. backend developer - quantitative algorithmic trading team\n",
      "【ubereats▲ 營運專員ops specialist】文案企劃背景者佳/數據分析/底薪38k-45k+獎金_sms_865\n",
      "database engineer\n",
      "資料科學工程師-集團徵才-(數數發中心, ddt)\n",
      "2. 資料工程師 (金融業)\n",
      "【數位驅動】資料科學工程師_平台管理 (數數發中心, ddt)\n",
      "數據開發規範 – 數據工程架構師(數數發中心, ddt)\n",
      "at-【知名數位科技公司 平台數據分析師】(50-70k/內湖/ab測試驗證/數據建置埋點)\n",
      "4h新光金控_人工智慧工程師\n",
      "系統分析師／商業分析師\n",
      "【風管】數據分析財務風險管理人員\n",
      "rd21071 機器學習開發工程師\n",
      "crm數據分析主管(總公司)\n",
      "【研發部】研究所公職老師(資訊/資管類網路、資料庫、資料結構、程式設計…等)\n",
      "server software engineer /manager - algorithm developer\n",
      "[mtm10] senior database engineer\n",
      "策略辦公室人工智慧物聯網開發工程師(總公司)\n",
      "5b資訊單位-系統管理師(伺服器、網路、資料庫)\n",
      "【信義區】全球知名外商金融業_商業分析人員(8個月)_115mo\n",
      "ubereats_hpam specialist_客戶管理/問題解決/數據分析/42k-50k+季獎金/北中南強力招募中!_rfs 818\n",
      "software engineer, data engineering\n",
      "rd20495 data infrastructure engineer (資料科學架構師)\n",
      "business analysis assistant\n",
      "ba 軟體商業分析師business analyst(需具有產險經驗)\n",
      "datastage etl 數據工程師\n",
      "數據分析師(splunk)b23d\n",
      "資料分析師兼專案管理師-bi\n",
      "【美商電腦原廠科技公司】採購專員_歡迎新鮮人/供應鏈/採購/數據分析/保障13.5月_tls 840\n",
      "g.pwc taiwan 海外徵才(電腦審計/數據分析/風險管理)\n",
      "產品分析專員/助理\n",
      "[派遣至外商知名手機品牌] sales/business analyst 數據分析 - 105sl\n",
      "【aigc】machine learning team leader 機器學習單位主管\n",
      "權益政策資料庫_管理師\n",
      "國立臺灣大學電資學院資料科學學位學程誠徵專任研究助理\n",
      "d4000 java資料工程師 【台北】\n",
      "content marketing - cloud database\n",
      "運動控制演算法工程師(內湖瑞光路)\n",
      "虛實整合模型演算法開發工程師_智能製造平台部(台北)\n",
      "策略研究處 研究調查組 專案人員（數據分析）定期\n",
      "【ubereats▲ent am assistant】月薪39k-41k/數據分析/大型客戶維繫協助_rfs_865\n",
      "c.顧問類-稅務科技管理資料工程顧問\n",
      "hipo疾行軍招募計畫-產業研究分析師/ 數據分析師(可遠端工作)\n",
      "site intelligence analyst i/ii (數據分析師，資訊/生醫新鮮人可)\n",
      "【能源事業】雲端架構及資料庫工程師-台北辦公室-r12\n",
      "【server】資料工程師\n",
      "金融商業分析師-2cf13c\n",
      "senior ml&computational linguist, nlu (natural language understanding) developer\n",
      "sr. algorithm engineer\n",
      "database administrator\n",
      "新藥科技組/數據科學專案經理\n",
      "business analyst, data analysis and administration\n",
      "產品專員/產品分析師\n",
      "ai視覺演算法工程師（疫情期間 錄取後可立即報到）\n",
      "金融風險管理顧問(商業分析師)-台北(c2a)\n",
      "生物醫學海量資料分析碩士學位學程陳詠宸助理教授 誠徵 專案研究員 (延長至112年8月31日)\n",
      "商業分析師_初階財務工程人員 (金融創新部)\n",
      "dior-retail executive / supervisor  零售專員 / 主任 (需數據分析及專案管理能力)\n"
     ]
    }
   ],
   "source": [
    "print(\"\\n\".join(job.query(\"contain_keyword == True and pred_contain_keyword == False\").job_name.tolist()))"
   ]
  },
  {
   "cell_type": "code",
   "execution_count": 10,
   "metadata": {},
   "outputs": [],
   "source": [
    "json.dump(job.query(\"contain_keyword == True or pred_contain_keyword == True\")[\"id\"].unique().tolist(),\n",
    "          open(\"data/20231119_job_market_dsa_job_id.json\", \"w\"))"
   ]
  },
  {
   "cell_type": "code",
   "execution_count": null,
   "metadata": {},
   "outputs": [],
   "source": []
  }
 ],
 "metadata": {
  "kernelspec": {
   "display_name": "py_3_11",
   "language": "python",
   "name": "python3"
  },
  "language_info": {
   "codemirror_mode": {
    "name": "ipython",
    "version": 3
   },
   "file_extension": ".py",
   "mimetype": "text/x-python",
   "name": "python",
   "nbconvert_exporter": "python",
   "pygments_lexer": "ipython3",
   "version": "3.11.5"
  }
 },
 "nbformat": 4,
 "nbformat_minor": 2
}
